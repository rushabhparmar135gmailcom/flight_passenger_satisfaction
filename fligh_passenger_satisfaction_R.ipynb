{
 "cells": [
  {
   "cell_type": "code",
   "execution_count": 1,
   "id": "27db4b91",
   "metadata": {
    "vscode": {
     "languageId": "r"
    }
   },
   "outputs": [],
   "source": [
    "# We perfrom classification of customer as satified and disatisfied using Random forest and Logistic regression, while\n",
    "# compare their performance."
   ]
  },
  {
   "cell_type": "code",
   "execution_count": 176,
   "id": "4194783d",
   "metadata": {
    "vscode": {
     "languageId": "r"
    }
   },
   "outputs": [],
   "source": [
    "library(ggplot2)\n",
    "library(dplyr)\n",
    "library(glmnet)\n",
    "library(plotmo)\n",
    "library(caret)\n",
    "library(randomForest)\n",
    "library(caTools)# for data sampling\n",
    "library(car) # for vif // checking for multicollinearity\n",
    "library(yardstick)\n",
    "library(ggplot2)\n",
    "library(ROCR)"
   ]
  },
  {
   "cell_type": "code",
   "execution_count": 177,
   "id": "c03263b4",
   "metadata": {
    "vscode": {
     "languageId": "r"
    }
   },
   "outputs": [],
   "source": [
    "# 1) Data Extraction"
   ]
  },
  {
   "cell_type": "code",
   "execution_count": 253,
   "id": "80277950",
   "metadata": {
    "vscode": {
     "languageId": "r"
    }
   },
   "outputs": [],
   "source": [
    "df = read.csv(\"C:\\\\Users\\\\hp\\\\Downloads\\\\fligh_passenger_satisfaction\\\\train.csv\")\n",
    "df_1 = read.csv(\"C:\\\\Users\\\\hp\\\\Downloads\\\\fligh_passenger_satisfaction\\\\test.csv\")"
   ]
  },
  {
   "cell_type": "code",
   "execution_count": 254,
   "id": "4812e388",
   "metadata": {
    "vscode": {
     "languageId": "r"
    }
   },
   "outputs": [],
   "source": [
    "df = rbind(df,df_1)"
   ]
  },
  {
   "cell_type": "code",
   "execution_count": 255,
   "id": "82a1c95b",
   "metadata": {
    "vscode": {
     "languageId": "r"
    }
   },
   "outputs": [
    {
     "data": {
      "text/html": [
       "<table class=\"dataframe\">\n",
       "<caption>A data.frame: 129880 × 25</caption>\n",
       "<thead>\n",
       "\t<tr><th scope=col>X</th><th scope=col>id</th><th scope=col>Gender</th><th scope=col>Customer.Type</th><th scope=col>Age</th><th scope=col>Type.of.Travel</th><th scope=col>Class</th><th scope=col>Flight.Distance</th><th scope=col>Inflight.wifi.service</th><th scope=col>Departure.Arrival.time.convenient</th><th scope=col>⋯</th><th scope=col>Inflight.entertainment</th><th scope=col>On.board.service</th><th scope=col>Leg.room.service</th><th scope=col>Baggage.handling</th><th scope=col>Checkin.service</th><th scope=col>Inflight.service</th><th scope=col>Cleanliness</th><th scope=col>Departure.Delay.in.Minutes</th><th scope=col>Arrival.Delay.in.Minutes</th><th scope=col>satisfaction</th></tr>\n",
       "\t<tr><th scope=col>&lt;int&gt;</th><th scope=col>&lt;int&gt;</th><th scope=col>&lt;chr&gt;</th><th scope=col>&lt;chr&gt;</th><th scope=col>&lt;int&gt;</th><th scope=col>&lt;chr&gt;</th><th scope=col>&lt;chr&gt;</th><th scope=col>&lt;int&gt;</th><th scope=col>&lt;int&gt;</th><th scope=col>&lt;int&gt;</th><th scope=col>⋯</th><th scope=col>&lt;int&gt;</th><th scope=col>&lt;int&gt;</th><th scope=col>&lt;int&gt;</th><th scope=col>&lt;int&gt;</th><th scope=col>&lt;int&gt;</th><th scope=col>&lt;int&gt;</th><th scope=col>&lt;int&gt;</th><th scope=col>&lt;int&gt;</th><th scope=col>&lt;dbl&gt;</th><th scope=col>&lt;chr&gt;</th></tr>\n",
       "</thead>\n",
       "<tbody>\n",
       "\t<tr><td> 0</td><td> 70172</td><td>Male  </td><td>Loyal Customer   </td><td>13</td><td>Personal Travel</td><td>Eco Plus</td><td> 460</td><td>3</td><td>4</td><td>⋯</td><td>5</td><td>4</td><td>3</td><td>4</td><td>4</td><td>5</td><td>5</td><td>25</td><td>18</td><td>neutral or dissatisfied</td></tr>\n",
       "\t<tr><td> 1</td><td>  5047</td><td>Male  </td><td>disloyal Customer</td><td>25</td><td>Business travel</td><td>Business</td><td> 235</td><td>3</td><td>2</td><td>⋯</td><td>1</td><td>1</td><td>5</td><td>3</td><td>1</td><td>4</td><td>1</td><td> 1</td><td> 6</td><td>neutral or dissatisfied</td></tr>\n",
       "\t<tr><td> 2</td><td>110028</td><td>Female</td><td>Loyal Customer   </td><td>26</td><td>Business travel</td><td>Business</td><td>1142</td><td>2</td><td>2</td><td>⋯</td><td>5</td><td>4</td><td>3</td><td>4</td><td>4</td><td>4</td><td>5</td><td> 0</td><td> 0</td><td>satisfied              </td></tr>\n",
       "\t<tr><td> 3</td><td> 24026</td><td>Female</td><td>Loyal Customer   </td><td>25</td><td>Business travel</td><td>Business</td><td> 562</td><td>2</td><td>5</td><td>⋯</td><td>2</td><td>2</td><td>5</td><td>3</td><td>1</td><td>4</td><td>2</td><td>11</td><td> 9</td><td>neutral or dissatisfied</td></tr>\n",
       "\t<tr><td> 4</td><td>119299</td><td>Male  </td><td>Loyal Customer   </td><td>61</td><td>Business travel</td><td>Business</td><td> 214</td><td>3</td><td>3</td><td>⋯</td><td>3</td><td>3</td><td>4</td><td>4</td><td>3</td><td>3</td><td>3</td><td> 0</td><td> 0</td><td>satisfied              </td></tr>\n",
       "\t<tr><td> 5</td><td>111157</td><td>Female</td><td>Loyal Customer   </td><td>26</td><td>Personal Travel</td><td>Eco     </td><td>1180</td><td>3</td><td>4</td><td>⋯</td><td>1</td><td>3</td><td>4</td><td>4</td><td>4</td><td>4</td><td>1</td><td> 0</td><td> 0</td><td>neutral or dissatisfied</td></tr>\n",
       "\t<tr><td> 6</td><td> 82113</td><td>Male  </td><td>Loyal Customer   </td><td>47</td><td>Personal Travel</td><td>Eco     </td><td>1276</td><td>2</td><td>4</td><td>⋯</td><td>2</td><td>3</td><td>3</td><td>4</td><td>3</td><td>5</td><td>2</td><td> 9</td><td>23</td><td>neutral or dissatisfied</td></tr>\n",
       "\t<tr><td> 7</td><td> 96462</td><td>Female</td><td>Loyal Customer   </td><td>52</td><td>Business travel</td><td>Business</td><td>2035</td><td>4</td><td>3</td><td>⋯</td><td>5</td><td>5</td><td>5</td><td>5</td><td>4</td><td>5</td><td>4</td><td> 4</td><td> 0</td><td>satisfied              </td></tr>\n",
       "\t<tr><td> 8</td><td> 79485</td><td>Female</td><td>Loyal Customer   </td><td>41</td><td>Business travel</td><td>Business</td><td> 853</td><td>1</td><td>2</td><td>⋯</td><td>1</td><td>1</td><td>2</td><td>1</td><td>4</td><td>1</td><td>2</td><td> 0</td><td> 0</td><td>neutral or dissatisfied</td></tr>\n",
       "\t<tr><td> 9</td><td> 65725</td><td>Male  </td><td>disloyal Customer</td><td>20</td><td>Business travel</td><td>Eco     </td><td>1061</td><td>3</td><td>3</td><td>⋯</td><td>2</td><td>2</td><td>3</td><td>4</td><td>4</td><td>3</td><td>2</td><td> 0</td><td> 0</td><td>neutral or dissatisfied</td></tr>\n",
       "\t<tr><td>10</td><td> 34991</td><td>Female</td><td>disloyal Customer</td><td>24</td><td>Business travel</td><td>Eco     </td><td>1182</td><td>4</td><td>5</td><td>⋯</td><td>2</td><td>3</td><td>3</td><td>5</td><td>3</td><td>5</td><td>2</td><td> 0</td><td> 0</td><td>neutral or dissatisfied</td></tr>\n",
       "\t<tr><td>11</td><td> 51412</td><td>Female</td><td>Loyal Customer   </td><td>12</td><td>Personal Travel</td><td>Eco Plus</td><td> 308</td><td>2</td><td>4</td><td>⋯</td><td>1</td><td>1</td><td>2</td><td>5</td><td>5</td><td>5</td><td>1</td><td> 0</td><td> 0</td><td>neutral or dissatisfied</td></tr>\n",
       "\t<tr><td>12</td><td> 98628</td><td>Male  </td><td>Loyal Customer   </td><td>53</td><td>Business travel</td><td>Eco     </td><td> 834</td><td>1</td><td>4</td><td>⋯</td><td>1</td><td>1</td><td>1</td><td>3</td><td>4</td><td>4</td><td>1</td><td>28</td><td> 8</td><td>neutral or dissatisfied</td></tr>\n",
       "\t<tr><td>13</td><td> 83502</td><td>Male  </td><td>Loyal Customer   </td><td>33</td><td>Personal Travel</td><td>Eco     </td><td> 946</td><td>4</td><td>2</td><td>⋯</td><td>4</td><td>4</td><td>5</td><td>2</td><td>2</td><td>2</td><td>4</td><td> 0</td><td> 0</td><td>satisfied              </td></tr>\n",
       "\t<tr><td>14</td><td> 95789</td><td>Female</td><td>Loyal Customer   </td><td>26</td><td>Personal Travel</td><td>Eco     </td><td> 453</td><td>3</td><td>2</td><td>⋯</td><td>2</td><td>4</td><td>3</td><td>2</td><td>2</td><td>1</td><td>2</td><td>43</td><td>35</td><td>neutral or dissatisfied</td></tr>\n",
       "\t<tr><td>15</td><td>100580</td><td>Male  </td><td>disloyal Customer</td><td>13</td><td>Business travel</td><td>Eco     </td><td> 486</td><td>2</td><td>1</td><td>⋯</td><td>4</td><td>2</td><td>1</td><td>4</td><td>1</td><td>3</td><td>4</td><td> 1</td><td> 0</td><td>neutral or dissatisfied</td></tr>\n",
       "\t<tr><td>16</td><td> 71142</td><td>Female</td><td>Loyal Customer   </td><td>26</td><td>Business travel</td><td>Business</td><td>2123</td><td>3</td><td>3</td><td>⋯</td><td>4</td><td>5</td><td>3</td><td>4</td><td>5</td><td>4</td><td>4</td><td>49</td><td>51</td><td>satisfied              </td></tr>\n",
       "\t<tr><td>17</td><td>127461</td><td>Male  </td><td>Loyal Customer   </td><td>41</td><td>Business travel</td><td>Business</td><td>2075</td><td>4</td><td>4</td><td>⋯</td><td>5</td><td>5</td><td>5</td><td>5</td><td>3</td><td>5</td><td>5</td><td> 0</td><td>10</td><td>satisfied              </td></tr>\n",
       "\t<tr><td>18</td><td> 70354</td><td>Female</td><td>Loyal Customer   </td><td>45</td><td>Business travel</td><td>Business</td><td>2486</td><td>4</td><td>4</td><td>⋯</td><td>5</td><td>5</td><td>5</td><td>5</td><td>3</td><td>5</td><td>4</td><td> 7</td><td> 5</td><td>satisfied              </td></tr>\n",
       "\t<tr><td>19</td><td> 66246</td><td>Male  </td><td>Loyal Customer   </td><td>38</td><td>Personal Travel</td><td>Eco     </td><td> 460</td><td>2</td><td>3</td><td>⋯</td><td>5</td><td>1</td><td>2</td><td>4</td><td>3</td><td>2</td><td>5</td><td>17</td><td>18</td><td>neutral or dissatisfied</td></tr>\n",
       "\t<tr><td>20</td><td> 39076</td><td>Male  </td><td>Loyal Customer   </td><td> 9</td><td>Business travel</td><td>Eco     </td><td>1174</td><td>2</td><td>4</td><td>⋯</td><td>2</td><td>1</td><td>5</td><td>3</td><td>4</td><td>3</td><td>2</td><td> 0</td><td> 4</td><td>neutral or dissatisfied</td></tr>\n",
       "\t<tr><td>21</td><td> 22434</td><td>Female</td><td>Loyal Customer   </td><td>17</td><td>Personal Travel</td><td>Eco     </td><td> 208</td><td>3</td><td>1</td><td>⋯</td><td>5</td><td>2</td><td>5</td><td>3</td><td>3</td><td>4</td><td>5</td><td> 0</td><td> 0</td><td>neutral or dissatisfied</td></tr>\n",
       "\t<tr><td>22</td><td> 43510</td><td>Female</td><td>Loyal Customer   </td><td>43</td><td>Personal Travel</td><td>Eco     </td><td> 752</td><td>3</td><td>5</td><td>⋯</td><td>3</td><td>3</td><td>3</td><td>5</td><td>3</td><td>3</td><td>4</td><td>52</td><td>29</td><td>neutral or dissatisfied</td></tr>\n",
       "\t<tr><td>23</td><td>114090</td><td>Female</td><td>Loyal Customer   </td><td>58</td><td>Personal Travel</td><td>Eco     </td><td>2139</td><td>4</td><td>5</td><td>⋯</td><td>4</td><td>4</td><td>4</td><td>4</td><td>2</td><td>4</td><td>2</td><td> 0</td><td> 0</td><td>neutral or dissatisfied</td></tr>\n",
       "\t<tr><td>24</td><td>105420</td><td>Female</td><td>disloyal Customer</td><td>23</td><td>Business travel</td><td>Eco     </td><td> 452</td><td>5</td><td>0</td><td>⋯</td><td>1</td><td>4</td><td>5</td><td>5</td><td>3</td><td>5</td><td>1</td><td>54</td><td>44</td><td>satisfied              </td></tr>\n",
       "\t<tr><td>25</td><td>102956</td><td>Male  </td><td>Loyal Customer   </td><td>57</td><td>Personal Travel</td><td>Eco     </td><td> 719</td><td>4</td><td>4</td><td>⋯</td><td>5</td><td>3</td><td>2</td><td>4</td><td>4</td><td>5</td><td>5</td><td>27</td><td>28</td><td>neutral or dissatisfied</td></tr>\n",
       "\t<tr><td>26</td><td> 18510</td><td>Female</td><td>Loyal Customer   </td><td>33</td><td>Business travel</td><td>Business</td><td>1561</td><td>1</td><td>1</td><td>⋯</td><td>4</td><td>4</td><td>4</td><td>3</td><td>5</td><td>4</td><td>2</td><td> 0</td><td> 0</td><td>satisfied              </td></tr>\n",
       "\t<tr><td>27</td><td> 14925</td><td>Female</td><td>Loyal Customer   </td><td>49</td><td>Business travel</td><td>Eco Plus</td><td> 315</td><td>4</td><td>4</td><td>⋯</td><td>4</td><td>4</td><td>4</td><td>4</td><td>2</td><td>4</td><td>2</td><td> 0</td><td> 8</td><td>satisfied              </td></tr>\n",
       "\t<tr><td>28</td><td>118319</td><td>Female</td><td>Loyal Customer   </td><td>36</td><td>Business travel</td><td>Business</td><td>3347</td><td>3</td><td>1</td><td>⋯</td><td>3</td><td>3</td><td>3</td><td>3</td><td>2</td><td>3</td><td>2</td><td>18</td><td>12</td><td>neutral or dissatisfied</td></tr>\n",
       "\t<tr><td>29</td><td> 75460</td><td>Male  </td><td>Loyal Customer   </td><td>22</td><td>Personal Travel</td><td>Eco     </td><td>2342</td><td>3</td><td>2</td><td>⋯</td><td>3</td><td>2</td><td>4</td><td>3</td><td>4</td><td>2</td><td>3</td><td>19</td><td> 0</td><td>neutral or dissatisfied</td></tr>\n",
       "\t<tr><td>⋮</td><td>⋮</td><td>⋮</td><td>⋮</td><td>⋮</td><td>⋮</td><td>⋮</td><td>⋮</td><td>⋮</td><td>⋮</td><td>⋱</td><td>⋮</td><td>⋮</td><td>⋮</td><td>⋮</td><td>⋮</td><td>⋮</td><td>⋮</td><td>⋮</td><td>⋮</td><td>⋮</td></tr>\n",
       "\t<tr><td>25946</td><td> 65833</td><td>Female</td><td>Loyal Customer   </td><td>25</td><td>Business travel</td><td>Business</td><td>1389</td><td>1</td><td>4</td><td>⋯</td><td>1</td><td>1</td><td>1</td><td>4</td><td>4</td><td>3</td><td>1</td><td> 0</td><td> 0</td><td>neutral or dissatisfied</td></tr>\n",
       "\t<tr><td>25947</td><td> 36449</td><td>Male  </td><td>Loyal Customer   </td><td>16</td><td>Business travel</td><td>Eco Plus</td><td>1368</td><td>0</td><td>4</td><td>⋯</td><td>2</td><td>5</td><td>1</td><td>4</td><td>4</td><td>2</td><td>2</td><td> 0</td><td> 0</td><td>satisfied              </td></tr>\n",
       "\t<tr><td>25948</td><td> 62329</td><td>Male  </td><td>Loyal Customer   </td><td>37</td><td>Personal Travel</td><td>Eco     </td><td> 414</td><td>2</td><td>4</td><td>⋯</td><td>4</td><td>1</td><td>2</td><td>3</td><td>4</td><td>3</td><td>4</td><td> 0</td><td> 0</td><td>neutral or dissatisfied</td></tr>\n",
       "\t<tr><td>25949</td><td> 37905</td><td>Male  </td><td>disloyal Customer</td><td>56</td><td>Business travel</td><td>Eco     </td><td> 668</td><td>5</td><td>0</td><td>⋯</td><td>2</td><td>4</td><td>3</td><td>3</td><td>4</td><td>5</td><td>2</td><td> 0</td><td> 0</td><td>satisfied              </td></tr>\n",
       "\t<tr><td>25950</td><td>111771</td><td>Female</td><td>Loyal Customer   </td><td>52</td><td>Business travel</td><td>Business</td><td>1620</td><td>4</td><td>4</td><td>⋯</td><td>4</td><td>4</td><td>4</td><td>4</td><td>4</td><td>4</td><td>5</td><td>30</td><td>26</td><td>satisfied              </td></tr>\n",
       "\t<tr><td>25951</td><td> 27201</td><td>Female</td><td>disloyal Customer</td><td>21</td><td>Business travel</td><td>Eco     </td><td> 752</td><td>0</td><td>0</td><td>⋯</td><td>2</td><td>5</td><td>3</td><td>4</td><td>3</td><td>4</td><td>2</td><td> 0</td><td> 0</td><td>satisfied              </td></tr>\n",
       "\t<tr><td>25952</td><td> 76397</td><td>Male  </td><td>Loyal Customer   </td><td>60</td><td>Personal Travel</td><td>Eco     </td><td> 931</td><td>2</td><td>3</td><td>⋯</td><td>3</td><td>4</td><td>1</td><td>2</td><td>4</td><td>3</td><td>3</td><td> 0</td><td> 0</td><td>neutral or dissatisfied</td></tr>\n",
       "\t<tr><td>25953</td><td> 27759</td><td>Female</td><td>Loyal Customer   </td><td>43</td><td>Business travel</td><td>Business</td><td>1448</td><td>4</td><td>1</td><td>⋯</td><td>5</td><td>5</td><td>5</td><td>5</td><td>5</td><td>5</td><td>2</td><td> 0</td><td> 0</td><td>satisfied              </td></tr>\n",
       "\t<tr><td>25954</td><td> 79286</td><td>Female</td><td>Loyal Customer   </td><td>29</td><td>Business travel</td><td>Business</td><td>2248</td><td>4</td><td>4</td><td>⋯</td><td>4</td><td>3</td><td>5</td><td>2</td><td>3</td><td>4</td><td>4</td><td> 1</td><td> 0</td><td>neutral or dissatisfied</td></tr>\n",
       "\t<tr><td>25955</td><td> 56083</td><td>Female</td><td>Loyal Customer   </td><td>65</td><td>Personal Travel</td><td>Eco     </td><td>2475</td><td>3</td><td>4</td><td>⋯</td><td>3</td><td>4</td><td>4</td><td>5</td><td>3</td><td>4</td><td>3</td><td> 0</td><td> 0</td><td>neutral or dissatisfied</td></tr>\n",
       "\t<tr><td>25956</td><td>109108</td><td>Female</td><td>Loyal Customer   </td><td>29</td><td>Business travel</td><td>Business</td><td>2864</td><td>5</td><td>5</td><td>⋯</td><td>3</td><td>5</td><td>5</td><td>5</td><td>3</td><td>5</td><td>3</td><td> 0</td><td> 0</td><td>satisfied              </td></tr>\n",
       "\t<tr><td>25957</td><td>109899</td><td>Female</td><td>disloyal Customer</td><td>16</td><td>Business travel</td><td>Eco     </td><td>1073</td><td>2</td><td>2</td><td>⋯</td><td>3</td><td>5</td><td>1</td><td>2</td><td>1</td><td>5</td><td>3</td><td>21</td><td> 3</td><td>neutral or dissatisfied</td></tr>\n",
       "\t<tr><td>25958</td><td> 25269</td><td>Male  </td><td>Loyal Customer   </td><td>16</td><td>Business travel</td><td>Business</td><td>3149</td><td>3</td><td>5</td><td>⋯</td><td>3</td><td>1</td><td>5</td><td>4</td><td>1</td><td>3</td><td>3</td><td> 0</td><td> 0</td><td>neutral or dissatisfied</td></tr>\n",
       "\t<tr><td>25959</td><td> 74541</td><td>Female</td><td>Loyal Customer   </td><td>58</td><td>Business travel</td><td>Eco     </td><td>1171</td><td>2</td><td>4</td><td>⋯</td><td>2</td><td>2</td><td>2</td><td>2</td><td>2</td><td>2</td><td>1</td><td> 0</td><td>18</td><td>neutral or dissatisfied</td></tr>\n",
       "\t<tr><td>25960</td><td> 86010</td><td>Female</td><td>disloyal Customer</td><td>23</td><td>Business travel</td><td>Eco     </td><td> 447</td><td>4</td><td>0</td><td>⋯</td><td>1</td><td>4</td><td>4</td><td>5</td><td>5</td><td>4</td><td>1</td><td> 0</td><td> 0</td><td>neutral or dissatisfied</td></tr>\n",
       "\t<tr><td>25961</td><td>126836</td><td>Male  </td><td>Loyal Customer   </td><td>51</td><td>Business travel</td><td>Business</td><td>2296</td><td>3</td><td>3</td><td>⋯</td><td>5</td><td>5</td><td>5</td><td>5</td><td>3</td><td>5</td><td>3</td><td> 2</td><td> 0</td><td>satisfied              </td></tr>\n",
       "\t<tr><td>25962</td><td>  2313</td><td>Female</td><td>disloyal Customer</td><td>21</td><td>Business travel</td><td>Eco     </td><td> 691</td><td>4</td><td>4</td><td>⋯</td><td>2</td><td>2</td><td>1</td><td>1</td><td>2</td><td>1</td><td>2</td><td> 0</td><td> 0</td><td>neutral or dissatisfied</td></tr>\n",
       "\t<tr><td>25963</td><td> 65035</td><td>Female</td><td>Loyal Customer   </td><td>65</td><td>Personal Travel</td><td>Eco     </td><td> 247</td><td>3</td><td>4</td><td>⋯</td><td>4</td><td>4</td><td>0</td><td>4</td><td>3</td><td>4</td><td>5</td><td> 0</td><td> 0</td><td>neutral or dissatisfied</td></tr>\n",
       "\t<tr><td>25964</td><td>111325</td><td>Female</td><td>Loyal Customer   </td><td>48</td><td>Business travel</td><td>Eco     </td><td> 283</td><td>3</td><td>1</td><td>⋯</td><td>3</td><td>3</td><td>3</td><td>3</td><td>4</td><td>3</td><td>1</td><td>38</td><td>28</td><td>neutral or dissatisfied</td></tr>\n",
       "\t<tr><td>25965</td><td> 15949</td><td>Female</td><td>Loyal Customer   </td><td>51</td><td>Personal Travel</td><td>Eco     </td><td> 528</td><td>4</td><td>4</td><td>⋯</td><td>5</td><td>5</td><td>4</td><td>5</td><td>4</td><td>5</td><td>4</td><td> 0</td><td> 0</td><td>neutral or dissatisfied</td></tr>\n",
       "\t<tr><td>25966</td><td> 30263</td><td>Male  </td><td>disloyal Customer</td><td>42</td><td>Business travel</td><td>Eco     </td><td>1024</td><td>4</td><td>4</td><td>⋯</td><td>3</td><td>3</td><td>1</td><td>2</td><td>2</td><td>3</td><td>3</td><td> 0</td><td>17</td><td>neutral or dissatisfied</td></tr>\n",
       "\t<tr><td>25967</td><td> 90347</td><td>Female</td><td>disloyal Customer</td><td>39</td><td>Business travel</td><td>Business</td><td> 404</td><td>1</td><td>1</td><td>⋯</td><td>2</td><td>5</td><td>3</td><td>4</td><td>4</td><td>4</td><td>2</td><td> 0</td><td> 0</td><td>neutral or dissatisfied</td></tr>\n",
       "\t<tr><td>25968</td><td> 86816</td><td>Male  </td><td>Loyal Customer   </td><td>41</td><td>Business travel</td><td>Eco     </td><td> 692</td><td>2</td><td>2</td><td>⋯</td><td>2</td><td>2</td><td>3</td><td>3</td><td>2</td><td>3</td><td>2</td><td>15</td><td> 3</td><td>neutral or dissatisfied</td></tr>\n",
       "\t<tr><td>25969</td><td>120654</td><td>Male  </td><td>Loyal Customer   </td><td>52</td><td>Business travel</td><td>Business</td><td> 280</td><td>3</td><td>3</td><td>⋯</td><td>4</td><td>4</td><td>4</td><td>4</td><td>3</td><td>4</td><td>3</td><td> 0</td><td> 0</td><td>satisfied              </td></tr>\n",
       "\t<tr><td>25970</td><td> 25309</td><td>Female</td><td>disloyal Customer</td><td>36</td><td>Business travel</td><td>Eco     </td><td> 432</td><td>1</td><td>5</td><td>⋯</td><td>4</td><td>5</td><td>2</td><td>5</td><td>2</td><td>3</td><td>4</td><td> 0</td><td> 0</td><td>neutral or dissatisfied</td></tr>\n",
       "\t<tr><td>25971</td><td> 78463</td><td>Male  </td><td>disloyal Customer</td><td>34</td><td>Business travel</td><td>Business</td><td> 526</td><td>3</td><td>3</td><td>⋯</td><td>4</td><td>3</td><td>2</td><td>4</td><td>4</td><td>5</td><td>4</td><td> 0</td><td> 0</td><td>neutral or dissatisfied</td></tr>\n",
       "\t<tr><td>25972</td><td> 71167</td><td>Male  </td><td>Loyal Customer   </td><td>23</td><td>Business travel</td><td>Business</td><td> 646</td><td>4</td><td>4</td><td>⋯</td><td>4</td><td>4</td><td>5</td><td>5</td><td>5</td><td>5</td><td>4</td><td> 0</td><td> 0</td><td>satisfied              </td></tr>\n",
       "\t<tr><td>25973</td><td> 37675</td><td>Female</td><td>Loyal Customer   </td><td>17</td><td>Personal Travel</td><td>Eco     </td><td> 828</td><td>2</td><td>5</td><td>⋯</td><td>2</td><td>4</td><td>3</td><td>4</td><td>5</td><td>4</td><td>2</td><td> 0</td><td> 0</td><td>neutral or dissatisfied</td></tr>\n",
       "\t<tr><td>25974</td><td> 90086</td><td>Male  </td><td>Loyal Customer   </td><td>14</td><td>Business travel</td><td>Business</td><td>1127</td><td>3</td><td>3</td><td>⋯</td><td>4</td><td>3</td><td>2</td><td>5</td><td>4</td><td>5</td><td>4</td><td> 0</td><td> 0</td><td>satisfied              </td></tr>\n",
       "\t<tr><td>25975</td><td> 34799</td><td>Female</td><td>Loyal Customer   </td><td>42</td><td>Personal Travel</td><td>Eco     </td><td> 264</td><td>2</td><td>5</td><td>⋯</td><td>1</td><td>1</td><td>2</td><td>1</td><td>1</td><td>1</td><td>1</td><td> 0</td><td> 0</td><td>neutral or dissatisfied</td></tr>\n",
       "</tbody>\n",
       "</table>\n"
      ],
      "text/latex": [
       "A data.frame: 129880 × 25\n",
       "\\begin{tabular}{lllllllllllllllllllll}\n",
       " X & id & Gender & Customer.Type & Age & Type.of.Travel & Class & Flight.Distance & Inflight.wifi.service & Departure.Arrival.time.convenient & ⋯ & Inflight.entertainment & On.board.service & Leg.room.service & Baggage.handling & Checkin.service & Inflight.service & Cleanliness & Departure.Delay.in.Minutes & Arrival.Delay.in.Minutes & satisfaction\\\\\n",
       " <int> & <int> & <chr> & <chr> & <int> & <chr> & <chr> & <int> & <int> & <int> & ⋯ & <int> & <int> & <int> & <int> & <int> & <int> & <int> & <int> & <dbl> & <chr>\\\\\n",
       "\\hline\n",
       "\t  0 &  70172 & Male   & Loyal Customer    & 13 & Personal Travel & Eco Plus &  460 & 3 & 4 & ⋯ & 5 & 4 & 3 & 4 & 4 & 5 & 5 & 25 & 18 & neutral or dissatisfied\\\\\n",
       "\t  1 &   5047 & Male   & disloyal Customer & 25 & Business travel & Business &  235 & 3 & 2 & ⋯ & 1 & 1 & 5 & 3 & 1 & 4 & 1 &  1 &  6 & neutral or dissatisfied\\\\\n",
       "\t  2 & 110028 & Female & Loyal Customer    & 26 & Business travel & Business & 1142 & 2 & 2 & ⋯ & 5 & 4 & 3 & 4 & 4 & 4 & 5 &  0 &  0 & satisfied              \\\\\n",
       "\t  3 &  24026 & Female & Loyal Customer    & 25 & Business travel & Business &  562 & 2 & 5 & ⋯ & 2 & 2 & 5 & 3 & 1 & 4 & 2 & 11 &  9 & neutral or dissatisfied\\\\\n",
       "\t  4 & 119299 & Male   & Loyal Customer    & 61 & Business travel & Business &  214 & 3 & 3 & ⋯ & 3 & 3 & 4 & 4 & 3 & 3 & 3 &  0 &  0 & satisfied              \\\\\n",
       "\t  5 & 111157 & Female & Loyal Customer    & 26 & Personal Travel & Eco      & 1180 & 3 & 4 & ⋯ & 1 & 3 & 4 & 4 & 4 & 4 & 1 &  0 &  0 & neutral or dissatisfied\\\\\n",
       "\t  6 &  82113 & Male   & Loyal Customer    & 47 & Personal Travel & Eco      & 1276 & 2 & 4 & ⋯ & 2 & 3 & 3 & 4 & 3 & 5 & 2 &  9 & 23 & neutral or dissatisfied\\\\\n",
       "\t  7 &  96462 & Female & Loyal Customer    & 52 & Business travel & Business & 2035 & 4 & 3 & ⋯ & 5 & 5 & 5 & 5 & 4 & 5 & 4 &  4 &  0 & satisfied              \\\\\n",
       "\t  8 &  79485 & Female & Loyal Customer    & 41 & Business travel & Business &  853 & 1 & 2 & ⋯ & 1 & 1 & 2 & 1 & 4 & 1 & 2 &  0 &  0 & neutral or dissatisfied\\\\\n",
       "\t  9 &  65725 & Male   & disloyal Customer & 20 & Business travel & Eco      & 1061 & 3 & 3 & ⋯ & 2 & 2 & 3 & 4 & 4 & 3 & 2 &  0 &  0 & neutral or dissatisfied\\\\\n",
       "\t 10 &  34991 & Female & disloyal Customer & 24 & Business travel & Eco      & 1182 & 4 & 5 & ⋯ & 2 & 3 & 3 & 5 & 3 & 5 & 2 &  0 &  0 & neutral or dissatisfied\\\\\n",
       "\t 11 &  51412 & Female & Loyal Customer    & 12 & Personal Travel & Eco Plus &  308 & 2 & 4 & ⋯ & 1 & 1 & 2 & 5 & 5 & 5 & 1 &  0 &  0 & neutral or dissatisfied\\\\\n",
       "\t 12 &  98628 & Male   & Loyal Customer    & 53 & Business travel & Eco      &  834 & 1 & 4 & ⋯ & 1 & 1 & 1 & 3 & 4 & 4 & 1 & 28 &  8 & neutral or dissatisfied\\\\\n",
       "\t 13 &  83502 & Male   & Loyal Customer    & 33 & Personal Travel & Eco      &  946 & 4 & 2 & ⋯ & 4 & 4 & 5 & 2 & 2 & 2 & 4 &  0 &  0 & satisfied              \\\\\n",
       "\t 14 &  95789 & Female & Loyal Customer    & 26 & Personal Travel & Eco      &  453 & 3 & 2 & ⋯ & 2 & 4 & 3 & 2 & 2 & 1 & 2 & 43 & 35 & neutral or dissatisfied\\\\\n",
       "\t 15 & 100580 & Male   & disloyal Customer & 13 & Business travel & Eco      &  486 & 2 & 1 & ⋯ & 4 & 2 & 1 & 4 & 1 & 3 & 4 &  1 &  0 & neutral or dissatisfied\\\\\n",
       "\t 16 &  71142 & Female & Loyal Customer    & 26 & Business travel & Business & 2123 & 3 & 3 & ⋯ & 4 & 5 & 3 & 4 & 5 & 4 & 4 & 49 & 51 & satisfied              \\\\\n",
       "\t 17 & 127461 & Male   & Loyal Customer    & 41 & Business travel & Business & 2075 & 4 & 4 & ⋯ & 5 & 5 & 5 & 5 & 3 & 5 & 5 &  0 & 10 & satisfied              \\\\\n",
       "\t 18 &  70354 & Female & Loyal Customer    & 45 & Business travel & Business & 2486 & 4 & 4 & ⋯ & 5 & 5 & 5 & 5 & 3 & 5 & 4 &  7 &  5 & satisfied              \\\\\n",
       "\t 19 &  66246 & Male   & Loyal Customer    & 38 & Personal Travel & Eco      &  460 & 2 & 3 & ⋯ & 5 & 1 & 2 & 4 & 3 & 2 & 5 & 17 & 18 & neutral or dissatisfied\\\\\n",
       "\t 20 &  39076 & Male   & Loyal Customer    &  9 & Business travel & Eco      & 1174 & 2 & 4 & ⋯ & 2 & 1 & 5 & 3 & 4 & 3 & 2 &  0 &  4 & neutral or dissatisfied\\\\\n",
       "\t 21 &  22434 & Female & Loyal Customer    & 17 & Personal Travel & Eco      &  208 & 3 & 1 & ⋯ & 5 & 2 & 5 & 3 & 3 & 4 & 5 &  0 &  0 & neutral or dissatisfied\\\\\n",
       "\t 22 &  43510 & Female & Loyal Customer    & 43 & Personal Travel & Eco      &  752 & 3 & 5 & ⋯ & 3 & 3 & 3 & 5 & 3 & 3 & 4 & 52 & 29 & neutral or dissatisfied\\\\\n",
       "\t 23 & 114090 & Female & Loyal Customer    & 58 & Personal Travel & Eco      & 2139 & 4 & 5 & ⋯ & 4 & 4 & 4 & 4 & 2 & 4 & 2 &  0 &  0 & neutral or dissatisfied\\\\\n",
       "\t 24 & 105420 & Female & disloyal Customer & 23 & Business travel & Eco      &  452 & 5 & 0 & ⋯ & 1 & 4 & 5 & 5 & 3 & 5 & 1 & 54 & 44 & satisfied              \\\\\n",
       "\t 25 & 102956 & Male   & Loyal Customer    & 57 & Personal Travel & Eco      &  719 & 4 & 4 & ⋯ & 5 & 3 & 2 & 4 & 4 & 5 & 5 & 27 & 28 & neutral or dissatisfied\\\\\n",
       "\t 26 &  18510 & Female & Loyal Customer    & 33 & Business travel & Business & 1561 & 1 & 1 & ⋯ & 4 & 4 & 4 & 3 & 5 & 4 & 2 &  0 &  0 & satisfied              \\\\\n",
       "\t 27 &  14925 & Female & Loyal Customer    & 49 & Business travel & Eco Plus &  315 & 4 & 4 & ⋯ & 4 & 4 & 4 & 4 & 2 & 4 & 2 &  0 &  8 & satisfied              \\\\\n",
       "\t 28 & 118319 & Female & Loyal Customer    & 36 & Business travel & Business & 3347 & 3 & 1 & ⋯ & 3 & 3 & 3 & 3 & 2 & 3 & 2 & 18 & 12 & neutral or dissatisfied\\\\\n",
       "\t 29 &  75460 & Male   & Loyal Customer    & 22 & Personal Travel & Eco      & 2342 & 3 & 2 & ⋯ & 3 & 2 & 4 & 3 & 4 & 2 & 3 & 19 &  0 & neutral or dissatisfied\\\\\n",
       "\t ⋮ & ⋮ & ⋮ & ⋮ & ⋮ & ⋮ & ⋮ & ⋮ & ⋮ & ⋮ & ⋱ & ⋮ & ⋮ & ⋮ & ⋮ & ⋮ & ⋮ & ⋮ & ⋮ & ⋮ & ⋮\\\\\n",
       "\t 25946 &  65833 & Female & Loyal Customer    & 25 & Business travel & Business & 1389 & 1 & 4 & ⋯ & 1 & 1 & 1 & 4 & 4 & 3 & 1 &  0 &  0 & neutral or dissatisfied\\\\\n",
       "\t 25947 &  36449 & Male   & Loyal Customer    & 16 & Business travel & Eco Plus & 1368 & 0 & 4 & ⋯ & 2 & 5 & 1 & 4 & 4 & 2 & 2 &  0 &  0 & satisfied              \\\\\n",
       "\t 25948 &  62329 & Male   & Loyal Customer    & 37 & Personal Travel & Eco      &  414 & 2 & 4 & ⋯ & 4 & 1 & 2 & 3 & 4 & 3 & 4 &  0 &  0 & neutral or dissatisfied\\\\\n",
       "\t 25949 &  37905 & Male   & disloyal Customer & 56 & Business travel & Eco      &  668 & 5 & 0 & ⋯ & 2 & 4 & 3 & 3 & 4 & 5 & 2 &  0 &  0 & satisfied              \\\\\n",
       "\t 25950 & 111771 & Female & Loyal Customer    & 52 & Business travel & Business & 1620 & 4 & 4 & ⋯ & 4 & 4 & 4 & 4 & 4 & 4 & 5 & 30 & 26 & satisfied              \\\\\n",
       "\t 25951 &  27201 & Female & disloyal Customer & 21 & Business travel & Eco      &  752 & 0 & 0 & ⋯ & 2 & 5 & 3 & 4 & 3 & 4 & 2 &  0 &  0 & satisfied              \\\\\n",
       "\t 25952 &  76397 & Male   & Loyal Customer    & 60 & Personal Travel & Eco      &  931 & 2 & 3 & ⋯ & 3 & 4 & 1 & 2 & 4 & 3 & 3 &  0 &  0 & neutral or dissatisfied\\\\\n",
       "\t 25953 &  27759 & Female & Loyal Customer    & 43 & Business travel & Business & 1448 & 4 & 1 & ⋯ & 5 & 5 & 5 & 5 & 5 & 5 & 2 &  0 &  0 & satisfied              \\\\\n",
       "\t 25954 &  79286 & Female & Loyal Customer    & 29 & Business travel & Business & 2248 & 4 & 4 & ⋯ & 4 & 3 & 5 & 2 & 3 & 4 & 4 &  1 &  0 & neutral or dissatisfied\\\\\n",
       "\t 25955 &  56083 & Female & Loyal Customer    & 65 & Personal Travel & Eco      & 2475 & 3 & 4 & ⋯ & 3 & 4 & 4 & 5 & 3 & 4 & 3 &  0 &  0 & neutral or dissatisfied\\\\\n",
       "\t 25956 & 109108 & Female & Loyal Customer    & 29 & Business travel & Business & 2864 & 5 & 5 & ⋯ & 3 & 5 & 5 & 5 & 3 & 5 & 3 &  0 &  0 & satisfied              \\\\\n",
       "\t 25957 & 109899 & Female & disloyal Customer & 16 & Business travel & Eco      & 1073 & 2 & 2 & ⋯ & 3 & 5 & 1 & 2 & 1 & 5 & 3 & 21 &  3 & neutral or dissatisfied\\\\\n",
       "\t 25958 &  25269 & Male   & Loyal Customer    & 16 & Business travel & Business & 3149 & 3 & 5 & ⋯ & 3 & 1 & 5 & 4 & 1 & 3 & 3 &  0 &  0 & neutral or dissatisfied\\\\\n",
       "\t 25959 &  74541 & Female & Loyal Customer    & 58 & Business travel & Eco      & 1171 & 2 & 4 & ⋯ & 2 & 2 & 2 & 2 & 2 & 2 & 1 &  0 & 18 & neutral or dissatisfied\\\\\n",
       "\t 25960 &  86010 & Female & disloyal Customer & 23 & Business travel & Eco      &  447 & 4 & 0 & ⋯ & 1 & 4 & 4 & 5 & 5 & 4 & 1 &  0 &  0 & neutral or dissatisfied\\\\\n",
       "\t 25961 & 126836 & Male   & Loyal Customer    & 51 & Business travel & Business & 2296 & 3 & 3 & ⋯ & 5 & 5 & 5 & 5 & 3 & 5 & 3 &  2 &  0 & satisfied              \\\\\n",
       "\t 25962 &   2313 & Female & disloyal Customer & 21 & Business travel & Eco      &  691 & 4 & 4 & ⋯ & 2 & 2 & 1 & 1 & 2 & 1 & 2 &  0 &  0 & neutral or dissatisfied\\\\\n",
       "\t 25963 &  65035 & Female & Loyal Customer    & 65 & Personal Travel & Eco      &  247 & 3 & 4 & ⋯ & 4 & 4 & 0 & 4 & 3 & 4 & 5 &  0 &  0 & neutral or dissatisfied\\\\\n",
       "\t 25964 & 111325 & Female & Loyal Customer    & 48 & Business travel & Eco      &  283 & 3 & 1 & ⋯ & 3 & 3 & 3 & 3 & 4 & 3 & 1 & 38 & 28 & neutral or dissatisfied\\\\\n",
       "\t 25965 &  15949 & Female & Loyal Customer    & 51 & Personal Travel & Eco      &  528 & 4 & 4 & ⋯ & 5 & 5 & 4 & 5 & 4 & 5 & 4 &  0 &  0 & neutral or dissatisfied\\\\\n",
       "\t 25966 &  30263 & Male   & disloyal Customer & 42 & Business travel & Eco      & 1024 & 4 & 4 & ⋯ & 3 & 3 & 1 & 2 & 2 & 3 & 3 &  0 & 17 & neutral or dissatisfied\\\\\n",
       "\t 25967 &  90347 & Female & disloyal Customer & 39 & Business travel & Business &  404 & 1 & 1 & ⋯ & 2 & 5 & 3 & 4 & 4 & 4 & 2 &  0 &  0 & neutral or dissatisfied\\\\\n",
       "\t 25968 &  86816 & Male   & Loyal Customer    & 41 & Business travel & Eco      &  692 & 2 & 2 & ⋯ & 2 & 2 & 3 & 3 & 2 & 3 & 2 & 15 &  3 & neutral or dissatisfied\\\\\n",
       "\t 25969 & 120654 & Male   & Loyal Customer    & 52 & Business travel & Business &  280 & 3 & 3 & ⋯ & 4 & 4 & 4 & 4 & 3 & 4 & 3 &  0 &  0 & satisfied              \\\\\n",
       "\t 25970 &  25309 & Female & disloyal Customer & 36 & Business travel & Eco      &  432 & 1 & 5 & ⋯ & 4 & 5 & 2 & 5 & 2 & 3 & 4 &  0 &  0 & neutral or dissatisfied\\\\\n",
       "\t 25971 &  78463 & Male   & disloyal Customer & 34 & Business travel & Business &  526 & 3 & 3 & ⋯ & 4 & 3 & 2 & 4 & 4 & 5 & 4 &  0 &  0 & neutral or dissatisfied\\\\\n",
       "\t 25972 &  71167 & Male   & Loyal Customer    & 23 & Business travel & Business &  646 & 4 & 4 & ⋯ & 4 & 4 & 5 & 5 & 5 & 5 & 4 &  0 &  0 & satisfied              \\\\\n",
       "\t 25973 &  37675 & Female & Loyal Customer    & 17 & Personal Travel & Eco      &  828 & 2 & 5 & ⋯ & 2 & 4 & 3 & 4 & 5 & 4 & 2 &  0 &  0 & neutral or dissatisfied\\\\\n",
       "\t 25974 &  90086 & Male   & Loyal Customer    & 14 & Business travel & Business & 1127 & 3 & 3 & ⋯ & 4 & 3 & 2 & 5 & 4 & 5 & 4 &  0 &  0 & satisfied              \\\\\n",
       "\t 25975 &  34799 & Female & Loyal Customer    & 42 & Personal Travel & Eco      &  264 & 2 & 5 & ⋯ & 1 & 1 & 2 & 1 & 1 & 1 & 1 &  0 &  0 & neutral or dissatisfied\\\\\n",
       "\\end{tabular}\n"
      ],
      "text/markdown": [
       "\n",
       "A data.frame: 129880 × 25\n",
       "\n",
       "| X &lt;int&gt; | id &lt;int&gt; | Gender &lt;chr&gt; | Customer.Type &lt;chr&gt; | Age &lt;int&gt; | Type.of.Travel &lt;chr&gt; | Class &lt;chr&gt; | Flight.Distance &lt;int&gt; | Inflight.wifi.service &lt;int&gt; | Departure.Arrival.time.convenient &lt;int&gt; | ⋯ ⋯ | Inflight.entertainment &lt;int&gt; | On.board.service &lt;int&gt; | Leg.room.service &lt;int&gt; | Baggage.handling &lt;int&gt; | Checkin.service &lt;int&gt; | Inflight.service &lt;int&gt; | Cleanliness &lt;int&gt; | Departure.Delay.in.Minutes &lt;int&gt; | Arrival.Delay.in.Minutes &lt;dbl&gt; | satisfaction &lt;chr&gt; |\n",
       "|---|---|---|---|---|---|---|---|---|---|---|---|---|---|---|---|---|---|---|---|---|\n",
       "|  0 |  70172 | Male   | Loyal Customer    | 13 | Personal Travel | Eco Plus |  460 | 3 | 4 | ⋯ | 5 | 4 | 3 | 4 | 4 | 5 | 5 | 25 | 18 | neutral or dissatisfied |\n",
       "|  1 |   5047 | Male   | disloyal Customer | 25 | Business travel | Business |  235 | 3 | 2 | ⋯ | 1 | 1 | 5 | 3 | 1 | 4 | 1 |  1 |  6 | neutral or dissatisfied |\n",
       "|  2 | 110028 | Female | Loyal Customer    | 26 | Business travel | Business | 1142 | 2 | 2 | ⋯ | 5 | 4 | 3 | 4 | 4 | 4 | 5 |  0 |  0 | satisfied               |\n",
       "|  3 |  24026 | Female | Loyal Customer    | 25 | Business travel | Business |  562 | 2 | 5 | ⋯ | 2 | 2 | 5 | 3 | 1 | 4 | 2 | 11 |  9 | neutral or dissatisfied |\n",
       "|  4 | 119299 | Male   | Loyal Customer    | 61 | Business travel | Business |  214 | 3 | 3 | ⋯ | 3 | 3 | 4 | 4 | 3 | 3 | 3 |  0 |  0 | satisfied               |\n",
       "|  5 | 111157 | Female | Loyal Customer    | 26 | Personal Travel | Eco      | 1180 | 3 | 4 | ⋯ | 1 | 3 | 4 | 4 | 4 | 4 | 1 |  0 |  0 | neutral or dissatisfied |\n",
       "|  6 |  82113 | Male   | Loyal Customer    | 47 | Personal Travel | Eco      | 1276 | 2 | 4 | ⋯ | 2 | 3 | 3 | 4 | 3 | 5 | 2 |  9 | 23 | neutral or dissatisfied |\n",
       "|  7 |  96462 | Female | Loyal Customer    | 52 | Business travel | Business | 2035 | 4 | 3 | ⋯ | 5 | 5 | 5 | 5 | 4 | 5 | 4 |  4 |  0 | satisfied               |\n",
       "|  8 |  79485 | Female | Loyal Customer    | 41 | Business travel | Business |  853 | 1 | 2 | ⋯ | 1 | 1 | 2 | 1 | 4 | 1 | 2 |  0 |  0 | neutral or dissatisfied |\n",
       "|  9 |  65725 | Male   | disloyal Customer | 20 | Business travel | Eco      | 1061 | 3 | 3 | ⋯ | 2 | 2 | 3 | 4 | 4 | 3 | 2 |  0 |  0 | neutral or dissatisfied |\n",
       "| 10 |  34991 | Female | disloyal Customer | 24 | Business travel | Eco      | 1182 | 4 | 5 | ⋯ | 2 | 3 | 3 | 5 | 3 | 5 | 2 |  0 |  0 | neutral or dissatisfied |\n",
       "| 11 |  51412 | Female | Loyal Customer    | 12 | Personal Travel | Eco Plus |  308 | 2 | 4 | ⋯ | 1 | 1 | 2 | 5 | 5 | 5 | 1 |  0 |  0 | neutral or dissatisfied |\n",
       "| 12 |  98628 | Male   | Loyal Customer    | 53 | Business travel | Eco      |  834 | 1 | 4 | ⋯ | 1 | 1 | 1 | 3 | 4 | 4 | 1 | 28 |  8 | neutral or dissatisfied |\n",
       "| 13 |  83502 | Male   | Loyal Customer    | 33 | Personal Travel | Eco      |  946 | 4 | 2 | ⋯ | 4 | 4 | 5 | 2 | 2 | 2 | 4 |  0 |  0 | satisfied               |\n",
       "| 14 |  95789 | Female | Loyal Customer    | 26 | Personal Travel | Eco      |  453 | 3 | 2 | ⋯ | 2 | 4 | 3 | 2 | 2 | 1 | 2 | 43 | 35 | neutral or dissatisfied |\n",
       "| 15 | 100580 | Male   | disloyal Customer | 13 | Business travel | Eco      |  486 | 2 | 1 | ⋯ | 4 | 2 | 1 | 4 | 1 | 3 | 4 |  1 |  0 | neutral or dissatisfied |\n",
       "| 16 |  71142 | Female | Loyal Customer    | 26 | Business travel | Business | 2123 | 3 | 3 | ⋯ | 4 | 5 | 3 | 4 | 5 | 4 | 4 | 49 | 51 | satisfied               |\n",
       "| 17 | 127461 | Male   | Loyal Customer    | 41 | Business travel | Business | 2075 | 4 | 4 | ⋯ | 5 | 5 | 5 | 5 | 3 | 5 | 5 |  0 | 10 | satisfied               |\n",
       "| 18 |  70354 | Female | Loyal Customer    | 45 | Business travel | Business | 2486 | 4 | 4 | ⋯ | 5 | 5 | 5 | 5 | 3 | 5 | 4 |  7 |  5 | satisfied               |\n",
       "| 19 |  66246 | Male   | Loyal Customer    | 38 | Personal Travel | Eco      |  460 | 2 | 3 | ⋯ | 5 | 1 | 2 | 4 | 3 | 2 | 5 | 17 | 18 | neutral or dissatisfied |\n",
       "| 20 |  39076 | Male   | Loyal Customer    |  9 | Business travel | Eco      | 1174 | 2 | 4 | ⋯ | 2 | 1 | 5 | 3 | 4 | 3 | 2 |  0 |  4 | neutral or dissatisfied |\n",
       "| 21 |  22434 | Female | Loyal Customer    | 17 | Personal Travel | Eco      |  208 | 3 | 1 | ⋯ | 5 | 2 | 5 | 3 | 3 | 4 | 5 |  0 |  0 | neutral or dissatisfied |\n",
       "| 22 |  43510 | Female | Loyal Customer    | 43 | Personal Travel | Eco      |  752 | 3 | 5 | ⋯ | 3 | 3 | 3 | 5 | 3 | 3 | 4 | 52 | 29 | neutral or dissatisfied |\n",
       "| 23 | 114090 | Female | Loyal Customer    | 58 | Personal Travel | Eco      | 2139 | 4 | 5 | ⋯ | 4 | 4 | 4 | 4 | 2 | 4 | 2 |  0 |  0 | neutral or dissatisfied |\n",
       "| 24 | 105420 | Female | disloyal Customer | 23 | Business travel | Eco      |  452 | 5 | 0 | ⋯ | 1 | 4 | 5 | 5 | 3 | 5 | 1 | 54 | 44 | satisfied               |\n",
       "| 25 | 102956 | Male   | Loyal Customer    | 57 | Personal Travel | Eco      |  719 | 4 | 4 | ⋯ | 5 | 3 | 2 | 4 | 4 | 5 | 5 | 27 | 28 | neutral or dissatisfied |\n",
       "| 26 |  18510 | Female | Loyal Customer    | 33 | Business travel | Business | 1561 | 1 | 1 | ⋯ | 4 | 4 | 4 | 3 | 5 | 4 | 2 |  0 |  0 | satisfied               |\n",
       "| 27 |  14925 | Female | Loyal Customer    | 49 | Business travel | Eco Plus |  315 | 4 | 4 | ⋯ | 4 | 4 | 4 | 4 | 2 | 4 | 2 |  0 |  8 | satisfied               |\n",
       "| 28 | 118319 | Female | Loyal Customer    | 36 | Business travel | Business | 3347 | 3 | 1 | ⋯ | 3 | 3 | 3 | 3 | 2 | 3 | 2 | 18 | 12 | neutral or dissatisfied |\n",
       "| 29 |  75460 | Male   | Loyal Customer    | 22 | Personal Travel | Eco      | 2342 | 3 | 2 | ⋯ | 3 | 2 | 4 | 3 | 4 | 2 | 3 | 19 |  0 | neutral or dissatisfied |\n",
       "| ⋮ | ⋮ | ⋮ | ⋮ | ⋮ | ⋮ | ⋮ | ⋮ | ⋮ | ⋮ | ⋱ | ⋮ | ⋮ | ⋮ | ⋮ | ⋮ | ⋮ | ⋮ | ⋮ | ⋮ | ⋮ |\n",
       "| 25946 |  65833 | Female | Loyal Customer    | 25 | Business travel | Business | 1389 | 1 | 4 | ⋯ | 1 | 1 | 1 | 4 | 4 | 3 | 1 |  0 |  0 | neutral or dissatisfied |\n",
       "| 25947 |  36449 | Male   | Loyal Customer    | 16 | Business travel | Eco Plus | 1368 | 0 | 4 | ⋯ | 2 | 5 | 1 | 4 | 4 | 2 | 2 |  0 |  0 | satisfied               |\n",
       "| 25948 |  62329 | Male   | Loyal Customer    | 37 | Personal Travel | Eco      |  414 | 2 | 4 | ⋯ | 4 | 1 | 2 | 3 | 4 | 3 | 4 |  0 |  0 | neutral or dissatisfied |\n",
       "| 25949 |  37905 | Male   | disloyal Customer | 56 | Business travel | Eco      |  668 | 5 | 0 | ⋯ | 2 | 4 | 3 | 3 | 4 | 5 | 2 |  0 |  0 | satisfied               |\n",
       "| 25950 | 111771 | Female | Loyal Customer    | 52 | Business travel | Business | 1620 | 4 | 4 | ⋯ | 4 | 4 | 4 | 4 | 4 | 4 | 5 | 30 | 26 | satisfied               |\n",
       "| 25951 |  27201 | Female | disloyal Customer | 21 | Business travel | Eco      |  752 | 0 | 0 | ⋯ | 2 | 5 | 3 | 4 | 3 | 4 | 2 |  0 |  0 | satisfied               |\n",
       "| 25952 |  76397 | Male   | Loyal Customer    | 60 | Personal Travel | Eco      |  931 | 2 | 3 | ⋯ | 3 | 4 | 1 | 2 | 4 | 3 | 3 |  0 |  0 | neutral or dissatisfied |\n",
       "| 25953 |  27759 | Female | Loyal Customer    | 43 | Business travel | Business | 1448 | 4 | 1 | ⋯ | 5 | 5 | 5 | 5 | 5 | 5 | 2 |  0 |  0 | satisfied               |\n",
       "| 25954 |  79286 | Female | Loyal Customer    | 29 | Business travel | Business | 2248 | 4 | 4 | ⋯ | 4 | 3 | 5 | 2 | 3 | 4 | 4 |  1 |  0 | neutral or dissatisfied |\n",
       "| 25955 |  56083 | Female | Loyal Customer    | 65 | Personal Travel | Eco      | 2475 | 3 | 4 | ⋯ | 3 | 4 | 4 | 5 | 3 | 4 | 3 |  0 |  0 | neutral or dissatisfied |\n",
       "| 25956 | 109108 | Female | Loyal Customer    | 29 | Business travel | Business | 2864 | 5 | 5 | ⋯ | 3 | 5 | 5 | 5 | 3 | 5 | 3 |  0 |  0 | satisfied               |\n",
       "| 25957 | 109899 | Female | disloyal Customer | 16 | Business travel | Eco      | 1073 | 2 | 2 | ⋯ | 3 | 5 | 1 | 2 | 1 | 5 | 3 | 21 |  3 | neutral or dissatisfied |\n",
       "| 25958 |  25269 | Male   | Loyal Customer    | 16 | Business travel | Business | 3149 | 3 | 5 | ⋯ | 3 | 1 | 5 | 4 | 1 | 3 | 3 |  0 |  0 | neutral or dissatisfied |\n",
       "| 25959 |  74541 | Female | Loyal Customer    | 58 | Business travel | Eco      | 1171 | 2 | 4 | ⋯ | 2 | 2 | 2 | 2 | 2 | 2 | 1 |  0 | 18 | neutral or dissatisfied |\n",
       "| 25960 |  86010 | Female | disloyal Customer | 23 | Business travel | Eco      |  447 | 4 | 0 | ⋯ | 1 | 4 | 4 | 5 | 5 | 4 | 1 |  0 |  0 | neutral or dissatisfied |\n",
       "| 25961 | 126836 | Male   | Loyal Customer    | 51 | Business travel | Business | 2296 | 3 | 3 | ⋯ | 5 | 5 | 5 | 5 | 3 | 5 | 3 |  2 |  0 | satisfied               |\n",
       "| 25962 |   2313 | Female | disloyal Customer | 21 | Business travel | Eco      |  691 | 4 | 4 | ⋯ | 2 | 2 | 1 | 1 | 2 | 1 | 2 |  0 |  0 | neutral or dissatisfied |\n",
       "| 25963 |  65035 | Female | Loyal Customer    | 65 | Personal Travel | Eco      |  247 | 3 | 4 | ⋯ | 4 | 4 | 0 | 4 | 3 | 4 | 5 |  0 |  0 | neutral or dissatisfied |\n",
       "| 25964 | 111325 | Female | Loyal Customer    | 48 | Business travel | Eco      |  283 | 3 | 1 | ⋯ | 3 | 3 | 3 | 3 | 4 | 3 | 1 | 38 | 28 | neutral or dissatisfied |\n",
       "| 25965 |  15949 | Female | Loyal Customer    | 51 | Personal Travel | Eco      |  528 | 4 | 4 | ⋯ | 5 | 5 | 4 | 5 | 4 | 5 | 4 |  0 |  0 | neutral or dissatisfied |\n",
       "| 25966 |  30263 | Male   | disloyal Customer | 42 | Business travel | Eco      | 1024 | 4 | 4 | ⋯ | 3 | 3 | 1 | 2 | 2 | 3 | 3 |  0 | 17 | neutral or dissatisfied |\n",
       "| 25967 |  90347 | Female | disloyal Customer | 39 | Business travel | Business |  404 | 1 | 1 | ⋯ | 2 | 5 | 3 | 4 | 4 | 4 | 2 |  0 |  0 | neutral or dissatisfied |\n",
       "| 25968 |  86816 | Male   | Loyal Customer    | 41 | Business travel | Eco      |  692 | 2 | 2 | ⋯ | 2 | 2 | 3 | 3 | 2 | 3 | 2 | 15 |  3 | neutral or dissatisfied |\n",
       "| 25969 | 120654 | Male   | Loyal Customer    | 52 | Business travel | Business |  280 | 3 | 3 | ⋯ | 4 | 4 | 4 | 4 | 3 | 4 | 3 |  0 |  0 | satisfied               |\n",
       "| 25970 |  25309 | Female | disloyal Customer | 36 | Business travel | Eco      |  432 | 1 | 5 | ⋯ | 4 | 5 | 2 | 5 | 2 | 3 | 4 |  0 |  0 | neutral or dissatisfied |\n",
       "| 25971 |  78463 | Male   | disloyal Customer | 34 | Business travel | Business |  526 | 3 | 3 | ⋯ | 4 | 3 | 2 | 4 | 4 | 5 | 4 |  0 |  0 | neutral or dissatisfied |\n",
       "| 25972 |  71167 | Male   | Loyal Customer    | 23 | Business travel | Business |  646 | 4 | 4 | ⋯ | 4 | 4 | 5 | 5 | 5 | 5 | 4 |  0 |  0 | satisfied               |\n",
       "| 25973 |  37675 | Female | Loyal Customer    | 17 | Personal Travel | Eco      |  828 | 2 | 5 | ⋯ | 2 | 4 | 3 | 4 | 5 | 4 | 2 |  0 |  0 | neutral or dissatisfied |\n",
       "| 25974 |  90086 | Male   | Loyal Customer    | 14 | Business travel | Business | 1127 | 3 | 3 | ⋯ | 4 | 3 | 2 | 5 | 4 | 5 | 4 |  0 |  0 | satisfied               |\n",
       "| 25975 |  34799 | Female | Loyal Customer    | 42 | Personal Travel | Eco      |  264 | 2 | 5 | ⋯ | 1 | 1 | 2 | 1 | 1 | 1 | 1 |  0 |  0 | neutral or dissatisfied |\n",
       "\n"
      ],
      "text/plain": [
       "       X     id     Gender Customer.Type     Age Type.of.Travel  Class   \n",
       "1       0     70172 Male   Loyal Customer    13  Personal Travel Eco Plus\n",
       "2       1      5047 Male   disloyal Customer 25  Business travel Business\n",
       "3       2    110028 Female Loyal Customer    26  Business travel Business\n",
       "4       3     24026 Female Loyal Customer    25  Business travel Business\n",
       "5       4    119299 Male   Loyal Customer    61  Business travel Business\n",
       "6       5    111157 Female Loyal Customer    26  Personal Travel Eco     \n",
       "7       6     82113 Male   Loyal Customer    47  Personal Travel Eco     \n",
       "8       7     96462 Female Loyal Customer    52  Business travel Business\n",
       "9       8     79485 Female Loyal Customer    41  Business travel Business\n",
       "10      9     65725 Male   disloyal Customer 20  Business travel Eco     \n",
       "11     10     34991 Female disloyal Customer 24  Business travel Eco     \n",
       "12     11     51412 Female Loyal Customer    12  Personal Travel Eco Plus\n",
       "13     12     98628 Male   Loyal Customer    53  Business travel Eco     \n",
       "14     13     83502 Male   Loyal Customer    33  Personal Travel Eco     \n",
       "15     14     95789 Female Loyal Customer    26  Personal Travel Eco     \n",
       "16     15    100580 Male   disloyal Customer 13  Business travel Eco     \n",
       "17     16     71142 Female Loyal Customer    26  Business travel Business\n",
       "18     17    127461 Male   Loyal Customer    41  Business travel Business\n",
       "19     18     70354 Female Loyal Customer    45  Business travel Business\n",
       "20     19     66246 Male   Loyal Customer    38  Personal Travel Eco     \n",
       "21     20     39076 Male   Loyal Customer     9  Business travel Eco     \n",
       "22     21     22434 Female Loyal Customer    17  Personal Travel Eco     \n",
       "23     22     43510 Female Loyal Customer    43  Personal Travel Eco     \n",
       "24     23    114090 Female Loyal Customer    58  Personal Travel Eco     \n",
       "25     24    105420 Female disloyal Customer 23  Business travel Eco     \n",
       "26     25    102956 Male   Loyal Customer    57  Personal Travel Eco     \n",
       "27     26     18510 Female Loyal Customer    33  Business travel Business\n",
       "28     27     14925 Female Loyal Customer    49  Business travel Eco Plus\n",
       "29     28    118319 Female Loyal Customer    36  Business travel Business\n",
       "30     29     75460 Male   Loyal Customer    22  Personal Travel Eco     \n",
       "<U+22EE>      <U+22EE> <U+22EE> <U+22EE> <U+22EE>          <U+22EE> <U+22EE>        <U+22EE>\n",
       "129851 25946  65833 Female Loyal Customer    25  Business travel Business\n",
       "129852 25947  36449 Male   Loyal Customer    16  Business travel Eco Plus\n",
       "129853 25948  62329 Male   Loyal Customer    37  Personal Travel Eco     \n",
       "129854 25949  37905 Male   disloyal Customer 56  Business travel Eco     \n",
       "129855 25950 111771 Female Loyal Customer    52  Business travel Business\n",
       "129856 25951  27201 Female disloyal Customer 21  Business travel Eco     \n",
       "129857 25952  76397 Male   Loyal Customer    60  Personal Travel Eco     \n",
       "129858 25953  27759 Female Loyal Customer    43  Business travel Business\n",
       "129859 25954  79286 Female Loyal Customer    29  Business travel Business\n",
       "129860 25955  56083 Female Loyal Customer    65  Personal Travel Eco     \n",
       "129861 25956 109108 Female Loyal Customer    29  Business travel Business\n",
       "129862 25957 109899 Female disloyal Customer 16  Business travel Eco     \n",
       "129863 25958  25269 Male   Loyal Customer    16  Business travel Business\n",
       "129864 25959  74541 Female Loyal Customer    58  Business travel Eco     \n",
       "129865 25960  86010 Female disloyal Customer 23  Business travel Eco     \n",
       "129866 25961 126836 Male   Loyal Customer    51  Business travel Business\n",
       "129867 25962   2313 Female disloyal Customer 21  Business travel Eco     \n",
       "129868 25963  65035 Female Loyal Customer    65  Personal Travel Eco     \n",
       "129869 25964 111325 Female Loyal Customer    48  Business travel Eco     \n",
       "129870 25965  15949 Female Loyal Customer    51  Personal Travel Eco     \n",
       "129871 25966  30263 Male   disloyal Customer 42  Business travel Eco     \n",
       "129872 25967  90347 Female disloyal Customer 39  Business travel Business\n",
       "129873 25968  86816 Male   Loyal Customer    41  Business travel Eco     \n",
       "129874 25969 120654 Male   Loyal Customer    52  Business travel Business\n",
       "129875 25970  25309 Female disloyal Customer 36  Business travel Eco     \n",
       "129876 25971  78463 Male   disloyal Customer 34  Business travel Business\n",
       "129877 25972  71167 Male   Loyal Customer    23  Business travel Business\n",
       "129878 25973  37675 Female Loyal Customer    17  Personal Travel Eco     \n",
       "129879 25974  90086 Male   Loyal Customer    14  Business travel Business\n",
       "129880 25975  34799 Female Loyal Customer    42  Personal Travel Eco     \n",
       "       Flight.Distance Inflight.wifi.service Departure.Arrival.time.convenient\n",
       "1       460            3                     4                                \n",
       "2       235            3                     2                                \n",
       "3      1142            2                     2                                \n",
       "4       562            2                     5                                \n",
       "5       214            3                     3                                \n",
       "6      1180            3                     4                                \n",
       "7      1276            2                     4                                \n",
       "8      2035            4                     3                                \n",
       "9       853            1                     2                                \n",
       "10     1061            3                     3                                \n",
       "11     1182            4                     5                                \n",
       "12      308            2                     4                                \n",
       "13      834            1                     4                                \n",
       "14      946            4                     2                                \n",
       "15      453            3                     2                                \n",
       "16      486            2                     1                                \n",
       "17     2123            3                     3                                \n",
       "18     2075            4                     4                                \n",
       "19     2486            4                     4                                \n",
       "20      460            2                     3                                \n",
       "21     1174            2                     4                                \n",
       "22      208            3                     1                                \n",
       "23      752            3                     5                                \n",
       "24     2139            4                     5                                \n",
       "25      452            5                     0                                \n",
       "26      719            4                     4                                \n",
       "27     1561            1                     1                                \n",
       "28      315            4                     4                                \n",
       "29     3347            3                     1                                \n",
       "30     2342            3                     2                                \n",
       "<U+22EE>      <U+22EE>        <U+22EE>              <U+22EE>                         \n",
       "129851 1389            1                     4                                \n",
       "129852 1368            0                     4                                \n",
       "129853  414            2                     4                                \n",
       "129854  668            5                     0                                \n",
       "129855 1620            4                     4                                \n",
       "129856  752            0                     0                                \n",
       "129857  931            2                     3                                \n",
       "129858 1448            4                     1                                \n",
       "129859 2248            4                     4                                \n",
       "129860 2475            3                     4                                \n",
       "129861 2864            5                     5                                \n",
       "129862 1073            2                     2                                \n",
       "129863 3149            3                     5                                \n",
       "129864 1171            2                     4                                \n",
       "129865  447            4                     0                                \n",
       "129866 2296            3                     3                                \n",
       "129867  691            4                     4                                \n",
       "129868  247            3                     4                                \n",
       "129869  283            3                     1                                \n",
       "129870  528            4                     4                                \n",
       "129871 1024            4                     4                                \n",
       "129872  404            1                     1                                \n",
       "129873  692            2                     2                                \n",
       "129874  280            3                     3                                \n",
       "129875  432            1                     5                                \n",
       "129876  526            3                     3                                \n",
       "129877  646            4                     4                                \n",
       "129878  828            2                     5                                \n",
       "129879 1127            3                     3                                \n",
       "129880  264            2                     5                                \n",
       "       <U+22EF>        Inflight.entertainment On.board.service Leg.room.service\n",
       "1      <U+22EF> 5                      4                3               \n",
       "2      <U+22EF> 1                      1                5               \n",
       "3      <U+22EF> 5                      4                3               \n",
       "4      <U+22EF> 2                      2                5               \n",
       "5      <U+22EF> 3                      3                4               \n",
       "6      <U+22EF> 1                      3                4               \n",
       "7      <U+22EF> 2                      3                3               \n",
       "8      <U+22EF> 5                      5                5               \n",
       "9      <U+22EF> 1                      1                2               \n",
       "10     <U+22EF> 2                      2                3               \n",
       "11     <U+22EF> 2                      3                3               \n",
       "12     <U+22EF> 1                      1                2               \n",
       "13     <U+22EF> 1                      1                1               \n",
       "14     <U+22EF> 4                      4                5               \n",
       "15     <U+22EF> 2                      4                3               \n",
       "16     <U+22EF> 4                      2                1               \n",
       "17     <U+22EF> 4                      5                3               \n",
       "18     <U+22EF> 5                      5                5               \n",
       "19     <U+22EF> 5                      5                5               \n",
       "20     <U+22EF> 5                      1                2               \n",
       "21     <U+22EF> 2                      1                5               \n",
       "22     <U+22EF> 5                      2                5               \n",
       "23     <U+22EF> 3                      3                3               \n",
       "24     <U+22EF> 4                      4                4               \n",
       "25     <U+22EF> 1                      4                5               \n",
       "26     <U+22EF> 5                      3                2               \n",
       "27     <U+22EF> 4                      4                4               \n",
       "28     <U+22EF> 4                      4                4               \n",
       "29     <U+22EF> 3                      3                3               \n",
       "30     <U+22EF> 3                      2                4               \n",
       "<U+22EE>      <U+22F1> <U+22EE>               <U+22EE>         <U+22EE>        \n",
       "129851 <U+22EF> 1                      1                1               \n",
       "129852 <U+22EF> 2                      5                1               \n",
       "129853 <U+22EF> 4                      1                2               \n",
       "129854 <U+22EF> 2                      4                3               \n",
       "129855 <U+22EF> 4                      4                4               \n",
       "129856 <U+22EF> 2                      5                3               \n",
       "129857 <U+22EF> 3                      4                1               \n",
       "129858 <U+22EF> 5                      5                5               \n",
       "129859 <U+22EF> 4                      3                5               \n",
       "129860 <U+22EF> 3                      4                4               \n",
       "129861 <U+22EF> 3                      5                5               \n",
       "129862 <U+22EF> 3                      5                1               \n",
       "129863 <U+22EF> 3                      1                5               \n",
       "129864 <U+22EF> 2                      2                2               \n",
       "129865 <U+22EF> 1                      4                4               \n",
       "129866 <U+22EF> 5                      5                5               \n",
       "129867 <U+22EF> 2                      2                1               \n",
       "129868 <U+22EF> 4                      4                0               \n",
       "129869 <U+22EF> 3                      3                3               \n",
       "129870 <U+22EF> 5                      5                4               \n",
       "129871 <U+22EF> 3                      3                1               \n",
       "129872 <U+22EF> 2                      5                3               \n",
       "129873 <U+22EF> 2                      2                3               \n",
       "129874 <U+22EF> 4                      4                4               \n",
       "129875 <U+22EF> 4                      5                2               \n",
       "129876 <U+22EF> 4                      3                2               \n",
       "129877 <U+22EF> 4                      4                5               \n",
       "129878 <U+22EF> 2                      4                3               \n",
       "129879 <U+22EF> 4                      3                2               \n",
       "129880 <U+22EF> 1                      1                2               \n",
       "       Baggage.handling Checkin.service Inflight.service Cleanliness\n",
       "1      4                4               5                5          \n",
       "2      3                1               4                1          \n",
       "3      4                4               4                5          \n",
       "4      3                1               4                2          \n",
       "5      4                3               3                3          \n",
       "6      4                4               4                1          \n",
       "7      4                3               5                2          \n",
       "8      5                4               5                4          \n",
       "9      1                4               1                2          \n",
       "10     4                4               3                2          \n",
       "11     5                3               5                2          \n",
       "12     5                5               5                1          \n",
       "13     3                4               4                1          \n",
       "14     2                2               2                4          \n",
       "15     2                2               1                2          \n",
       "16     4                1               3                4          \n",
       "17     4                5               4                4          \n",
       "18     5                3               5                5          \n",
       "19     5                3               5                4          \n",
       "20     4                3               2                5          \n",
       "21     3                4               3                2          \n",
       "22     3                3               4                5          \n",
       "23     5                3               3                4          \n",
       "24     4                2               4                2          \n",
       "25     5                3               5                1          \n",
       "26     4                4               5                5          \n",
       "27     3                5               4                2          \n",
       "28     4                2               4                2          \n",
       "29     3                2               3                2          \n",
       "30     3                4               2                3          \n",
       "<U+22EE>      <U+22EE>         <U+22EE>        <U+22EE>         <U+22EE>   \n",
       "129851 4                4               3                1          \n",
       "129852 4                4               2                2          \n",
       "129853 3                4               3                4          \n",
       "129854 3                4               5                2          \n",
       "129855 4                4               4                5          \n",
       "129856 4                3               4                2          \n",
       "129857 2                4               3                3          \n",
       "129858 5                5               5                2          \n",
       "129859 2                3               4                4          \n",
       "129860 5                3               4                3          \n",
       "129861 5                3               5                3          \n",
       "129862 2                1               5                3          \n",
       "129863 4                1               3                3          \n",
       "129864 2                2               2                1          \n",
       "129865 5                5               4                1          \n",
       "129866 5                3               5                3          \n",
       "129867 1                2               1                2          \n",
       "129868 4                3               4                5          \n",
       "129869 3                4               3                1          \n",
       "129870 5                4               5                4          \n",
       "129871 2                2               3                3          \n",
       "129872 4                4               4                2          \n",
       "129873 3                2               3                2          \n",
       "129874 4                3               4                3          \n",
       "129875 5                2               3                4          \n",
       "129876 4                4               5                4          \n",
       "129877 5                5               5                4          \n",
       "129878 4                5               4                2          \n",
       "129879 5                4               5                4          \n",
       "129880 1                1               1                1          \n",
       "       Departure.Delay.in.Minutes Arrival.Delay.in.Minutes\n",
       "1      25                         18                      \n",
       "2       1                          6                      \n",
       "3       0                          0                      \n",
       "4      11                          9                      \n",
       "5       0                          0                      \n",
       "6       0                          0                      \n",
       "7       9                         23                      \n",
       "8       4                          0                      \n",
       "9       0                          0                      \n",
       "10      0                          0                      \n",
       "11      0                          0                      \n",
       "12      0                          0                      \n",
       "13     28                          8                      \n",
       "14      0                          0                      \n",
       "15     43                         35                      \n",
       "16      1                          0                      \n",
       "17     49                         51                      \n",
       "18      0                         10                      \n",
       "19      7                          5                      \n",
       "20     17                         18                      \n",
       "21      0                          4                      \n",
       "22      0                          0                      \n",
       "23     52                         29                      \n",
       "24      0                          0                      \n",
       "25     54                         44                      \n",
       "26     27                         28                      \n",
       "27      0                          0                      \n",
       "28      0                          8                      \n",
       "29     18                         12                      \n",
       "30     19                          0                      \n",
       "<U+22EE>      <U+22EE>                   <U+22EE>                \n",
       "129851  0                          0                      \n",
       "129852  0                          0                      \n",
       "129853  0                          0                      \n",
       "129854  0                          0                      \n",
       "129855 30                         26                      \n",
       "129856  0                          0                      \n",
       "129857  0                          0                      \n",
       "129858  0                          0                      \n",
       "129859  1                          0                      \n",
       "129860  0                          0                      \n",
       "129861  0                          0                      \n",
       "129862 21                          3                      \n",
       "129863  0                          0                      \n",
       "129864  0                         18                      \n",
       "129865  0                          0                      \n",
       "129866  2                          0                      \n",
       "129867  0                          0                      \n",
       "129868  0                          0                      \n",
       "129869 38                         28                      \n",
       "129870  0                          0                      \n",
       "129871  0                         17                      \n",
       "129872  0                          0                      \n",
       "129873 15                          3                      \n",
       "129874  0                          0                      \n",
       "129875  0                          0                      \n",
       "129876  0                          0                      \n",
       "129877  0                          0                      \n",
       "129878  0                          0                      \n",
       "129879  0                          0                      \n",
       "129880  0                          0                      \n",
       "       satisfaction           \n",
       "1      neutral or dissatisfied\n",
       "2      neutral or dissatisfied\n",
       "3      satisfied              \n",
       "4      neutral or dissatisfied\n",
       "5      satisfied              \n",
       "6      neutral or dissatisfied\n",
       "7      neutral or dissatisfied\n",
       "8      satisfied              \n",
       "9      neutral or dissatisfied\n",
       "10     neutral or dissatisfied\n",
       "11     neutral or dissatisfied\n",
       "12     neutral or dissatisfied\n",
       "13     neutral or dissatisfied\n",
       "14     satisfied              \n",
       "15     neutral or dissatisfied\n",
       "16     neutral or dissatisfied\n",
       "17     satisfied              \n",
       "18     satisfied              \n",
       "19     satisfied              \n",
       "20     neutral or dissatisfied\n",
       "21     neutral or dissatisfied\n",
       "22     neutral or dissatisfied\n",
       "23     neutral or dissatisfied\n",
       "24     neutral or dissatisfied\n",
       "25     satisfied              \n",
       "26     neutral or dissatisfied\n",
       "27     satisfied              \n",
       "28     satisfied              \n",
       "29     neutral or dissatisfied\n",
       "30     neutral or dissatisfied\n",
       "<U+22EE>      <U+22EE>               \n",
       "129851 neutral or dissatisfied\n",
       "129852 satisfied              \n",
       "129853 neutral or dissatisfied\n",
       "129854 satisfied              \n",
       "129855 satisfied              \n",
       "129856 satisfied              \n",
       "129857 neutral or dissatisfied\n",
       "129858 satisfied              \n",
       "129859 neutral or dissatisfied\n",
       "129860 neutral or dissatisfied\n",
       "129861 satisfied              \n",
       "129862 neutral or dissatisfied\n",
       "129863 neutral or dissatisfied\n",
       "129864 neutral or dissatisfied\n",
       "129865 neutral or dissatisfied\n",
       "129866 satisfied              \n",
       "129867 neutral or dissatisfied\n",
       "129868 neutral or dissatisfied\n",
       "129869 neutral or dissatisfied\n",
       "129870 neutral or dissatisfied\n",
       "129871 neutral or dissatisfied\n",
       "129872 neutral or dissatisfied\n",
       "129873 neutral or dissatisfied\n",
       "129874 satisfied              \n",
       "129875 neutral or dissatisfied\n",
       "129876 neutral or dissatisfied\n",
       "129877 satisfied              \n",
       "129878 neutral or dissatisfied\n",
       "129879 satisfied              \n",
       "129880 neutral or dissatisfied"
      ]
     },
     "metadata": {},
     "output_type": "display_data"
    }
   ],
   "source": [
    "df"
   ]
  },
  {
   "cell_type": "code",
   "execution_count": 181,
   "id": "8992da6d",
   "metadata": {
    "vscode": {
     "languageId": "r"
    }
   },
   "outputs": [],
   "source": [
    "df = subset(df, select = -c(X,id))"
   ]
  },
  {
   "cell_type": "code",
   "execution_count": 183,
   "id": "5a7d37d5",
   "metadata": {
    "vscode": {
     "languageId": "r"
    }
   },
   "outputs": [],
   "source": [
    "x <- table(df$satisfaction)"
   ]
  },
  {
   "cell_type": "code",
   "execution_count": 184,
   "id": "b8004515",
   "metadata": {
    "vscode": {
     "languageId": "r"
    }
   },
   "outputs": [],
   "source": [
    "# To understand the distribution of satisfied and disatisfied customers in different columns we plot three of categorcial\n",
    "# columns and gain insights as"
   ]
  },
  {
   "cell_type": "code",
   "execution_count": 185,
   "id": "77b0d547",
   "metadata": {
    "vscode": {
     "languageId": "r"
    }
   },
   "outputs": [
    {
     "data": {
      "image/png": "[encoded data removed]",
      "text/plain": [
       "plot without title"
      ]
     },
     "metadata": {
      "image/png": {
       "height": 420,
       "width": 420
      }
     },
     "output_type": "display_data"
    }
   ],
   "source": [
    "ggplot(data = df, aes(x = Class, fill = satisfaction)) +\n",
    "    geom_bar(position = \"dodge\")"
   ]
  },
  {
   "cell_type": "code",
   "execution_count": 60,
   "id": "0f64f8e1",
   "metadata": {
    "vscode": {
     "languageId": "r"
    }
   },
   "outputs": [],
   "source": [
    "#As we can see the ticket class has enough influence on customer satisfaction,\n",
    "#as the presumably known business class has better-curated services than the Economy"
   ]
  },
  {
   "cell_type": "code",
   "execution_count": 186,
   "id": "d17ef77e",
   "metadata": {
    "vscode": {
     "languageId": "r"
    }
   },
   "outputs": [
    {
     "data": {
      "image/png": "[encoded data removed]",
      "text/plain": [
       "plot without title"
      ]
     },
     "metadata": {
      "image/png": {
       "height": 420,
       "width": 420
      }
     },
     "output_type": "display_data"
    }
   ],
   "source": [
    "ggplot(data = df, aes(x = Customer.Type, fill = satisfaction)) +\n",
    "    geom_bar(position = \"dodge\")"
   ]
  },
  {
   "cell_type": "code",
   "execution_count": 187,
   "id": "aeb2c57d",
   "metadata": {
    "vscode": {
     "languageId": "r"
    }
   },
   "outputs": [],
   "source": [
    "# The disloyal customers are more likely to be disatisfied than the loyal customers"
   ]
  },
  {
   "cell_type": "code",
   "execution_count": 188,
   "id": "22d6fad7",
   "metadata": {
    "vscode": {
     "languageId": "r"
    }
   },
   "outputs": [
    {
     "data": {
      "image/png": "[encoded data removed]",
      "text/plain": [
       "plot without title"
      ]
     },
     "metadata": {
      "image/png": {
       "height": 420,
       "width": 420
      }
     },
     "output_type": "display_data"
    }
   ],
   "source": [
    "ggplot(data = df, aes(x = Type.of.Travel, fill = satisfaction)) +\n",
    "    geom_bar(position = \"dodge\")"
   ]
  },
  {
   "cell_type": "code",
   "execution_count": 189,
   "id": "6ab76668",
   "metadata": {
    "vscode": {
     "languageId": "r"
    }
   },
   "outputs": [],
   "source": [
    "# People travelling for Business have very high probability to be satisfied as compared to ones travelling for personal reason"
   ]
  },
  {
   "cell_type": "code",
   "execution_count": 190,
   "id": "18dc6342",
   "metadata": {
    "vscode": {
     "languageId": "r"
    }
   },
   "outputs": [],
   "source": [
    "# 2) Data Cleaning and Pre-processing"
   ]
  },
  {
   "cell_type": "code",
   "execution_count": 191,
   "id": "1e5a542a",
   "metadata": {
    "vscode": {
     "languageId": "r"
    }
   },
   "outputs": [],
   "source": [
    "# In this I will check for missing values, tell the proportion of satisfied and disatisfied after this, encode the response\n",
    "# column, "
   ]
  },
  {
   "cell_type": "code",
   "execution_count": 194,
   "id": "68bcd9ac",
   "metadata": {
    "vscode": {
     "languageId": "r"
    }
   },
   "outputs": [],
   "source": [
    "# After checking for missing values we observe that only Arrival.Delay.in.Minutes column has 310 missing values which are\n",
    "# comparetively less than the total number of observation, thus we replace the values with the mean"
   ]
  },
  {
   "cell_type": "code",
   "execution_count": 195,
   "id": "94e45d51",
   "metadata": {
    "vscode": {
     "languageId": "r"
    }
   },
   "outputs": [],
   "source": [
    "df$Arrival.Delay.in.Minutes[is.na(df$Arrival.Delay.in.Minutes)]<-mean(df$Arrival.Delay.in.Minutes,na.rm=TRUE)"
   ]
  },
  {
   "cell_type": "code",
   "execution_count": 196,
   "id": "0e0ad459",
   "metadata": {
    "vscode": {
     "languageId": "r"
    }
   },
   "outputs": [
    {
     "data": {
      "text/plain": [
       "    Gender          Customer.Type           Age        Type.of.Travel    \n",
       " Length:129880      Length:129880      Min.   : 7.00   Length:129880     \n",
       " Class :character   Class :character   1st Qu.:27.00   Class :character  \n",
       " Mode  :character   Mode  :character   Median :40.00   Mode  :character  \n",
       "                                       Mean   :39.43                     \n",
       "                                       3rd Qu.:51.00                     \n",
       "                                       Max.   :85.00                     \n",
       "    Class           Flight.Distance Inflight.wifi.service\n",
       " Length:129880      Min.   :  31    Min.   :0.000        \n",
       " Class :character   1st Qu.: 414    1st Qu.:2.000        \n",
       " Mode  :character   Median : 844    Median :3.000        \n",
       "                    Mean   :1190    Mean   :2.729        \n",
       "                    3rd Qu.:1744    3rd Qu.:4.000        \n",
       "                    Max.   :4983    Max.   :5.000        \n",
       " Departure.Arrival.time.convenient Ease.of.Online.booking Gate.location  \n",
       " Min.   :0.000                     Min.   :0.000          Min.   :0.000  \n",
       " 1st Qu.:2.000                     1st Qu.:2.000          1st Qu.:2.000  \n",
       " Median :3.000                     Median :3.000          Median :3.000  \n",
       " Mean   :3.058                     Mean   :2.757          Mean   :2.977  \n",
       " 3rd Qu.:4.000                     3rd Qu.:4.000          3rd Qu.:4.000  \n",
       " Max.   :5.000                     Max.   :5.000          Max.   :5.000  \n",
       " Food.and.drink  Online.boarding  Seat.comfort   Inflight.entertainment\n",
       " Min.   :0.000   Min.   :0.000   Min.   :0.000   Min.   :0.000         \n",
       " 1st Qu.:2.000   1st Qu.:2.000   1st Qu.:2.000   1st Qu.:2.000         \n",
       " Median :3.000   Median :3.000   Median :4.000   Median :4.000         \n",
       " Mean   :3.205   Mean   :3.253   Mean   :3.441   Mean   :3.358         \n",
       " 3rd Qu.:4.000   3rd Qu.:4.000   3rd Qu.:5.000   3rd Qu.:4.000         \n",
       " Max.   :5.000   Max.   :5.000   Max.   :5.000   Max.   :5.000         \n",
       " On.board.service Leg.room.service Baggage.handling Checkin.service\n",
       " Min.   :0.000    Min.   :0.000    Min.   :1.000    Min.   :0.000  \n",
       " 1st Qu.:2.000    1st Qu.:2.000    1st Qu.:3.000    1st Qu.:3.000  \n",
       " Median :4.000    Median :4.000    Median :4.000    Median :3.000  \n",
       " Mean   :3.383    Mean   :3.351    Mean   :3.632    Mean   :3.306  \n",
       " 3rd Qu.:4.000    3rd Qu.:4.000    3rd Qu.:5.000    3rd Qu.:4.000  \n",
       " Max.   :5.000    Max.   :5.000    Max.   :5.000    Max.   :5.000  \n",
       " Inflight.service  Cleanliness    Departure.Delay.in.Minutes\n",
       " Min.   :0.000    Min.   :0.000   Min.   :   0.00           \n",
       " 1st Qu.:3.000    1st Qu.:2.000   1st Qu.:   0.00           \n",
       " Median :4.000    Median :3.000   Median :   0.00           \n",
       " Mean   :3.642    Mean   :3.286   Mean   :  14.71           \n",
       " 3rd Qu.:5.000    3rd Qu.:4.000   3rd Qu.:  12.00           \n",
       " Max.   :5.000    Max.   :5.000   Max.   :1592.00           \n",
       " Arrival.Delay.in.Minutes satisfaction      \n",
       " Min.   :   0.00          Length:129880     \n",
       " 1st Qu.:   0.00          Class :character  \n",
       " Median :   0.00          Mode  :character  \n",
       " Mean   :  15.09                            \n",
       " 3rd Qu.:  13.00                            \n",
       " Max.   :1584.00                            "
      ]
     },
     "metadata": {},
     "output_type": "display_data"
    }
   ],
   "source": [
    "summary(df)"
   ]
  },
  {
   "cell_type": "code",
   "execution_count": 197,
   "id": "958608e7",
   "metadata": {
    "vscode": {
     "languageId": "r"
    }
   },
   "outputs": [],
   "source": [
    "# Further we encode the categorical variables to binary values as 1 and 0."
   ]
  },
  {
   "cell_type": "code",
   "execution_count": 198,
   "id": "14e744e9",
   "metadata": {
    "vscode": {
     "languageId": "r"
    }
   },
   "outputs": [],
   "source": [
    "df$Gender <- ifelse(df$Gender == \"Male\",1,0)"
   ]
  },
  {
   "cell_type": "code",
   "execution_count": 199,
   "id": "60e8645b",
   "metadata": {
    "vscode": {
     "languageId": "r"
    }
   },
   "outputs": [],
   "source": [
    "df$Customer.Type <- ifelse(df$Customer.Type == \"Loyal Customer\",1,0)"
   ]
  },
  {
   "cell_type": "code",
   "execution_count": 200,
   "id": "82916e8e",
   "metadata": {
    "vscode": {
     "languageId": "r"
    }
   },
   "outputs": [],
   "source": [
    "df$Type.of.Travel <- ifelse(df$Type.of.Travel == \"Personal Travel\",1,0)"
   ]
  },
  {
   "cell_type": "code",
   "execution_count": 201,
   "id": "5add4bc6",
   "metadata": {
    "vscode": {
     "languageId": "r"
    }
   },
   "outputs": [],
   "source": [
    "df$Class <- ifelse(df$Class == \"Business\",1,0)"
   ]
  },
  {
   "cell_type": "code",
   "execution_count": 202,
   "id": "9f7442d9",
   "metadata": {
    "vscode": {
     "languageId": "r"
    }
   },
   "outputs": [],
   "source": [
    "#df$satisfaction <- ifelse(df$satisfaction == \"satisfied\",1,0)"
   ]
  },
  {
   "cell_type": "code",
   "execution_count": 203,
   "id": "9f1600f6",
   "metadata": {
    "vscode": {
     "languageId": "r"
    }
   },
   "outputs": [],
   "source": [
    "df$satisfaction = as.factor(df$satisfaction)"
   ]
  },
  {
   "cell_type": "code",
   "execution_count": null,
   "id": "a86d6521",
   "metadata": {
    "vscode": {
     "languageId": "r"
    }
   },
   "outputs": [],
   "source": [
    "y = ifelse(df$satisfaction == \"satisfied\",1,0)"
   ]
  },
  {
   "cell_type": "code",
   "execution_count": 204,
   "id": "7dd92c43",
   "metadata": {
    "vscode": {
     "languageId": "r"
    }
   },
   "outputs": [
    {
     "data": {
      "text/plain": [
       "     Gender       Customer.Type         Age        Type.of.Travel  \n",
       " Min.   :0.0000   Min.   :0.0000   Min.   : 7.00   Min.   :0.0000  \n",
       " 1st Qu.:0.0000   1st Qu.:1.0000   1st Qu.:27.00   1st Qu.:0.0000  \n",
       " Median :0.0000   Median :1.0000   Median :40.00   Median :0.0000  \n",
       " Mean   :0.4926   Mean   :0.8169   Mean   :39.43   Mean   :0.3094  \n",
       " 3rd Qu.:1.0000   3rd Qu.:1.0000   3rd Qu.:51.00   3rd Qu.:1.0000  \n",
       " Max.   :1.0000   Max.   :1.0000   Max.   :85.00   Max.   :1.0000  \n",
       "     Class        Flight.Distance Inflight.wifi.service\n",
       " Min.   :0.0000   Min.   :  31    Min.   :0.000        \n",
       " 1st Qu.:0.0000   1st Qu.: 414    1st Qu.:2.000        \n",
       " Median :0.0000   Median : 844    Median :3.000        \n",
       " Mean   :0.4786   Mean   :1190    Mean   :2.729        \n",
       " 3rd Qu.:1.0000   3rd Qu.:1744    3rd Qu.:4.000        \n",
       " Max.   :1.0000   Max.   :4983    Max.   :5.000        \n",
       " Departure.Arrival.time.convenient Ease.of.Online.booking Gate.location  \n",
       " Min.   :0.000                     Min.   :0.000          Min.   :0.000  \n",
       " 1st Qu.:2.000                     1st Qu.:2.000          1st Qu.:2.000  \n",
       " Median :3.000                     Median :3.000          Median :3.000  \n",
       " Mean   :3.058                     Mean   :2.757          Mean   :2.977  \n",
       " 3rd Qu.:4.000                     3rd Qu.:4.000          3rd Qu.:4.000  \n",
       " Max.   :5.000                     Max.   :5.000          Max.   :5.000  \n",
       " Food.and.drink  Online.boarding  Seat.comfort   Inflight.entertainment\n",
       " Min.   :0.000   Min.   :0.000   Min.   :0.000   Min.   :0.000         \n",
       " 1st Qu.:2.000   1st Qu.:2.000   1st Qu.:2.000   1st Qu.:2.000         \n",
       " Median :3.000   Median :3.000   Median :4.000   Median :4.000         \n",
       " Mean   :3.205   Mean   :3.253   Mean   :3.441   Mean   :3.358         \n",
       " 3rd Qu.:4.000   3rd Qu.:4.000   3rd Qu.:5.000   3rd Qu.:4.000         \n",
       " Max.   :5.000   Max.   :5.000   Max.   :5.000   Max.   :5.000         \n",
       " On.board.service Leg.room.service Baggage.handling Checkin.service\n",
       " Min.   :0.000    Min.   :0.000    Min.   :1.000    Min.   :0.000  \n",
       " 1st Qu.:2.000    1st Qu.:2.000    1st Qu.:3.000    1st Qu.:3.000  \n",
       " Median :4.000    Median :4.000    Median :4.000    Median :3.000  \n",
       " Mean   :3.383    Mean   :3.351    Mean   :3.632    Mean   :3.306  \n",
       " 3rd Qu.:4.000    3rd Qu.:4.000    3rd Qu.:5.000    3rd Qu.:4.000  \n",
       " Max.   :5.000    Max.   :5.000    Max.   :5.000    Max.   :5.000  \n",
       " Inflight.service  Cleanliness    Departure.Delay.in.Minutes\n",
       " Min.   :0.000    Min.   :0.000   Min.   :   0.00           \n",
       " 1st Qu.:3.000    1st Qu.:2.000   1st Qu.:   0.00           \n",
       " Median :4.000    Median :3.000   Median :   0.00           \n",
       " Mean   :3.642    Mean   :3.286   Mean   :  14.71           \n",
       " 3rd Qu.:5.000    3rd Qu.:4.000   3rd Qu.:  12.00           \n",
       " Max.   :5.000    Max.   :5.000   Max.   :1592.00           \n",
       " Arrival.Delay.in.Minutes                  satisfaction  \n",
       " Min.   :   0.00          neutral or dissatisfied:73452  \n",
       " 1st Qu.:   0.00          satisfied              :56428  \n",
       " Median :   0.00                                         \n",
       " Mean   :  15.09                                         \n",
       " 3rd Qu.:  13.00                                         \n",
       " Max.   :1584.00                                         "
      ]
     },
     "metadata": {},
     "output_type": "display_data"
    }
   ],
   "source": [
    "summary(df)"
   ]
  },
  {
   "cell_type": "code",
   "execution_count": 205,
   "id": "78fef51f",
   "metadata": {
    "scrolled": true,
    "vscode": {
     "languageId": "r"
    }
   },
   "outputs": [
    {
     "data": {
      "text/html": [
       "<table class=\"dataframe\">\n",
       "<caption>A data.frame: 129880 × 23</caption>\n",
       "<thead>\n",
       "\t<tr><th></th><th scope=col>Gender</th><th scope=col>Customer.Type</th><th scope=col>Age</th><th scope=col>Type.of.Travel</th><th scope=col>Class</th><th scope=col>Flight.Distance</th><th scope=col>Inflight.wifi.service</th><th scope=col>Departure.Arrival.time.convenient</th><th scope=col>Ease.of.Online.booking</th><th scope=col>Gate.location</th><th scope=col>⋯</th><th scope=col>Inflight.entertainment</th><th scope=col>On.board.service</th><th scope=col>Leg.room.service</th><th scope=col>Baggage.handling</th><th scope=col>Checkin.service</th><th scope=col>Inflight.service</th><th scope=col>Cleanliness</th><th scope=col>Departure.Delay.in.Minutes</th><th scope=col>Arrival.Delay.in.Minutes</th><th scope=col>satisfaction</th></tr>\n",
       "\t<tr><th></th><th scope=col>&lt;dbl&gt;</th><th scope=col>&lt;dbl&gt;</th><th scope=col>&lt;int&gt;</th><th scope=col>&lt;dbl&gt;</th><th scope=col>&lt;dbl&gt;</th><th scope=col>&lt;int&gt;</th><th scope=col>&lt;int&gt;</th><th scope=col>&lt;int&gt;</th><th scope=col>&lt;int&gt;</th><th scope=col>&lt;int&gt;</th><th scope=col>⋯</th><th scope=col>&lt;int&gt;</th><th scope=col>&lt;int&gt;</th><th scope=col>&lt;int&gt;</th><th scope=col>&lt;int&gt;</th><th scope=col>&lt;int&gt;</th><th scope=col>&lt;int&gt;</th><th scope=col>&lt;int&gt;</th><th scope=col>&lt;int&gt;</th><th scope=col>&lt;dbl&gt;</th><th scope=col>&lt;fct&gt;</th></tr>\n",
       "</thead>\n",
       "<tbody>\n",
       "\t<tr><th scope=row>1</th><td>1</td><td>1</td><td>13</td><td>1</td><td>0</td><td> 460</td><td>3</td><td>4</td><td>3</td><td>1</td><td>⋯</td><td>5</td><td>4</td><td>3</td><td>4</td><td>4</td><td>5</td><td>5</td><td>25</td><td>18</td><td>neutral or dissatisfied</td></tr>\n",
       "\t<tr><th scope=row>2</th><td>1</td><td>0</td><td>25</td><td>0</td><td>1</td><td> 235</td><td>3</td><td>2</td><td>3</td><td>3</td><td>⋯</td><td>1</td><td>1</td><td>5</td><td>3</td><td>1</td><td>4</td><td>1</td><td> 1</td><td> 6</td><td>neutral or dissatisfied</td></tr>\n",
       "\t<tr><th scope=row>3</th><td>0</td><td>1</td><td>26</td><td>0</td><td>1</td><td>1142</td><td>2</td><td>2</td><td>2</td><td>2</td><td>⋯</td><td>5</td><td>4</td><td>3</td><td>4</td><td>4</td><td>4</td><td>5</td><td> 0</td><td> 0</td><td>satisfied              </td></tr>\n",
       "\t<tr><th scope=row>4</th><td>0</td><td>1</td><td>25</td><td>0</td><td>1</td><td> 562</td><td>2</td><td>5</td><td>5</td><td>5</td><td>⋯</td><td>2</td><td>2</td><td>5</td><td>3</td><td>1</td><td>4</td><td>2</td><td>11</td><td> 9</td><td>neutral or dissatisfied</td></tr>\n",
       "\t<tr><th scope=row>5</th><td>1</td><td>1</td><td>61</td><td>0</td><td>1</td><td> 214</td><td>3</td><td>3</td><td>3</td><td>3</td><td>⋯</td><td>3</td><td>3</td><td>4</td><td>4</td><td>3</td><td>3</td><td>3</td><td> 0</td><td> 0</td><td>satisfied              </td></tr>\n",
       "\t<tr><th scope=row>6</th><td>0</td><td>1</td><td>26</td><td>1</td><td>0</td><td>1180</td><td>3</td><td>4</td><td>2</td><td>1</td><td>⋯</td><td>1</td><td>3</td><td>4</td><td>4</td><td>4</td><td>4</td><td>1</td><td> 0</td><td> 0</td><td>neutral or dissatisfied</td></tr>\n",
       "\t<tr><th scope=row>7</th><td>1</td><td>1</td><td>47</td><td>1</td><td>0</td><td>1276</td><td>2</td><td>4</td><td>2</td><td>3</td><td>⋯</td><td>2</td><td>3</td><td>3</td><td>4</td><td>3</td><td>5</td><td>2</td><td> 9</td><td>23</td><td>neutral or dissatisfied</td></tr>\n",
       "\t<tr><th scope=row>8</th><td>0</td><td>1</td><td>52</td><td>0</td><td>1</td><td>2035</td><td>4</td><td>3</td><td>4</td><td>4</td><td>⋯</td><td>5</td><td>5</td><td>5</td><td>5</td><td>4</td><td>5</td><td>4</td><td> 4</td><td> 0</td><td>satisfied              </td></tr>\n",
       "\t<tr><th scope=row>9</th><td>0</td><td>1</td><td>41</td><td>0</td><td>1</td><td> 853</td><td>1</td><td>2</td><td>2</td><td>2</td><td>⋯</td><td>1</td><td>1</td><td>2</td><td>1</td><td>4</td><td>1</td><td>2</td><td> 0</td><td> 0</td><td>neutral or dissatisfied</td></tr>\n",
       "\t<tr><th scope=row>10</th><td>1</td><td>0</td><td>20</td><td>0</td><td>0</td><td>1061</td><td>3</td><td>3</td><td>3</td><td>4</td><td>⋯</td><td>2</td><td>2</td><td>3</td><td>4</td><td>4</td><td>3</td><td>2</td><td> 0</td><td> 0</td><td>neutral or dissatisfied</td></tr>\n",
       "\t<tr><th scope=row>11</th><td>0</td><td>0</td><td>24</td><td>0</td><td>0</td><td>1182</td><td>4</td><td>5</td><td>5</td><td>4</td><td>⋯</td><td>2</td><td>3</td><td>3</td><td>5</td><td>3</td><td>5</td><td>2</td><td> 0</td><td> 0</td><td>neutral or dissatisfied</td></tr>\n",
       "\t<tr><th scope=row>12</th><td>0</td><td>1</td><td>12</td><td>1</td><td>0</td><td> 308</td><td>2</td><td>4</td><td>2</td><td>2</td><td>⋯</td><td>1</td><td>1</td><td>2</td><td>5</td><td>5</td><td>5</td><td>1</td><td> 0</td><td> 0</td><td>neutral or dissatisfied</td></tr>\n",
       "\t<tr><th scope=row>13</th><td>1</td><td>1</td><td>53</td><td>0</td><td>0</td><td> 834</td><td>1</td><td>4</td><td>4</td><td>4</td><td>⋯</td><td>1</td><td>1</td><td>1</td><td>3</td><td>4</td><td>4</td><td>1</td><td>28</td><td> 8</td><td>neutral or dissatisfied</td></tr>\n",
       "\t<tr><th scope=row>14</th><td>1</td><td>1</td><td>33</td><td>1</td><td>0</td><td> 946</td><td>4</td><td>2</td><td>4</td><td>3</td><td>⋯</td><td>4</td><td>4</td><td>5</td><td>2</td><td>2</td><td>2</td><td>4</td><td> 0</td><td> 0</td><td>satisfied              </td></tr>\n",
       "\t<tr><th scope=row>15</th><td>0</td><td>1</td><td>26</td><td>1</td><td>0</td><td> 453</td><td>3</td><td>2</td><td>3</td><td>2</td><td>⋯</td><td>2</td><td>4</td><td>3</td><td>2</td><td>2</td><td>1</td><td>2</td><td>43</td><td>35</td><td>neutral or dissatisfied</td></tr>\n",
       "\t<tr><th scope=row>16</th><td>1</td><td>0</td><td>13</td><td>0</td><td>0</td><td> 486</td><td>2</td><td>1</td><td>2</td><td>3</td><td>⋯</td><td>4</td><td>2</td><td>1</td><td>4</td><td>1</td><td>3</td><td>4</td><td> 1</td><td> 0</td><td>neutral or dissatisfied</td></tr>\n",
       "\t<tr><th scope=row>17</th><td>0</td><td>1</td><td>26</td><td>0</td><td>1</td><td>2123</td><td>3</td><td>3</td><td>3</td><td>3</td><td>⋯</td><td>4</td><td>5</td><td>3</td><td>4</td><td>5</td><td>4</td><td>4</td><td>49</td><td>51</td><td>satisfied              </td></tr>\n",
       "\t<tr><th scope=row>18</th><td>1</td><td>1</td><td>41</td><td>0</td><td>1</td><td>2075</td><td>4</td><td>4</td><td>2</td><td>4</td><td>⋯</td><td>5</td><td>5</td><td>5</td><td>5</td><td>3</td><td>5</td><td>5</td><td> 0</td><td>10</td><td>satisfied              </td></tr>\n",
       "\t<tr><th scope=row>19</th><td>0</td><td>1</td><td>45</td><td>0</td><td>1</td><td>2486</td><td>4</td><td>4</td><td>4</td><td>4</td><td>⋯</td><td>5</td><td>5</td><td>5</td><td>5</td><td>3</td><td>5</td><td>4</td><td> 7</td><td> 5</td><td>satisfied              </td></tr>\n",
       "\t<tr><th scope=row>20</th><td>1</td><td>1</td><td>38</td><td>1</td><td>0</td><td> 460</td><td>2</td><td>3</td><td>3</td><td>2</td><td>⋯</td><td>5</td><td>1</td><td>2</td><td>4</td><td>3</td><td>2</td><td>5</td><td>17</td><td>18</td><td>neutral or dissatisfied</td></tr>\n",
       "\t<tr><th scope=row>21</th><td>1</td><td>1</td><td> 9</td><td>0</td><td>0</td><td>1174</td><td>2</td><td>4</td><td>2</td><td>4</td><td>⋯</td><td>2</td><td>1</td><td>5</td><td>3</td><td>4</td><td>3</td><td>2</td><td> 0</td><td> 4</td><td>neutral or dissatisfied</td></tr>\n",
       "\t<tr><th scope=row>22</th><td>0</td><td>1</td><td>17</td><td>1</td><td>0</td><td> 208</td><td>3</td><td>1</td><td>3</td><td>3</td><td>⋯</td><td>5</td><td>2</td><td>5</td><td>3</td><td>3</td><td>4</td><td>5</td><td> 0</td><td> 0</td><td>neutral or dissatisfied</td></tr>\n",
       "\t<tr><th scope=row>23</th><td>0</td><td>1</td><td>43</td><td>1</td><td>0</td><td> 752</td><td>3</td><td>5</td><td>3</td><td>5</td><td>⋯</td><td>3</td><td>3</td><td>3</td><td>5</td><td>3</td><td>3</td><td>4</td><td>52</td><td>29</td><td>neutral or dissatisfied</td></tr>\n",
       "\t<tr><th scope=row>24</th><td>0</td><td>1</td><td>58</td><td>1</td><td>0</td><td>2139</td><td>4</td><td>5</td><td>4</td><td>5</td><td>⋯</td><td>4</td><td>4</td><td>4</td><td>4</td><td>2</td><td>4</td><td>2</td><td> 0</td><td> 0</td><td>neutral or dissatisfied</td></tr>\n",
       "\t<tr><th scope=row>25</th><td>0</td><td>0</td><td>23</td><td>0</td><td>0</td><td> 452</td><td>5</td><td>0</td><td>5</td><td>1</td><td>⋯</td><td>1</td><td>4</td><td>5</td><td>5</td><td>3</td><td>5</td><td>1</td><td>54</td><td>44</td><td>satisfied              </td></tr>\n",
       "\t<tr><th scope=row>26</th><td>1</td><td>1</td><td>57</td><td>1</td><td>0</td><td> 719</td><td>4</td><td>4</td><td>4</td><td>1</td><td>⋯</td><td>5</td><td>3</td><td>2</td><td>4</td><td>4</td><td>5</td><td>5</td><td>27</td><td>28</td><td>neutral or dissatisfied</td></tr>\n",
       "\t<tr><th scope=row>27</th><td>0</td><td>1</td><td>33</td><td>0</td><td>1</td><td>1561</td><td>1</td><td>1</td><td>1</td><td>1</td><td>⋯</td><td>4</td><td>4</td><td>4</td><td>3</td><td>5</td><td>4</td><td>2</td><td> 0</td><td> 0</td><td>satisfied              </td></tr>\n",
       "\t<tr><th scope=row>28</th><td>0</td><td>1</td><td>49</td><td>0</td><td>0</td><td> 315</td><td>4</td><td>4</td><td>4</td><td>4</td><td>⋯</td><td>4</td><td>4</td><td>4</td><td>4</td><td>2</td><td>4</td><td>2</td><td> 0</td><td> 8</td><td>satisfied              </td></tr>\n",
       "\t<tr><th scope=row>29</th><td>0</td><td>1</td><td>36</td><td>0</td><td>1</td><td>3347</td><td>3</td><td>1</td><td>1</td><td>1</td><td>⋯</td><td>3</td><td>3</td><td>3</td><td>3</td><td>2</td><td>3</td><td>2</td><td>18</td><td>12</td><td>neutral or dissatisfied</td></tr>\n",
       "\t<tr><th scope=row>30</th><td>1</td><td>1</td><td>22</td><td>1</td><td>0</td><td>2342</td><td>3</td><td>2</td><td>3</td><td>3</td><td>⋯</td><td>3</td><td>2</td><td>4</td><td>3</td><td>4</td><td>2</td><td>3</td><td>19</td><td> 0</td><td>neutral or dissatisfied</td></tr>\n",
       "\t<tr><th scope=row>⋮</th><td>⋮</td><td>⋮</td><td>⋮</td><td>⋮</td><td>⋮</td><td>⋮</td><td>⋮</td><td>⋮</td><td>⋮</td><td>⋮</td><td>⋱</td><td>⋮</td><td>⋮</td><td>⋮</td><td>⋮</td><td>⋮</td><td>⋮</td><td>⋮</td><td>⋮</td><td>⋮</td><td>⋮</td></tr>\n",
       "\t<tr><th scope=row>129851</th><td>0</td><td>1</td><td>25</td><td>0</td><td>1</td><td>1389</td><td>1</td><td>4</td><td>4</td><td>4</td><td>⋯</td><td>1</td><td>1</td><td>1</td><td>4</td><td>4</td><td>3</td><td>1</td><td> 0</td><td> 0</td><td>neutral or dissatisfied</td></tr>\n",
       "\t<tr><th scope=row>129852</th><td>1</td><td>1</td><td>16</td><td>0</td><td>0</td><td>1368</td><td>0</td><td>4</td><td>0</td><td>4</td><td>⋯</td><td>2</td><td>5</td><td>1</td><td>4</td><td>4</td><td>2</td><td>2</td><td> 0</td><td> 0</td><td>satisfied              </td></tr>\n",
       "\t<tr><th scope=row>129853</th><td>1</td><td>1</td><td>37</td><td>1</td><td>0</td><td> 414</td><td>2</td><td>4</td><td>2</td><td>4</td><td>⋯</td><td>4</td><td>1</td><td>2</td><td>3</td><td>4</td><td>3</td><td>4</td><td> 0</td><td> 0</td><td>neutral or dissatisfied</td></tr>\n",
       "\t<tr><th scope=row>129854</th><td>1</td><td>0</td><td>56</td><td>0</td><td>0</td><td> 668</td><td>5</td><td>0</td><td>5</td><td>1</td><td>⋯</td><td>2</td><td>4</td><td>3</td><td>3</td><td>4</td><td>5</td><td>2</td><td> 0</td><td> 0</td><td>satisfied              </td></tr>\n",
       "\t<tr><th scope=row>129855</th><td>0</td><td>1</td><td>52</td><td>0</td><td>1</td><td>1620</td><td>4</td><td>4</td><td>4</td><td>4</td><td>⋯</td><td>4</td><td>4</td><td>4</td><td>4</td><td>4</td><td>4</td><td>5</td><td>30</td><td>26</td><td>satisfied              </td></tr>\n",
       "\t<tr><th scope=row>129856</th><td>0</td><td>0</td><td>21</td><td>0</td><td>0</td><td> 752</td><td>0</td><td>0</td><td>0</td><td>1</td><td>⋯</td><td>2</td><td>5</td><td>3</td><td>4</td><td>3</td><td>4</td><td>2</td><td> 0</td><td> 0</td><td>satisfied              </td></tr>\n",
       "\t<tr><th scope=row>129857</th><td>1</td><td>1</td><td>60</td><td>1</td><td>0</td><td> 931</td><td>2</td><td>3</td><td>1</td><td>2</td><td>⋯</td><td>3</td><td>4</td><td>1</td><td>2</td><td>4</td><td>3</td><td>3</td><td> 0</td><td> 0</td><td>neutral or dissatisfied</td></tr>\n",
       "\t<tr><th scope=row>129858</th><td>0</td><td>1</td><td>43</td><td>0</td><td>1</td><td>1448</td><td>4</td><td>1</td><td>4</td><td>4</td><td>⋯</td><td>5</td><td>5</td><td>5</td><td>5</td><td>5</td><td>5</td><td>2</td><td> 0</td><td> 0</td><td>satisfied              </td></tr>\n",
       "\t<tr><th scope=row>129859</th><td>0</td><td>1</td><td>29</td><td>0</td><td>1</td><td>2248</td><td>4</td><td>4</td><td>4</td><td>4</td><td>⋯</td><td>4</td><td>3</td><td>5</td><td>2</td><td>3</td><td>4</td><td>4</td><td> 1</td><td> 0</td><td>neutral or dissatisfied</td></tr>\n",
       "\t<tr><th scope=row>129860</th><td>0</td><td>1</td><td>65</td><td>1</td><td>0</td><td>2475</td><td>3</td><td>4</td><td>4</td><td>1</td><td>⋯</td><td>3</td><td>4</td><td>4</td><td>5</td><td>3</td><td>4</td><td>3</td><td> 0</td><td> 0</td><td>neutral or dissatisfied</td></tr>\n",
       "\t<tr><th scope=row>129861</th><td>0</td><td>1</td><td>29</td><td>0</td><td>1</td><td>2864</td><td>5</td><td>5</td><td>5</td><td>5</td><td>⋯</td><td>3</td><td>5</td><td>5</td><td>5</td><td>3</td><td>5</td><td>3</td><td> 0</td><td> 0</td><td>satisfied              </td></tr>\n",
       "\t<tr><th scope=row>129862</th><td>0</td><td>0</td><td>16</td><td>0</td><td>0</td><td>1073</td><td>2</td><td>2</td><td>2</td><td>1</td><td>⋯</td><td>3</td><td>5</td><td>1</td><td>2</td><td>1</td><td>5</td><td>3</td><td>21</td><td> 3</td><td>neutral or dissatisfied</td></tr>\n",
       "\t<tr><th scope=row>129863</th><td>1</td><td>1</td><td>16</td><td>0</td><td>1</td><td>3149</td><td>3</td><td>5</td><td>5</td><td>5</td><td>⋯</td><td>3</td><td>1</td><td>5</td><td>4</td><td>1</td><td>3</td><td>3</td><td> 0</td><td> 0</td><td>neutral or dissatisfied</td></tr>\n",
       "\t<tr><th scope=row>129864</th><td>0</td><td>1</td><td>58</td><td>0</td><td>0</td><td>1171</td><td>2</td><td>4</td><td>4</td><td>4</td><td>⋯</td><td>2</td><td>2</td><td>2</td><td>2</td><td>2</td><td>2</td><td>1</td><td> 0</td><td>18</td><td>neutral or dissatisfied</td></tr>\n",
       "\t<tr><th scope=row>129865</th><td>0</td><td>0</td><td>23</td><td>0</td><td>0</td><td> 447</td><td>4</td><td>0</td><td>4</td><td>3</td><td>⋯</td><td>1</td><td>4</td><td>4</td><td>5</td><td>5</td><td>4</td><td>1</td><td> 0</td><td> 0</td><td>neutral or dissatisfied</td></tr>\n",
       "\t<tr><th scope=row>129866</th><td>1</td><td>1</td><td>51</td><td>0</td><td>1</td><td>2296</td><td>3</td><td>3</td><td>3</td><td>3</td><td>⋯</td><td>5</td><td>5</td><td>5</td><td>5</td><td>3</td><td>5</td><td>3</td><td> 2</td><td> 0</td><td>satisfied              </td></tr>\n",
       "\t<tr><th scope=row>129867</th><td>0</td><td>0</td><td>21</td><td>0</td><td>0</td><td> 691</td><td>4</td><td>4</td><td>4</td><td>1</td><td>⋯</td><td>2</td><td>2</td><td>1</td><td>1</td><td>2</td><td>1</td><td>2</td><td> 0</td><td> 0</td><td>neutral or dissatisfied</td></tr>\n",
       "\t<tr><th scope=row>129868</th><td>0</td><td>1</td><td>65</td><td>1</td><td>0</td><td> 247</td><td>3</td><td>4</td><td>0</td><td>3</td><td>⋯</td><td>4</td><td>4</td><td>0</td><td>4</td><td>3</td><td>4</td><td>5</td><td> 0</td><td> 0</td><td>neutral or dissatisfied</td></tr>\n",
       "\t<tr><th scope=row>129869</th><td>0</td><td>1</td><td>48</td><td>0</td><td>0</td><td> 283</td><td>3</td><td>1</td><td>1</td><td>1</td><td>⋯</td><td>3</td><td>3</td><td>3</td><td>3</td><td>4</td><td>3</td><td>1</td><td>38</td><td>28</td><td>neutral or dissatisfied</td></tr>\n",
       "\t<tr><th scope=row>129870</th><td>0</td><td>1</td><td>51</td><td>1</td><td>0</td><td> 528</td><td>4</td><td>4</td><td>4</td><td>2</td><td>⋯</td><td>5</td><td>5</td><td>4</td><td>5</td><td>4</td><td>5</td><td>4</td><td> 0</td><td> 0</td><td>neutral or dissatisfied</td></tr>\n",
       "\t<tr><th scope=row>129871</th><td>1</td><td>0</td><td>42</td><td>0</td><td>0</td><td>1024</td><td>4</td><td>4</td><td>4</td><td>2</td><td>⋯</td><td>3</td><td>3</td><td>1</td><td>2</td><td>2</td><td>3</td><td>3</td><td> 0</td><td>17</td><td>neutral or dissatisfied</td></tr>\n",
       "\t<tr><th scope=row>129872</th><td>0</td><td>0</td><td>39</td><td>0</td><td>1</td><td> 404</td><td>1</td><td>1</td><td>1</td><td>3</td><td>⋯</td><td>2</td><td>5</td><td>3</td><td>4</td><td>4</td><td>4</td><td>2</td><td> 0</td><td> 0</td><td>neutral or dissatisfied</td></tr>\n",
       "\t<tr><th scope=row>129873</th><td>1</td><td>1</td><td>41</td><td>0</td><td>0</td><td> 692</td><td>2</td><td>2</td><td>2</td><td>2</td><td>⋯</td><td>2</td><td>2</td><td>3</td><td>3</td><td>2</td><td>3</td><td>2</td><td>15</td><td> 3</td><td>neutral or dissatisfied</td></tr>\n",
       "\t<tr><th scope=row>129874</th><td>1</td><td>1</td><td>52</td><td>0</td><td>1</td><td> 280</td><td>3</td><td>3</td><td>3</td><td>3</td><td>⋯</td><td>4</td><td>4</td><td>4</td><td>4</td><td>3</td><td>4</td><td>3</td><td> 0</td><td> 0</td><td>satisfied              </td></tr>\n",
       "\t<tr><th scope=row>129875</th><td>0</td><td>0</td><td>36</td><td>0</td><td>0</td><td> 432</td><td>1</td><td>5</td><td>1</td><td>3</td><td>⋯</td><td>4</td><td>5</td><td>2</td><td>5</td><td>2</td><td>3</td><td>4</td><td> 0</td><td> 0</td><td>neutral or dissatisfied</td></tr>\n",
       "\t<tr><th scope=row>129876</th><td>1</td><td>0</td><td>34</td><td>0</td><td>1</td><td> 526</td><td>3</td><td>3</td><td>3</td><td>1</td><td>⋯</td><td>4</td><td>3</td><td>2</td><td>4</td><td>4</td><td>5</td><td>4</td><td> 0</td><td> 0</td><td>neutral or dissatisfied</td></tr>\n",
       "\t<tr><th scope=row>129877</th><td>1</td><td>1</td><td>23</td><td>0</td><td>1</td><td> 646</td><td>4</td><td>4</td><td>4</td><td>4</td><td>⋯</td><td>4</td><td>4</td><td>5</td><td>5</td><td>5</td><td>5</td><td>4</td><td> 0</td><td> 0</td><td>satisfied              </td></tr>\n",
       "\t<tr><th scope=row>129878</th><td>0</td><td>1</td><td>17</td><td>1</td><td>0</td><td> 828</td><td>2</td><td>5</td><td>1</td><td>5</td><td>⋯</td><td>2</td><td>4</td><td>3</td><td>4</td><td>5</td><td>4</td><td>2</td><td> 0</td><td> 0</td><td>neutral or dissatisfied</td></tr>\n",
       "\t<tr><th scope=row>129879</th><td>1</td><td>1</td><td>14</td><td>0</td><td>1</td><td>1127</td><td>3</td><td>3</td><td>3</td><td>3</td><td>⋯</td><td>4</td><td>3</td><td>2</td><td>5</td><td>4</td><td>5</td><td>4</td><td> 0</td><td> 0</td><td>satisfied              </td></tr>\n",
       "\t<tr><th scope=row>129880</th><td>0</td><td>1</td><td>42</td><td>1</td><td>0</td><td> 264</td><td>2</td><td>5</td><td>2</td><td>5</td><td>⋯</td><td>1</td><td>1</td><td>2</td><td>1</td><td>1</td><td>1</td><td>1</td><td> 0</td><td> 0</td><td>neutral or dissatisfied</td></tr>\n",
       "</tbody>\n",
       "</table>\n"
      ],
      "text/latex": [
       "A data.frame: 129880 × 23\n",
       "\\begin{tabular}{r|lllllllllllllllllllll}\n",
       "  & Gender & Customer.Type & Age & Type.of.Travel & Class & Flight.Distance & Inflight.wifi.service & Departure.Arrival.time.convenient & Ease.of.Online.booking & Gate.location & ⋯ & Inflight.entertainment & On.board.service & Leg.room.service & Baggage.handling & Checkin.service & Inflight.service & Cleanliness & Departure.Delay.in.Minutes & Arrival.Delay.in.Minutes & satisfaction\\\\\n",
       "  & <dbl> & <dbl> & <int> & <dbl> & <dbl> & <int> & <int> & <int> & <int> & <int> & ⋯ & <int> & <int> & <int> & <int> & <int> & <int> & <int> & <int> & <dbl> & <fct>\\\\\n",
       "\\hline\n",
       "\t1 & 1 & 1 & 13 & 1 & 0 &  460 & 3 & 4 & 3 & 1 & ⋯ & 5 & 4 & 3 & 4 & 4 & 5 & 5 & 25 & 18 & neutral or dissatisfied\\\\\n",
       "\t2 & 1 & 0 & 25 & 0 & 1 &  235 & 3 & 2 & 3 & 3 & ⋯ & 1 & 1 & 5 & 3 & 1 & 4 & 1 &  1 &  6 & neutral or dissatisfied\\\\\n",
       "\t3 & 0 & 1 & 26 & 0 & 1 & 1142 & 2 & 2 & 2 & 2 & ⋯ & 5 & 4 & 3 & 4 & 4 & 4 & 5 &  0 &  0 & satisfied              \\\\\n",
       "\t4 & 0 & 1 & 25 & 0 & 1 &  562 & 2 & 5 & 5 & 5 & ⋯ & 2 & 2 & 5 & 3 & 1 & 4 & 2 & 11 &  9 & neutral or dissatisfied\\\\\n",
       "\t5 & 1 & 1 & 61 & 0 & 1 &  214 & 3 & 3 & 3 & 3 & ⋯ & 3 & 3 & 4 & 4 & 3 & 3 & 3 &  0 &  0 & satisfied              \\\\\n",
       "\t6 & 0 & 1 & 26 & 1 & 0 & 1180 & 3 & 4 & 2 & 1 & ⋯ & 1 & 3 & 4 & 4 & 4 & 4 & 1 &  0 &  0 & neutral or dissatisfied\\\\\n",
       "\t7 & 1 & 1 & 47 & 1 & 0 & 1276 & 2 & 4 & 2 & 3 & ⋯ & 2 & 3 & 3 & 4 & 3 & 5 & 2 &  9 & 23 & neutral or dissatisfied\\\\\n",
       "\t8 & 0 & 1 & 52 & 0 & 1 & 2035 & 4 & 3 & 4 & 4 & ⋯ & 5 & 5 & 5 & 5 & 4 & 5 & 4 &  4 &  0 & satisfied              \\\\\n",
       "\t9 & 0 & 1 & 41 & 0 & 1 &  853 & 1 & 2 & 2 & 2 & ⋯ & 1 & 1 & 2 & 1 & 4 & 1 & 2 &  0 &  0 & neutral or dissatisfied\\\\\n",
       "\t10 & 1 & 0 & 20 & 0 & 0 & 1061 & 3 & 3 & 3 & 4 & ⋯ & 2 & 2 & 3 & 4 & 4 & 3 & 2 &  0 &  0 & neutral or dissatisfied\\\\\n",
       "\t11 & 0 & 0 & 24 & 0 & 0 & 1182 & 4 & 5 & 5 & 4 & ⋯ & 2 & 3 & 3 & 5 & 3 & 5 & 2 &  0 &  0 & neutral or dissatisfied\\\\\n",
       "\t12 & 0 & 1 & 12 & 1 & 0 &  308 & 2 & 4 & 2 & 2 & ⋯ & 1 & 1 & 2 & 5 & 5 & 5 & 1 &  0 &  0 & neutral or dissatisfied\\\\\n",
       "\t13 & 1 & 1 & 53 & 0 & 0 &  834 & 1 & 4 & 4 & 4 & ⋯ & 1 & 1 & 1 & 3 & 4 & 4 & 1 & 28 &  8 & neutral or dissatisfied\\\\\n",
       "\t14 & 1 & 1 & 33 & 1 & 0 &  946 & 4 & 2 & 4 & 3 & ⋯ & 4 & 4 & 5 & 2 & 2 & 2 & 4 &  0 &  0 & satisfied              \\\\\n",
       "\t15 & 0 & 1 & 26 & 1 & 0 &  453 & 3 & 2 & 3 & 2 & ⋯ & 2 & 4 & 3 & 2 & 2 & 1 & 2 & 43 & 35 & neutral or dissatisfied\\\\\n",
       "\t16 & 1 & 0 & 13 & 0 & 0 &  486 & 2 & 1 & 2 & 3 & ⋯ & 4 & 2 & 1 & 4 & 1 & 3 & 4 &  1 &  0 & neutral or dissatisfied\\\\\n",
       "\t17 & 0 & 1 & 26 & 0 & 1 & 2123 & 3 & 3 & 3 & 3 & ⋯ & 4 & 5 & 3 & 4 & 5 & 4 & 4 & 49 & 51 & satisfied              \\\\\n",
       "\t18 & 1 & 1 & 41 & 0 & 1 & 2075 & 4 & 4 & 2 & 4 & ⋯ & 5 & 5 & 5 & 5 & 3 & 5 & 5 &  0 & 10 & satisfied              \\\\\n",
       "\t19 & 0 & 1 & 45 & 0 & 1 & 2486 & 4 & 4 & 4 & 4 & ⋯ & 5 & 5 & 5 & 5 & 3 & 5 & 4 &  7 &  5 & satisfied              \\\\\n",
       "\t20 & 1 & 1 & 38 & 1 & 0 &  460 & 2 & 3 & 3 & 2 & ⋯ & 5 & 1 & 2 & 4 & 3 & 2 & 5 & 17 & 18 & neutral or dissatisfied\\\\\n",
       "\t21 & 1 & 1 &  9 & 0 & 0 & 1174 & 2 & 4 & 2 & 4 & ⋯ & 2 & 1 & 5 & 3 & 4 & 3 & 2 &  0 &  4 & neutral or dissatisfied\\\\\n",
       "\t22 & 0 & 1 & 17 & 1 & 0 &  208 & 3 & 1 & 3 & 3 & ⋯ & 5 & 2 & 5 & 3 & 3 & 4 & 5 &  0 &  0 & neutral or dissatisfied\\\\\n",
       "\t23 & 0 & 1 & 43 & 1 & 0 &  752 & 3 & 5 & 3 & 5 & ⋯ & 3 & 3 & 3 & 5 & 3 & 3 & 4 & 52 & 29 & neutral or dissatisfied\\\\\n",
       "\t24 & 0 & 1 & 58 & 1 & 0 & 2139 & 4 & 5 & 4 & 5 & ⋯ & 4 & 4 & 4 & 4 & 2 & 4 & 2 &  0 &  0 & neutral or dissatisfied\\\\\n",
       "\t25 & 0 & 0 & 23 & 0 & 0 &  452 & 5 & 0 & 5 & 1 & ⋯ & 1 & 4 & 5 & 5 & 3 & 5 & 1 & 54 & 44 & satisfied              \\\\\n",
       "\t26 & 1 & 1 & 57 & 1 & 0 &  719 & 4 & 4 & 4 & 1 & ⋯ & 5 & 3 & 2 & 4 & 4 & 5 & 5 & 27 & 28 & neutral or dissatisfied\\\\\n",
       "\t27 & 0 & 1 & 33 & 0 & 1 & 1561 & 1 & 1 & 1 & 1 & ⋯ & 4 & 4 & 4 & 3 & 5 & 4 & 2 &  0 &  0 & satisfied              \\\\\n",
       "\t28 & 0 & 1 & 49 & 0 & 0 &  315 & 4 & 4 & 4 & 4 & ⋯ & 4 & 4 & 4 & 4 & 2 & 4 & 2 &  0 &  8 & satisfied              \\\\\n",
       "\t29 & 0 & 1 & 36 & 0 & 1 & 3347 & 3 & 1 & 1 & 1 & ⋯ & 3 & 3 & 3 & 3 & 2 & 3 & 2 & 18 & 12 & neutral or dissatisfied\\\\\n",
       "\t30 & 1 & 1 & 22 & 1 & 0 & 2342 & 3 & 2 & 3 & 3 & ⋯ & 3 & 2 & 4 & 3 & 4 & 2 & 3 & 19 &  0 & neutral or dissatisfied\\\\\n",
       "\t⋮ & ⋮ & ⋮ & ⋮ & ⋮ & ⋮ & ⋮ & ⋮ & ⋮ & ⋮ & ⋮ & ⋱ & ⋮ & ⋮ & ⋮ & ⋮ & ⋮ & ⋮ & ⋮ & ⋮ & ⋮ & ⋮\\\\\n",
       "\t129851 & 0 & 1 & 25 & 0 & 1 & 1389 & 1 & 4 & 4 & 4 & ⋯ & 1 & 1 & 1 & 4 & 4 & 3 & 1 &  0 &  0 & neutral or dissatisfied\\\\\n",
       "\t129852 & 1 & 1 & 16 & 0 & 0 & 1368 & 0 & 4 & 0 & 4 & ⋯ & 2 & 5 & 1 & 4 & 4 & 2 & 2 &  0 &  0 & satisfied              \\\\\n",
       "\t129853 & 1 & 1 & 37 & 1 & 0 &  414 & 2 & 4 & 2 & 4 & ⋯ & 4 & 1 & 2 & 3 & 4 & 3 & 4 &  0 &  0 & neutral or dissatisfied\\\\\n",
       "\t129854 & 1 & 0 & 56 & 0 & 0 &  668 & 5 & 0 & 5 & 1 & ⋯ & 2 & 4 & 3 & 3 & 4 & 5 & 2 &  0 &  0 & satisfied              \\\\\n",
       "\t129855 & 0 & 1 & 52 & 0 & 1 & 1620 & 4 & 4 & 4 & 4 & ⋯ & 4 & 4 & 4 & 4 & 4 & 4 & 5 & 30 & 26 & satisfied              \\\\\n",
       "\t129856 & 0 & 0 & 21 & 0 & 0 &  752 & 0 & 0 & 0 & 1 & ⋯ & 2 & 5 & 3 & 4 & 3 & 4 & 2 &  0 &  0 & satisfied              \\\\\n",
       "\t129857 & 1 & 1 & 60 & 1 & 0 &  931 & 2 & 3 & 1 & 2 & ⋯ & 3 & 4 & 1 & 2 & 4 & 3 & 3 &  0 &  0 & neutral or dissatisfied\\\\\n",
       "\t129858 & 0 & 1 & 43 & 0 & 1 & 1448 & 4 & 1 & 4 & 4 & ⋯ & 5 & 5 & 5 & 5 & 5 & 5 & 2 &  0 &  0 & satisfied              \\\\\n",
       "\t129859 & 0 & 1 & 29 & 0 & 1 & 2248 & 4 & 4 & 4 & 4 & ⋯ & 4 & 3 & 5 & 2 & 3 & 4 & 4 &  1 &  0 & neutral or dissatisfied\\\\\n",
       "\t129860 & 0 & 1 & 65 & 1 & 0 & 2475 & 3 & 4 & 4 & 1 & ⋯ & 3 & 4 & 4 & 5 & 3 & 4 & 3 &  0 &  0 & neutral or dissatisfied\\\\\n",
       "\t129861 & 0 & 1 & 29 & 0 & 1 & 2864 & 5 & 5 & 5 & 5 & ⋯ & 3 & 5 & 5 & 5 & 3 & 5 & 3 &  0 &  0 & satisfied              \\\\\n",
       "\t129862 & 0 & 0 & 16 & 0 & 0 & 1073 & 2 & 2 & 2 & 1 & ⋯ & 3 & 5 & 1 & 2 & 1 & 5 & 3 & 21 &  3 & neutral or dissatisfied\\\\\n",
       "\t129863 & 1 & 1 & 16 & 0 & 1 & 3149 & 3 & 5 & 5 & 5 & ⋯ & 3 & 1 & 5 & 4 & 1 & 3 & 3 &  0 &  0 & neutral or dissatisfied\\\\\n",
       "\t129864 & 0 & 1 & 58 & 0 & 0 & 1171 & 2 & 4 & 4 & 4 & ⋯ & 2 & 2 & 2 & 2 & 2 & 2 & 1 &  0 & 18 & neutral or dissatisfied\\\\\n",
       "\t129865 & 0 & 0 & 23 & 0 & 0 &  447 & 4 & 0 & 4 & 3 & ⋯ & 1 & 4 & 4 & 5 & 5 & 4 & 1 &  0 &  0 & neutral or dissatisfied\\\\\n",
       "\t129866 & 1 & 1 & 51 & 0 & 1 & 2296 & 3 & 3 & 3 & 3 & ⋯ & 5 & 5 & 5 & 5 & 3 & 5 & 3 &  2 &  0 & satisfied              \\\\\n",
       "\t129867 & 0 & 0 & 21 & 0 & 0 &  691 & 4 & 4 & 4 & 1 & ⋯ & 2 & 2 & 1 & 1 & 2 & 1 & 2 &  0 &  0 & neutral or dissatisfied\\\\\n",
       "\t129868 & 0 & 1 & 65 & 1 & 0 &  247 & 3 & 4 & 0 & 3 & ⋯ & 4 & 4 & 0 & 4 & 3 & 4 & 5 &  0 &  0 & neutral or dissatisfied\\\\\n",
       "\t129869 & 0 & 1 & 48 & 0 & 0 &  283 & 3 & 1 & 1 & 1 & ⋯ & 3 & 3 & 3 & 3 & 4 & 3 & 1 & 38 & 28 & neutral or dissatisfied\\\\\n",
       "\t129870 & 0 & 1 & 51 & 1 & 0 &  528 & 4 & 4 & 4 & 2 & ⋯ & 5 & 5 & 4 & 5 & 4 & 5 & 4 &  0 &  0 & neutral or dissatisfied\\\\\n",
       "\t129871 & 1 & 0 & 42 & 0 & 0 & 1024 & 4 & 4 & 4 & 2 & ⋯ & 3 & 3 & 1 & 2 & 2 & 3 & 3 &  0 & 17 & neutral or dissatisfied\\\\\n",
       "\t129872 & 0 & 0 & 39 & 0 & 1 &  404 & 1 & 1 & 1 & 3 & ⋯ & 2 & 5 & 3 & 4 & 4 & 4 & 2 &  0 &  0 & neutral or dissatisfied\\\\\n",
       "\t129873 & 1 & 1 & 41 & 0 & 0 &  692 & 2 & 2 & 2 & 2 & ⋯ & 2 & 2 & 3 & 3 & 2 & 3 & 2 & 15 &  3 & neutral or dissatisfied\\\\\n",
       "\t129874 & 1 & 1 & 52 & 0 & 1 &  280 & 3 & 3 & 3 & 3 & ⋯ & 4 & 4 & 4 & 4 & 3 & 4 & 3 &  0 &  0 & satisfied              \\\\\n",
       "\t129875 & 0 & 0 & 36 & 0 & 0 &  432 & 1 & 5 & 1 & 3 & ⋯ & 4 & 5 & 2 & 5 & 2 & 3 & 4 &  0 &  0 & neutral or dissatisfied\\\\\n",
       "\t129876 & 1 & 0 & 34 & 0 & 1 &  526 & 3 & 3 & 3 & 1 & ⋯ & 4 & 3 & 2 & 4 & 4 & 5 & 4 &  0 &  0 & neutral or dissatisfied\\\\\n",
       "\t129877 & 1 & 1 & 23 & 0 & 1 &  646 & 4 & 4 & 4 & 4 & ⋯ & 4 & 4 & 5 & 5 & 5 & 5 & 4 &  0 &  0 & satisfied              \\\\\n",
       "\t129878 & 0 & 1 & 17 & 1 & 0 &  828 & 2 & 5 & 1 & 5 & ⋯ & 2 & 4 & 3 & 4 & 5 & 4 & 2 &  0 &  0 & neutral or dissatisfied\\\\\n",
       "\t129879 & 1 & 1 & 14 & 0 & 1 & 1127 & 3 & 3 & 3 & 3 & ⋯ & 4 & 3 & 2 & 5 & 4 & 5 & 4 &  0 &  0 & satisfied              \\\\\n",
       "\t129880 & 0 & 1 & 42 & 1 & 0 &  264 & 2 & 5 & 2 & 5 & ⋯ & 1 & 1 & 2 & 1 & 1 & 1 & 1 &  0 &  0 & neutral or dissatisfied\\\\\n",
       "\\end{tabular}\n"
      ],
      "text/markdown": [
       "\n",
       "A data.frame: 129880 × 23\n",
       "\n",
       "| <!--/--> | Gender &lt;dbl&gt; | Customer.Type &lt;dbl&gt; | Age &lt;int&gt; | Type.of.Travel &lt;dbl&gt; | Class &lt;dbl&gt; | Flight.Distance &lt;int&gt; | Inflight.wifi.service &lt;int&gt; | Departure.Arrival.time.convenient &lt;int&gt; | Ease.of.Online.booking &lt;int&gt; | Gate.location &lt;int&gt; | ⋯ ⋯ | Inflight.entertainment &lt;int&gt; | On.board.service &lt;int&gt; | Leg.room.service &lt;int&gt; | Baggage.handling &lt;int&gt; | Checkin.service &lt;int&gt; | Inflight.service &lt;int&gt; | Cleanliness &lt;int&gt; | Departure.Delay.in.Minutes &lt;int&gt; | Arrival.Delay.in.Minutes &lt;dbl&gt; | satisfaction &lt;fct&gt; |\n",
       "|---|---|---|---|---|---|---|---|---|---|---|---|---|---|---|---|---|---|---|---|---|---|\n",
       "| 1 | 1 | 1 | 13 | 1 | 0 |  460 | 3 | 4 | 3 | 1 | ⋯ | 5 | 4 | 3 | 4 | 4 | 5 | 5 | 25 | 18 | neutral or dissatisfied |\n",
       "| 2 | 1 | 0 | 25 | 0 | 1 |  235 | 3 | 2 | 3 | 3 | ⋯ | 1 | 1 | 5 | 3 | 1 | 4 | 1 |  1 |  6 | neutral or dissatisfied |\n",
       "| 3 | 0 | 1 | 26 | 0 | 1 | 1142 | 2 | 2 | 2 | 2 | ⋯ | 5 | 4 | 3 | 4 | 4 | 4 | 5 |  0 |  0 | satisfied               |\n",
       "| 4 | 0 | 1 | 25 | 0 | 1 |  562 | 2 | 5 | 5 | 5 | ⋯ | 2 | 2 | 5 | 3 | 1 | 4 | 2 | 11 |  9 | neutral or dissatisfied |\n",
       "| 5 | 1 | 1 | 61 | 0 | 1 |  214 | 3 | 3 | 3 | 3 | ⋯ | 3 | 3 | 4 | 4 | 3 | 3 | 3 |  0 |  0 | satisfied               |\n",
       "| 6 | 0 | 1 | 26 | 1 | 0 | 1180 | 3 | 4 | 2 | 1 | ⋯ | 1 | 3 | 4 | 4 | 4 | 4 | 1 |  0 |  0 | neutral or dissatisfied |\n",
       "| 7 | 1 | 1 | 47 | 1 | 0 | 1276 | 2 | 4 | 2 | 3 | ⋯ | 2 | 3 | 3 | 4 | 3 | 5 | 2 |  9 | 23 | neutral or dissatisfied |\n",
       "| 8 | 0 | 1 | 52 | 0 | 1 | 2035 | 4 | 3 | 4 | 4 | ⋯ | 5 | 5 | 5 | 5 | 4 | 5 | 4 |  4 |  0 | satisfied               |\n",
       "| 9 | 0 | 1 | 41 | 0 | 1 |  853 | 1 | 2 | 2 | 2 | ⋯ | 1 | 1 | 2 | 1 | 4 | 1 | 2 |  0 |  0 | neutral or dissatisfied |\n",
       "| 10 | 1 | 0 | 20 | 0 | 0 | 1061 | 3 | 3 | 3 | 4 | ⋯ | 2 | 2 | 3 | 4 | 4 | 3 | 2 |  0 |  0 | neutral or dissatisfied |\n",
       "| 11 | 0 | 0 | 24 | 0 | 0 | 1182 | 4 | 5 | 5 | 4 | ⋯ | 2 | 3 | 3 | 5 | 3 | 5 | 2 |  0 |  0 | neutral or dissatisfied |\n",
       "| 12 | 0 | 1 | 12 | 1 | 0 |  308 | 2 | 4 | 2 | 2 | ⋯ | 1 | 1 | 2 | 5 | 5 | 5 | 1 |  0 |  0 | neutral or dissatisfied |\n",
       "| 13 | 1 | 1 | 53 | 0 | 0 |  834 | 1 | 4 | 4 | 4 | ⋯ | 1 | 1 | 1 | 3 | 4 | 4 | 1 | 28 |  8 | neutral or dissatisfied |\n",
       "| 14 | 1 | 1 | 33 | 1 | 0 |  946 | 4 | 2 | 4 | 3 | ⋯ | 4 | 4 | 5 | 2 | 2 | 2 | 4 |  0 |  0 | satisfied               |\n",
       "| 15 | 0 | 1 | 26 | 1 | 0 |  453 | 3 | 2 | 3 | 2 | ⋯ | 2 | 4 | 3 | 2 | 2 | 1 | 2 | 43 | 35 | neutral or dissatisfied |\n",
       "| 16 | 1 | 0 | 13 | 0 | 0 |  486 | 2 | 1 | 2 | 3 | ⋯ | 4 | 2 | 1 | 4 | 1 | 3 | 4 |  1 |  0 | neutral or dissatisfied |\n",
       "| 17 | 0 | 1 | 26 | 0 | 1 | 2123 | 3 | 3 | 3 | 3 | ⋯ | 4 | 5 | 3 | 4 | 5 | 4 | 4 | 49 | 51 | satisfied               |\n",
       "| 18 | 1 | 1 | 41 | 0 | 1 | 2075 | 4 | 4 | 2 | 4 | ⋯ | 5 | 5 | 5 | 5 | 3 | 5 | 5 |  0 | 10 | satisfied               |\n",
       "| 19 | 0 | 1 | 45 | 0 | 1 | 2486 | 4 | 4 | 4 | 4 | ⋯ | 5 | 5 | 5 | 5 | 3 | 5 | 4 |  7 |  5 | satisfied               |\n",
       "| 20 | 1 | 1 | 38 | 1 | 0 |  460 | 2 | 3 | 3 | 2 | ⋯ | 5 | 1 | 2 | 4 | 3 | 2 | 5 | 17 | 18 | neutral or dissatisfied |\n",
       "| 21 | 1 | 1 |  9 | 0 | 0 | 1174 | 2 | 4 | 2 | 4 | ⋯ | 2 | 1 | 5 | 3 | 4 | 3 | 2 |  0 |  4 | neutral or dissatisfied |\n",
       "| 22 | 0 | 1 | 17 | 1 | 0 |  208 | 3 | 1 | 3 | 3 | ⋯ | 5 | 2 | 5 | 3 | 3 | 4 | 5 |  0 |  0 | neutral or dissatisfied |\n",
       "| 23 | 0 | 1 | 43 | 1 | 0 |  752 | 3 | 5 | 3 | 5 | ⋯ | 3 | 3 | 3 | 5 | 3 | 3 | 4 | 52 | 29 | neutral or dissatisfied |\n",
       "| 24 | 0 | 1 | 58 | 1 | 0 | 2139 | 4 | 5 | 4 | 5 | ⋯ | 4 | 4 | 4 | 4 | 2 | 4 | 2 |  0 |  0 | neutral or dissatisfied |\n",
       "| 25 | 0 | 0 | 23 | 0 | 0 |  452 | 5 | 0 | 5 | 1 | ⋯ | 1 | 4 | 5 | 5 | 3 | 5 | 1 | 54 | 44 | satisfied               |\n",
       "| 26 | 1 | 1 | 57 | 1 | 0 |  719 | 4 | 4 | 4 | 1 | ⋯ | 5 | 3 | 2 | 4 | 4 | 5 | 5 | 27 | 28 | neutral or dissatisfied |\n",
       "| 27 | 0 | 1 | 33 | 0 | 1 | 1561 | 1 | 1 | 1 | 1 | ⋯ | 4 | 4 | 4 | 3 | 5 | 4 | 2 |  0 |  0 | satisfied               |\n",
       "| 28 | 0 | 1 | 49 | 0 | 0 |  315 | 4 | 4 | 4 | 4 | ⋯ | 4 | 4 | 4 | 4 | 2 | 4 | 2 |  0 |  8 | satisfied               |\n",
       "| 29 | 0 | 1 | 36 | 0 | 1 | 3347 | 3 | 1 | 1 | 1 | ⋯ | 3 | 3 | 3 | 3 | 2 | 3 | 2 | 18 | 12 | neutral or dissatisfied |\n",
       "| 30 | 1 | 1 | 22 | 1 | 0 | 2342 | 3 | 2 | 3 | 3 | ⋯ | 3 | 2 | 4 | 3 | 4 | 2 | 3 | 19 |  0 | neutral or dissatisfied |\n",
       "| ⋮ | ⋮ | ⋮ | ⋮ | ⋮ | ⋮ | ⋮ | ⋮ | ⋮ | ⋮ | ⋮ | ⋱ | ⋮ | ⋮ | ⋮ | ⋮ | ⋮ | ⋮ | ⋮ | ⋮ | ⋮ | ⋮ |\n",
       "| 129851 | 0 | 1 | 25 | 0 | 1 | 1389 | 1 | 4 | 4 | 4 | ⋯ | 1 | 1 | 1 | 4 | 4 | 3 | 1 |  0 |  0 | neutral or dissatisfied |\n",
       "| 129852 | 1 | 1 | 16 | 0 | 0 | 1368 | 0 | 4 | 0 | 4 | ⋯ | 2 | 5 | 1 | 4 | 4 | 2 | 2 |  0 |  0 | satisfied               |\n",
       "| 129853 | 1 | 1 | 37 | 1 | 0 |  414 | 2 | 4 | 2 | 4 | ⋯ | 4 | 1 | 2 | 3 | 4 | 3 | 4 |  0 |  0 | neutral or dissatisfied |\n",
       "| 129854 | 1 | 0 | 56 | 0 | 0 |  668 | 5 | 0 | 5 | 1 | ⋯ | 2 | 4 | 3 | 3 | 4 | 5 | 2 |  0 |  0 | satisfied               |\n",
       "| 129855 | 0 | 1 | 52 | 0 | 1 | 1620 | 4 | 4 | 4 | 4 | ⋯ | 4 | 4 | 4 | 4 | 4 | 4 | 5 | 30 | 26 | satisfied               |\n",
       "| 129856 | 0 | 0 | 21 | 0 | 0 |  752 | 0 | 0 | 0 | 1 | ⋯ | 2 | 5 | 3 | 4 | 3 | 4 | 2 |  0 |  0 | satisfied               |\n",
       "| 129857 | 1 | 1 | 60 | 1 | 0 |  931 | 2 | 3 | 1 | 2 | ⋯ | 3 | 4 | 1 | 2 | 4 | 3 | 3 |  0 |  0 | neutral or dissatisfied |\n",
       "| 129858 | 0 | 1 | 43 | 0 | 1 | 1448 | 4 | 1 | 4 | 4 | ⋯ | 5 | 5 | 5 | 5 | 5 | 5 | 2 |  0 |  0 | satisfied               |\n",
       "| 129859 | 0 | 1 | 29 | 0 | 1 | 2248 | 4 | 4 | 4 | 4 | ⋯ | 4 | 3 | 5 | 2 | 3 | 4 | 4 |  1 |  0 | neutral or dissatisfied |\n",
       "| 129860 | 0 | 1 | 65 | 1 | 0 | 2475 | 3 | 4 | 4 | 1 | ⋯ | 3 | 4 | 4 | 5 | 3 | 4 | 3 |  0 |  0 | neutral or dissatisfied |\n",
       "| 129861 | 0 | 1 | 29 | 0 | 1 | 2864 | 5 | 5 | 5 | 5 | ⋯ | 3 | 5 | 5 | 5 | 3 | 5 | 3 |  0 |  0 | satisfied               |\n",
       "| 129862 | 0 | 0 | 16 | 0 | 0 | 1073 | 2 | 2 | 2 | 1 | ⋯ | 3 | 5 | 1 | 2 | 1 | 5 | 3 | 21 |  3 | neutral or dissatisfied |\n",
       "| 129863 | 1 | 1 | 16 | 0 | 1 | 3149 | 3 | 5 | 5 | 5 | ⋯ | 3 | 1 | 5 | 4 | 1 | 3 | 3 |  0 |  0 | neutral or dissatisfied |\n",
       "| 129864 | 0 | 1 | 58 | 0 | 0 | 1171 | 2 | 4 | 4 | 4 | ⋯ | 2 | 2 | 2 | 2 | 2 | 2 | 1 |  0 | 18 | neutral or dissatisfied |\n",
       "| 129865 | 0 | 0 | 23 | 0 | 0 |  447 | 4 | 0 | 4 | 3 | ⋯ | 1 | 4 | 4 | 5 | 5 | 4 | 1 |  0 |  0 | neutral or dissatisfied |\n",
       "| 129866 | 1 | 1 | 51 | 0 | 1 | 2296 | 3 | 3 | 3 | 3 | ⋯ | 5 | 5 | 5 | 5 | 3 | 5 | 3 |  2 |  0 | satisfied               |\n",
       "| 129867 | 0 | 0 | 21 | 0 | 0 |  691 | 4 | 4 | 4 | 1 | ⋯ | 2 | 2 | 1 | 1 | 2 | 1 | 2 |  0 |  0 | neutral or dissatisfied |\n",
       "| 129868 | 0 | 1 | 65 | 1 | 0 |  247 | 3 | 4 | 0 | 3 | ⋯ | 4 | 4 | 0 | 4 | 3 | 4 | 5 |  0 |  0 | neutral or dissatisfied |\n",
       "| 129869 | 0 | 1 | 48 | 0 | 0 |  283 | 3 | 1 | 1 | 1 | ⋯ | 3 | 3 | 3 | 3 | 4 | 3 | 1 | 38 | 28 | neutral or dissatisfied |\n",
       "| 129870 | 0 | 1 | 51 | 1 | 0 |  528 | 4 | 4 | 4 | 2 | ⋯ | 5 | 5 | 4 | 5 | 4 | 5 | 4 |  0 |  0 | neutral or dissatisfied |\n",
       "| 129871 | 1 | 0 | 42 | 0 | 0 | 1024 | 4 | 4 | 4 | 2 | ⋯ | 3 | 3 | 1 | 2 | 2 | 3 | 3 |  0 | 17 | neutral or dissatisfied |\n",
       "| 129872 | 0 | 0 | 39 | 0 | 1 |  404 | 1 | 1 | 1 | 3 | ⋯ | 2 | 5 | 3 | 4 | 4 | 4 | 2 |  0 |  0 | neutral or dissatisfied |\n",
       "| 129873 | 1 | 1 | 41 | 0 | 0 |  692 | 2 | 2 | 2 | 2 | ⋯ | 2 | 2 | 3 | 3 | 2 | 3 | 2 | 15 |  3 | neutral or dissatisfied |\n",
       "| 129874 | 1 | 1 | 52 | 0 | 1 |  280 | 3 | 3 | 3 | 3 | ⋯ | 4 | 4 | 4 | 4 | 3 | 4 | 3 |  0 |  0 | satisfied               |\n",
       "| 129875 | 0 | 0 | 36 | 0 | 0 |  432 | 1 | 5 | 1 | 3 | ⋯ | 4 | 5 | 2 | 5 | 2 | 3 | 4 |  0 |  0 | neutral or dissatisfied |\n",
       "| 129876 | 1 | 0 | 34 | 0 | 1 |  526 | 3 | 3 | 3 | 1 | ⋯ | 4 | 3 | 2 | 4 | 4 | 5 | 4 |  0 |  0 | neutral or dissatisfied |\n",
       "| 129877 | 1 | 1 | 23 | 0 | 1 |  646 | 4 | 4 | 4 | 4 | ⋯ | 4 | 4 | 5 | 5 | 5 | 5 | 4 |  0 |  0 | satisfied               |\n",
       "| 129878 | 0 | 1 | 17 | 1 | 0 |  828 | 2 | 5 | 1 | 5 | ⋯ | 2 | 4 | 3 | 4 | 5 | 4 | 2 |  0 |  0 | neutral or dissatisfied |\n",
       "| 129879 | 1 | 1 | 14 | 0 | 1 | 1127 | 3 | 3 | 3 | 3 | ⋯ | 4 | 3 | 2 | 5 | 4 | 5 | 4 |  0 |  0 | satisfied               |\n",
       "| 129880 | 0 | 1 | 42 | 1 | 0 |  264 | 2 | 5 | 2 | 5 | ⋯ | 1 | 1 | 2 | 1 | 1 | 1 | 1 |  0 |  0 | neutral or dissatisfied |\n",
       "\n"
      ],
      "text/plain": [
       "       Gender Customer.Type Age Type.of.Travel Class Flight.Distance\n",
       "1      1      1             13  1              0      460           \n",
       "2      1      0             25  0              1      235           \n",
       "3      0      1             26  0              1     1142           \n",
       "4      0      1             25  0              1      562           \n",
       "5      1      1             61  0              1      214           \n",
       "6      0      1             26  1              0     1180           \n",
       "7      1      1             47  1              0     1276           \n",
       "8      0      1             52  0              1     2035           \n",
       "9      0      1             41  0              1      853           \n",
       "10     1      0             20  0              0     1061           \n",
       "11     0      0             24  0              0     1182           \n",
       "12     0      1             12  1              0      308           \n",
       "13     1      1             53  0              0      834           \n",
       "14     1      1             33  1              0      946           \n",
       "15     0      1             26  1              0      453           \n",
       "16     1      0             13  0              0      486           \n",
       "17     0      1             26  0              1     2123           \n",
       "18     1      1             41  0              1     2075           \n",
       "19     0      1             45  0              1     2486           \n",
       "20     1      1             38  1              0      460           \n",
       "21     1      1              9  0              0     1174           \n",
       "22     0      1             17  1              0      208           \n",
       "23     0      1             43  1              0      752           \n",
       "24     0      1             58  1              0     2139           \n",
       "25     0      0             23  0              0      452           \n",
       "26     1      1             57  1              0      719           \n",
       "27     0      1             33  0              1     1561           \n",
       "28     0      1             49  0              0      315           \n",
       "29     0      1             36  0              1     3347           \n",
       "30     1      1             22  1              0     2342           \n",
       "<U+22EE>      <U+22EE> <U+22EE>      <U+22EE> <U+22EE>       <U+22EE> <U+22EE>       \n",
       "129851 0      1             25  0              1     1389           \n",
       "129852 1      1             16  0              0     1368           \n",
       "129853 1      1             37  1              0      414           \n",
       "129854 1      0             56  0              0      668           \n",
       "129855 0      1             52  0              1     1620           \n",
       "129856 0      0             21  0              0      752           \n",
       "129857 1      1             60  1              0      931           \n",
       "129858 0      1             43  0              1     1448           \n",
       "129859 0      1             29  0              1     2248           \n",
       "129860 0      1             65  1              0     2475           \n",
       "129861 0      1             29  0              1     2864           \n",
       "129862 0      0             16  0              0     1073           \n",
       "129863 1      1             16  0              1     3149           \n",
       "129864 0      1             58  0              0     1171           \n",
       "129865 0      0             23  0              0      447           \n",
       "129866 1      1             51  0              1     2296           \n",
       "129867 0      0             21  0              0      691           \n",
       "129868 0      1             65  1              0      247           \n",
       "129869 0      1             48  0              0      283           \n",
       "129870 0      1             51  1              0      528           \n",
       "129871 1      0             42  0              0     1024           \n",
       "129872 0      0             39  0              1      404           \n",
       "129873 1      1             41  0              0      692           \n",
       "129874 1      1             52  0              1      280           \n",
       "129875 0      0             36  0              0      432           \n",
       "129876 1      0             34  0              1      526           \n",
       "129877 1      1             23  0              1      646           \n",
       "129878 0      1             17  1              0      828           \n",
       "129879 1      1             14  0              1     1127           \n",
       "129880 0      1             42  1              0      264           \n",
       "       Inflight.wifi.service Departure.Arrival.time.convenient\n",
       "1      3                     4                                \n",
       "2      3                     2                                \n",
       "3      2                     2                                \n",
       "4      2                     5                                \n",
       "5      3                     3                                \n",
       "6      3                     4                                \n",
       "7      2                     4                                \n",
       "8      4                     3                                \n",
       "9      1                     2                                \n",
       "10     3                     3                                \n",
       "11     4                     5                                \n",
       "12     2                     4                                \n",
       "13     1                     4                                \n",
       "14     4                     2                                \n",
       "15     3                     2                                \n",
       "16     2                     1                                \n",
       "17     3                     3                                \n",
       "18     4                     4                                \n",
       "19     4                     4                                \n",
       "20     2                     3                                \n",
       "21     2                     4                                \n",
       "22     3                     1                                \n",
       "23     3                     5                                \n",
       "24     4                     5                                \n",
       "25     5                     0                                \n",
       "26     4                     4                                \n",
       "27     1                     1                                \n",
       "28     4                     4                                \n",
       "29     3                     1                                \n",
       "30     3                     2                                \n",
       "<U+22EE>      <U+22EE>              <U+22EE>                         \n",
       "129851 1                     4                                \n",
       "129852 0                     4                                \n",
       "129853 2                     4                                \n",
       "129854 5                     0                                \n",
       "129855 4                     4                                \n",
       "129856 0                     0                                \n",
       "129857 2                     3                                \n",
       "129858 4                     1                                \n",
       "129859 4                     4                                \n",
       "129860 3                     4                                \n",
       "129861 5                     5                                \n",
       "129862 2                     2                                \n",
       "129863 3                     5                                \n",
       "129864 2                     4                                \n",
       "129865 4                     0                                \n",
       "129866 3                     3                                \n",
       "129867 4                     4                                \n",
       "129868 3                     4                                \n",
       "129869 3                     1                                \n",
       "129870 4                     4                                \n",
       "129871 4                     4                                \n",
       "129872 1                     1                                \n",
       "129873 2                     2                                \n",
       "129874 3                     3                                \n",
       "129875 1                     5                                \n",
       "129876 3                     3                                \n",
       "129877 4                     4                                \n",
       "129878 2                     5                                \n",
       "129879 3                     3                                \n",
       "129880 2                     5                                \n",
       "       Ease.of.Online.booking Gate.location <U+22EF>        Inflight.entertainment\n",
       "1      3                      1             <U+22EF> 5                     \n",
       "2      3                      3             <U+22EF> 1                     \n",
       "3      2                      2             <U+22EF> 5                     \n",
       "4      5                      5             <U+22EF> 2                     \n",
       "5      3                      3             <U+22EF> 3                     \n",
       "6      2                      1             <U+22EF> 1                     \n",
       "7      2                      3             <U+22EF> 2                     \n",
       "8      4                      4             <U+22EF> 5                     \n",
       "9      2                      2             <U+22EF> 1                     \n",
       "10     3                      4             <U+22EF> 2                     \n",
       "11     5                      4             <U+22EF> 2                     \n",
       "12     2                      2             <U+22EF> 1                     \n",
       "13     4                      4             <U+22EF> 1                     \n",
       "14     4                      3             <U+22EF> 4                     \n",
       "15     3                      2             <U+22EF> 2                     \n",
       "16     2                      3             <U+22EF> 4                     \n",
       "17     3                      3             <U+22EF> 4                     \n",
       "18     2                      4             <U+22EF> 5                     \n",
       "19     4                      4             <U+22EF> 5                     \n",
       "20     3                      2             <U+22EF> 5                     \n",
       "21     2                      4             <U+22EF> 2                     \n",
       "22     3                      3             <U+22EF> 5                     \n",
       "23     3                      5             <U+22EF> 3                     \n",
       "24     4                      5             <U+22EF> 4                     \n",
       "25     5                      1             <U+22EF> 1                     \n",
       "26     4                      1             <U+22EF> 5                     \n",
       "27     1                      1             <U+22EF> 4                     \n",
       "28     4                      4             <U+22EF> 4                     \n",
       "29     1                      1             <U+22EF> 3                     \n",
       "30     3                      3             <U+22EF> 3                     \n",
       "<U+22EE>      <U+22EE>               <U+22EE>      <U+22F1> <U+22EE>              \n",
       "129851 4                      4             <U+22EF> 1                     \n",
       "129852 0                      4             <U+22EF> 2                     \n",
       "129853 2                      4             <U+22EF> 4                     \n",
       "129854 5                      1             <U+22EF> 2                     \n",
       "129855 4                      4             <U+22EF> 4                     \n",
       "129856 0                      1             <U+22EF> 2                     \n",
       "129857 1                      2             <U+22EF> 3                     \n",
       "129858 4                      4             <U+22EF> 5                     \n",
       "129859 4                      4             <U+22EF> 4                     \n",
       "129860 4                      1             <U+22EF> 3                     \n",
       "129861 5                      5             <U+22EF> 3                     \n",
       "129862 2                      1             <U+22EF> 3                     \n",
       "129863 5                      5             <U+22EF> 3                     \n",
       "129864 4                      4             <U+22EF> 2                     \n",
       "129865 4                      3             <U+22EF> 1                     \n",
       "129866 3                      3             <U+22EF> 5                     \n",
       "129867 4                      1             <U+22EF> 2                     \n",
       "129868 0                      3             <U+22EF> 4                     \n",
       "129869 1                      1             <U+22EF> 3                     \n",
       "129870 4                      2             <U+22EF> 5                     \n",
       "129871 4                      2             <U+22EF> 3                     \n",
       "129872 1                      3             <U+22EF> 2                     \n",
       "129873 2                      2             <U+22EF> 2                     \n",
       "129874 3                      3             <U+22EF> 4                     \n",
       "129875 1                      3             <U+22EF> 4                     \n",
       "129876 3                      1             <U+22EF> 4                     \n",
       "129877 4                      4             <U+22EF> 4                     \n",
       "129878 1                      5             <U+22EF> 2                     \n",
       "129879 3                      3             <U+22EF> 4                     \n",
       "129880 2                      5             <U+22EF> 1                     \n",
       "       On.board.service Leg.room.service Baggage.handling Checkin.service\n",
       "1      4                3                4                4              \n",
       "2      1                5                3                1              \n",
       "3      4                3                4                4              \n",
       "4      2                5                3                1              \n",
       "5      3                4                4                3              \n",
       "6      3                4                4                4              \n",
       "7      3                3                4                3              \n",
       "8      5                5                5                4              \n",
       "9      1                2                1                4              \n",
       "10     2                3                4                4              \n",
       "11     3                3                5                3              \n",
       "12     1                2                5                5              \n",
       "13     1                1                3                4              \n",
       "14     4                5                2                2              \n",
       "15     4                3                2                2              \n",
       "16     2                1                4                1              \n",
       "17     5                3                4                5              \n",
       "18     5                5                5                3              \n",
       "19     5                5                5                3              \n",
       "20     1                2                4                3              \n",
       "21     1                5                3                4              \n",
       "22     2                5                3                3              \n",
       "23     3                3                5                3              \n",
       "24     4                4                4                2              \n",
       "25     4                5                5                3              \n",
       "26     3                2                4                4              \n",
       "27     4                4                3                5              \n",
       "28     4                4                4                2              \n",
       "29     3                3                3                2              \n",
       "30     2                4                3                4              \n",
       "<U+22EE>      <U+22EE>         <U+22EE>         <U+22EE>         <U+22EE>       \n",
       "129851 1                1                4                4              \n",
       "129852 5                1                4                4              \n",
       "129853 1                2                3                4              \n",
       "129854 4                3                3                4              \n",
       "129855 4                4                4                4              \n",
       "129856 5                3                4                3              \n",
       "129857 4                1                2                4              \n",
       "129858 5                5                5                5              \n",
       "129859 3                5                2                3              \n",
       "129860 4                4                5                3              \n",
       "129861 5                5                5                3              \n",
       "129862 5                1                2                1              \n",
       "129863 1                5                4                1              \n",
       "129864 2                2                2                2              \n",
       "129865 4                4                5                5              \n",
       "129866 5                5                5                3              \n",
       "129867 2                1                1                2              \n",
       "129868 4                0                4                3              \n",
       "129869 3                3                3                4              \n",
       "129870 5                4                5                4              \n",
       "129871 3                1                2                2              \n",
       "129872 5                3                4                4              \n",
       "129873 2                3                3                2              \n",
       "129874 4                4                4                3              \n",
       "129875 5                2                5                2              \n",
       "129876 3                2                4                4              \n",
       "129877 4                5                5                5              \n",
       "129878 4                3                4                5              \n",
       "129879 3                2                5                4              \n",
       "129880 1                2                1                1              \n",
       "       Inflight.service Cleanliness Departure.Delay.in.Minutes\n",
       "1      5                5           25                        \n",
       "2      4                1            1                        \n",
       "3      4                5            0                        \n",
       "4      4                2           11                        \n",
       "5      3                3            0                        \n",
       "6      4                1            0                        \n",
       "7      5                2            9                        \n",
       "8      5                4            4                        \n",
       "9      1                2            0                        \n",
       "10     3                2            0                        \n",
       "11     5                2            0                        \n",
       "12     5                1            0                        \n",
       "13     4                1           28                        \n",
       "14     2                4            0                        \n",
       "15     1                2           43                        \n",
       "16     3                4            1                        \n",
       "17     4                4           49                        \n",
       "18     5                5            0                        \n",
       "19     5                4            7                        \n",
       "20     2                5           17                        \n",
       "21     3                2            0                        \n",
       "22     4                5            0                        \n",
       "23     3                4           52                        \n",
       "24     4                2            0                        \n",
       "25     5                1           54                        \n",
       "26     5                5           27                        \n",
       "27     4                2            0                        \n",
       "28     4                2            0                        \n",
       "29     3                2           18                        \n",
       "30     2                3           19                        \n",
       "<U+22EE>      <U+22EE>         <U+22EE>    <U+22EE>                  \n",
       "129851 3                1            0                        \n",
       "129852 2                2            0                        \n",
       "129853 3                4            0                        \n",
       "129854 5                2            0                        \n",
       "129855 4                5           30                        \n",
       "129856 4                2            0                        \n",
       "129857 3                3            0                        \n",
       "129858 5                2            0                        \n",
       "129859 4                4            1                        \n",
       "129860 4                3            0                        \n",
       "129861 5                3            0                        \n",
       "129862 5                3           21                        \n",
       "129863 3                3            0                        \n",
       "129864 2                1            0                        \n",
       "129865 4                1            0                        \n",
       "129866 5                3            2                        \n",
       "129867 1                2            0                        \n",
       "129868 4                5            0                        \n",
       "129869 3                1           38                        \n",
       "129870 5                4            0                        \n",
       "129871 3                3            0                        \n",
       "129872 4                2            0                        \n",
       "129873 3                2           15                        \n",
       "129874 4                3            0                        \n",
       "129875 3                4            0                        \n",
       "129876 5                4            0                        \n",
       "129877 5                4            0                        \n",
       "129878 4                2            0                        \n",
       "129879 5                4            0                        \n",
       "129880 1                1            0                        \n",
       "       Arrival.Delay.in.Minutes satisfaction           \n",
       "1      18                       neutral or dissatisfied\n",
       "2       6                       neutral or dissatisfied\n",
       "3       0                       satisfied              \n",
       "4       9                       neutral or dissatisfied\n",
       "5       0                       satisfied              \n",
       "6       0                       neutral or dissatisfied\n",
       "7      23                       neutral or dissatisfied\n",
       "8       0                       satisfied              \n",
       "9       0                       neutral or dissatisfied\n",
       "10      0                       neutral or dissatisfied\n",
       "11      0                       neutral or dissatisfied\n",
       "12      0                       neutral or dissatisfied\n",
       "13      8                       neutral or dissatisfied\n",
       "14      0                       satisfied              \n",
       "15     35                       neutral or dissatisfied\n",
       "16      0                       neutral or dissatisfied\n",
       "17     51                       satisfied              \n",
       "18     10                       satisfied              \n",
       "19      5                       satisfied              \n",
       "20     18                       neutral or dissatisfied\n",
       "21      4                       neutral or dissatisfied\n",
       "22      0                       neutral or dissatisfied\n",
       "23     29                       neutral or dissatisfied\n",
       "24      0                       neutral or dissatisfied\n",
       "25     44                       satisfied              \n",
       "26     28                       neutral or dissatisfied\n",
       "27      0                       satisfied              \n",
       "28      8                       satisfied              \n",
       "29     12                       neutral or dissatisfied\n",
       "30      0                       neutral or dissatisfied\n",
       "<U+22EE>      <U+22EE>                 <U+22EE>               \n",
       "129851  0                       neutral or dissatisfied\n",
       "129852  0                       satisfied              \n",
       "129853  0                       neutral or dissatisfied\n",
       "129854  0                       satisfied              \n",
       "129855 26                       satisfied              \n",
       "129856  0                       satisfied              \n",
       "129857  0                       neutral or dissatisfied\n",
       "129858  0                       satisfied              \n",
       "129859  0                       neutral or dissatisfied\n",
       "129860  0                       neutral or dissatisfied\n",
       "129861  0                       satisfied              \n",
       "129862  3                       neutral or dissatisfied\n",
       "129863  0                       neutral or dissatisfied\n",
       "129864 18                       neutral or dissatisfied\n",
       "129865  0                       neutral or dissatisfied\n",
       "129866  0                       satisfied              \n",
       "129867  0                       neutral or dissatisfied\n",
       "129868  0                       neutral or dissatisfied\n",
       "129869 28                       neutral or dissatisfied\n",
       "129870  0                       neutral or dissatisfied\n",
       "129871 17                       neutral or dissatisfied\n",
       "129872  0                       neutral or dissatisfied\n",
       "129873  3                       neutral or dissatisfied\n",
       "129874  0                       satisfied              \n",
       "129875  0                       neutral or dissatisfied\n",
       "129876  0                       neutral or dissatisfied\n",
       "129877  0                       satisfied              \n",
       "129878  0                       neutral or dissatisfied\n",
       "129879  0                       satisfied              \n",
       "129880  0                       neutral or dissatisfied"
      ]
     },
     "metadata": {},
     "output_type": "display_data"
    }
   ],
   "source": [
    "df"
   ]
  },
  {
   "cell_type": "code",
   "execution_count": null,
   "id": "b798bcd8",
   "metadata": {
    "vscode": {
     "languageId": "r"
    }
   },
   "outputs": [],
   "source": [
    "# 3) Data Transformation and redundancy check"
   ]
  },
  {
   "cell_type": "code",
   "execution_count": null,
   "id": "b841a1cb",
   "metadata": {
    "vscode": {
     "languageId": "r"
    }
   },
   "outputs": [],
   "source": [
    "# Here I see the frequency of data and check if it is distributed properly and use lasso regression path to identify the\n",
    "# important features "
   ]
  },
  {
   "cell_type": "code",
   "execution_count": 208,
   "id": "2a81a380",
   "metadata": {
    "vscode": {
     "languageId": "r"
    }
   },
   "outputs": [],
   "source": [
    "x = data.matrix(df[,-c(23)])"
   ]
  },
  {
   "cell_type": "code",
   "execution_count": 209,
   "id": "a569af0b",
   "metadata": {
    "vscode": {
     "languageId": "r"
    }
   },
   "outputs": [],
   "source": [
    "cv_model <- cv.glmnet(x, y, alpha = 1)\n",
    "model = glmnet(x, y, alpha = 1)"
   ]
  },
  {
   "cell_type": "code",
   "execution_count": 210,
   "id": "f0b66818",
   "metadata": {
    "vscode": {
     "languageId": "r"
    }
   },
   "outputs": [
    {
     "data": {
      "text/plain": [
       "\n",
       "Call:  cv.glmnet(x = x, y = y, alpha = 1) \n",
       "\n",
       "Measure: Mean-Squared Error \n",
       "\n",
       "      Lambda Index Measure        SE Nonzero\n",
       "min 0.000255    75  0.1102 0.0003833      22\n",
       "1se 0.004155    45  0.1105 0.0003720      18"
      ]
     },
     "metadata": {},
     "output_type": "display_data"
    }
   ],
   "source": [
    "cv_model"
   ]
  },
  {
   "cell_type": "code",
   "execution_count": 211,
   "id": "c056af7b",
   "metadata": {
    "vscode": {
     "languageId": "r"
    }
   },
   "outputs": [],
   "source": [
    "best_lambda = cv_model$lambda.min"
   ]
  },
  {
   "cell_type": "code",
   "execution_count": 212,
   "id": "6bcf3222",
   "metadata": {
    "vscode": {
     "languageId": "r"
    }
   },
   "outputs": [
    {
     "data": {
      "image/png": "[encoded data removed]",
      "text/plain": [
       "plot without title"
      ]
     },
     "metadata": {
      "image/png": {
       "height": 420,
       "width": 420
      }
     },
     "output_type": "display_data"
    }
   ],
   "source": [
    "plot(cv_model)"
   ]
  },
  {
   "cell_type": "code",
   "execution_count": 213,
   "id": "38ed3a9d",
   "metadata": {
    "vscode": {
     "languageId": "r"
    }
   },
   "outputs": [],
   "source": [
    "best_model <- glmnet(x, y, alpha = 1, lambda = 0.01)"
   ]
  },
  {
   "cell_type": "code",
   "execution_count": 214,
   "id": "44255a34",
   "metadata": {
    "scrolled": false,
    "vscode": {
     "languageId": "r"
    }
   },
   "outputs": [
    {
     "data": {
      "text/plain": [
       "23 x 1 sparse Matrix of class \"dgCMatrix\"\n",
       "                                             s0\n",
       "(Intercept)                       -0.5836435628\n",
       "Gender                             .           \n",
       "Customer.Type                      0.2560841125\n",
       "Age                                .           \n",
       "Type.of.Travel                    -0.3484633903\n",
       "Class                              0.1301034951\n",
       "Flight.Distance                    .           \n",
       "Inflight.wifi.service              0.0430015097\n",
       "Departure.Arrival.time.convenient -0.0108481395\n",
       "Ease.of.Online.booking            -0.0158535559\n",
       "Gate.location                      .           \n",
       "Food.and.drink                     .           \n",
       "Online.boarding                    0.0774332084\n",
       "Seat.comfort                       0.0039648097\n",
       "Inflight.entertainment             0.0238179244\n",
       "On.board.service                   0.0324293610\n",
       "Leg.room.service                   0.0302358907\n",
       "Baggage.handling                   0.0136558014\n",
       "Checkin.service                    0.0329996381\n",
       "Inflight.service                   0.0111333501\n",
       "Cleanliness                        0.0190081495\n",
       "Departure.Delay.in.Minutes         .           \n",
       "Arrival.Delay.in.Minutes          -0.0002807362"
      ]
     },
     "metadata": {},
     "output_type": "display_data"
    }
   ],
   "source": [
    "coef(best_model)"
   ]
  },
  {
   "cell_type": "code",
   "execution_count": 90,
   "id": "2c01a09f",
   "metadata": {
    "vscode": {
     "languageId": "r"
    }
   },
   "outputs": [
    {
     "data": {
      "image/png": "[encoded data removed]",
      "text/plain": [
       "Plot with title \"\""
      ]
     },
     "metadata": {
      "image/png": {
       "height": 420,
       "width": 420
      }
     },
     "output_type": "display_data"
    }
   ],
   "source": [
    "plot_glmnet(model, xvar = \"lambda\", label=TRUE)"
   ]
  },
  {
   "cell_type": "code",
   "execution_count": 91,
   "id": "6fb6fa68",
   "metadata": {
    "vscode": {
     "languageId": "r"
    }
   },
   "outputs": [],
   "source": [
    "#As per the plot we can say that ‘Gender, ‘Food and Drink’, ‘Age’, \n",
    "#‘Flight Distance’, ‘Departure.Delay.in.Minutes’ and ‘Gate Location’  as these columns’ \n",
    "#coefficient becomes 0 when lambda increases. Thus we excluse these columns."
   ]
  },
  {
   "cell_type": "code",
   "execution_count": 92,
   "id": "591d7552",
   "metadata": {
    "vscode": {
     "languageId": "r"
    }
   },
   "outputs": [],
   "source": [
    "df = subset(df, select = -c(Gender, Food.and.drink, Age, \n",
    "                            Flight.Distance, Departure.Delay.in.Minutes, Gate.location))"
   ]
  },
  {
   "cell_type": "code",
   "execution_count": 93,
   "id": "46f203dc",
   "metadata": {
    "scrolled": true,
    "vscode": {
     "languageId": "r"
    }
   },
   "outputs": [
    {
     "data": {
      "text/html": [
       "<table class=\"dataframe\">\n",
       "<caption>A data.frame: 129880 × 17</caption>\n",
       "<thead>\n",
       "\t<tr><th></th><th scope=col>Customer.Type</th><th scope=col>Type.of.Travel</th><th scope=col>Class</th><th scope=col>Inflight.wifi.service</th><th scope=col>Departure.Arrival.time.convenient</th><th scope=col>Ease.of.Online.booking</th><th scope=col>Online.boarding</th><th scope=col>Seat.comfort</th><th scope=col>Inflight.entertainment</th><th scope=col>On.board.service</th><th scope=col>Leg.room.service</th><th scope=col>Baggage.handling</th><th scope=col>Checkin.service</th><th scope=col>Inflight.service</th><th scope=col>Cleanliness</th><th scope=col>Arrival.Delay.in.Minutes</th><th scope=col>satisfaction</th></tr>\n",
       "\t<tr><th></th><th scope=col>&lt;dbl&gt;</th><th scope=col>&lt;dbl&gt;</th><th scope=col>&lt;dbl&gt;</th><th scope=col>&lt;int&gt;</th><th scope=col>&lt;int&gt;</th><th scope=col>&lt;int&gt;</th><th scope=col>&lt;int&gt;</th><th scope=col>&lt;int&gt;</th><th scope=col>&lt;int&gt;</th><th scope=col>&lt;int&gt;</th><th scope=col>&lt;int&gt;</th><th scope=col>&lt;int&gt;</th><th scope=col>&lt;int&gt;</th><th scope=col>&lt;int&gt;</th><th scope=col>&lt;int&gt;</th><th scope=col>&lt;dbl&gt;</th><th scope=col>&lt;fct&gt;</th></tr>\n",
       "</thead>\n",
       "<tbody>\n",
       "\t<tr><th scope=row>1</th><td>1</td><td>1</td><td>0</td><td>3</td><td>4</td><td>3</td><td>3</td><td>5</td><td>5</td><td>4</td><td>3</td><td>4</td><td>4</td><td>5</td><td>5</td><td>18</td><td>neutral or dissatisfied</td></tr>\n",
       "\t<tr><th scope=row>2</th><td>0</td><td>0</td><td>1</td><td>3</td><td>2</td><td>3</td><td>3</td><td>1</td><td>1</td><td>1</td><td>5</td><td>3</td><td>1</td><td>4</td><td>1</td><td> 6</td><td>neutral or dissatisfied</td></tr>\n",
       "\t<tr><th scope=row>3</th><td>1</td><td>0</td><td>1</td><td>2</td><td>2</td><td>2</td><td>5</td><td>5</td><td>5</td><td>4</td><td>3</td><td>4</td><td>4</td><td>4</td><td>5</td><td> 0</td><td>satisfied              </td></tr>\n",
       "\t<tr><th scope=row>4</th><td>1</td><td>0</td><td>1</td><td>2</td><td>5</td><td>5</td><td>2</td><td>2</td><td>2</td><td>2</td><td>5</td><td>3</td><td>1</td><td>4</td><td>2</td><td> 9</td><td>neutral or dissatisfied</td></tr>\n",
       "\t<tr><th scope=row>5</th><td>1</td><td>0</td><td>1</td><td>3</td><td>3</td><td>3</td><td>5</td><td>5</td><td>3</td><td>3</td><td>4</td><td>4</td><td>3</td><td>3</td><td>3</td><td> 0</td><td>satisfied              </td></tr>\n",
       "\t<tr><th scope=row>6</th><td>1</td><td>1</td><td>0</td><td>3</td><td>4</td><td>2</td><td>2</td><td>1</td><td>1</td><td>3</td><td>4</td><td>4</td><td>4</td><td>4</td><td>1</td><td> 0</td><td>neutral or dissatisfied</td></tr>\n",
       "\t<tr><th scope=row>7</th><td>1</td><td>1</td><td>0</td><td>2</td><td>4</td><td>2</td><td>2</td><td>2</td><td>2</td><td>3</td><td>3</td><td>4</td><td>3</td><td>5</td><td>2</td><td>23</td><td>neutral or dissatisfied</td></tr>\n",
       "\t<tr><th scope=row>8</th><td>1</td><td>0</td><td>1</td><td>4</td><td>3</td><td>4</td><td>5</td><td>5</td><td>5</td><td>5</td><td>5</td><td>5</td><td>4</td><td>5</td><td>4</td><td> 0</td><td>satisfied              </td></tr>\n",
       "\t<tr><th scope=row>9</th><td>1</td><td>0</td><td>1</td><td>1</td><td>2</td><td>2</td><td>3</td><td>3</td><td>1</td><td>1</td><td>2</td><td>1</td><td>4</td><td>1</td><td>2</td><td> 0</td><td>neutral or dissatisfied</td></tr>\n",
       "\t<tr><th scope=row>10</th><td>0</td><td>0</td><td>0</td><td>3</td><td>3</td><td>3</td><td>3</td><td>3</td><td>2</td><td>2</td><td>3</td><td>4</td><td>4</td><td>3</td><td>2</td><td> 0</td><td>neutral or dissatisfied</td></tr>\n",
       "\t<tr><th scope=row>11</th><td>0</td><td>0</td><td>0</td><td>4</td><td>5</td><td>5</td><td>5</td><td>2</td><td>2</td><td>3</td><td>3</td><td>5</td><td>3</td><td>5</td><td>2</td><td> 0</td><td>neutral or dissatisfied</td></tr>\n",
       "\t<tr><th scope=row>12</th><td>1</td><td>1</td><td>0</td><td>2</td><td>4</td><td>2</td><td>2</td><td>1</td><td>1</td><td>1</td><td>2</td><td>5</td><td>5</td><td>5</td><td>1</td><td> 0</td><td>neutral or dissatisfied</td></tr>\n",
       "\t<tr><th scope=row>13</th><td>1</td><td>0</td><td>0</td><td>1</td><td>4</td><td>4</td><td>1</td><td>1</td><td>1</td><td>1</td><td>1</td><td>3</td><td>4</td><td>4</td><td>1</td><td> 8</td><td>neutral or dissatisfied</td></tr>\n",
       "\t<tr><th scope=row>14</th><td>1</td><td>1</td><td>0</td><td>4</td><td>2</td><td>4</td><td>4</td><td>4</td><td>4</td><td>4</td><td>5</td><td>2</td><td>2</td><td>2</td><td>4</td><td> 0</td><td>satisfied              </td></tr>\n",
       "\t<tr><th scope=row>15</th><td>1</td><td>1</td><td>0</td><td>3</td><td>2</td><td>3</td><td>3</td><td>2</td><td>2</td><td>4</td><td>3</td><td>2</td><td>2</td><td>1</td><td>2</td><td>35</td><td>neutral or dissatisfied</td></tr>\n",
       "\t<tr><th scope=row>16</th><td>0</td><td>0</td><td>0</td><td>2</td><td>1</td><td>2</td><td>2</td><td>1</td><td>4</td><td>2</td><td>1</td><td>4</td><td>1</td><td>3</td><td>4</td><td> 0</td><td>neutral or dissatisfied</td></tr>\n",
       "\t<tr><th scope=row>17</th><td>1</td><td>0</td><td>1</td><td>3</td><td>3</td><td>3</td><td>4</td><td>4</td><td>4</td><td>5</td><td>3</td><td>4</td><td>5</td><td>4</td><td>4</td><td>51</td><td>satisfied              </td></tr>\n",
       "\t<tr><th scope=row>18</th><td>1</td><td>0</td><td>1</td><td>4</td><td>4</td><td>2</td><td>4</td><td>4</td><td>5</td><td>5</td><td>5</td><td>5</td><td>3</td><td>5</td><td>5</td><td>10</td><td>satisfied              </td></tr>\n",
       "\t<tr><th scope=row>19</th><td>1</td><td>0</td><td>1</td><td>4</td><td>4</td><td>4</td><td>4</td><td>5</td><td>5</td><td>5</td><td>5</td><td>5</td><td>3</td><td>5</td><td>4</td><td> 5</td><td>satisfied              </td></tr>\n",
       "\t<tr><th scope=row>20</th><td>1</td><td>1</td><td>0</td><td>2</td><td>3</td><td>3</td><td>3</td><td>5</td><td>5</td><td>1</td><td>2</td><td>4</td><td>3</td><td>2</td><td>5</td><td>18</td><td>neutral or dissatisfied</td></tr>\n",
       "\t<tr><th scope=row>21</th><td>1</td><td>0</td><td>0</td><td>2</td><td>4</td><td>2</td><td>2</td><td>1</td><td>2</td><td>1</td><td>5</td><td>3</td><td>4</td><td>3</td><td>2</td><td> 4</td><td>neutral or dissatisfied</td></tr>\n",
       "\t<tr><th scope=row>22</th><td>1</td><td>1</td><td>0</td><td>3</td><td>1</td><td>3</td><td>3</td><td>5</td><td>5</td><td>2</td><td>5</td><td>3</td><td>3</td><td>4</td><td>5</td><td> 0</td><td>neutral or dissatisfied</td></tr>\n",
       "\t<tr><th scope=row>23</th><td>1</td><td>1</td><td>0</td><td>3</td><td>5</td><td>3</td><td>4</td><td>5</td><td>3</td><td>3</td><td>3</td><td>5</td><td>3</td><td>3</td><td>4</td><td>29</td><td>neutral or dissatisfied</td></tr>\n",
       "\t<tr><th scope=row>24</th><td>1</td><td>1</td><td>0</td><td>4</td><td>5</td><td>4</td><td>3</td><td>4</td><td>4</td><td>4</td><td>4</td><td>4</td><td>2</td><td>4</td><td>2</td><td> 0</td><td>neutral or dissatisfied</td></tr>\n",
       "\t<tr><th scope=row>25</th><td>0</td><td>0</td><td>0</td><td>5</td><td>0</td><td>5</td><td>5</td><td>1</td><td>1</td><td>4</td><td>5</td><td>5</td><td>3</td><td>5</td><td>1</td><td>44</td><td>satisfied              </td></tr>\n",
       "\t<tr><th scope=row>26</th><td>1</td><td>1</td><td>0</td><td>4</td><td>4</td><td>4</td><td>4</td><td>5</td><td>5</td><td>3</td><td>2</td><td>4</td><td>4</td><td>5</td><td>5</td><td>28</td><td>neutral or dissatisfied</td></tr>\n",
       "\t<tr><th scope=row>27</th><td>1</td><td>0</td><td>1</td><td>1</td><td>1</td><td>1</td><td>5</td><td>3</td><td>4</td><td>4</td><td>4</td><td>3</td><td>5</td><td>4</td><td>2</td><td> 0</td><td>satisfied              </td></tr>\n",
       "\t<tr><th scope=row>28</th><td>1</td><td>0</td><td>0</td><td>4</td><td>4</td><td>4</td><td>2</td><td>1</td><td>4</td><td>4</td><td>4</td><td>4</td><td>2</td><td>4</td><td>2</td><td> 8</td><td>satisfied              </td></tr>\n",
       "\t<tr><th scope=row>29</th><td>1</td><td>0</td><td>1</td><td>3</td><td>1</td><td>1</td><td>2</td><td>1</td><td>3</td><td>3</td><td>3</td><td>3</td><td>2</td><td>3</td><td>2</td><td>12</td><td>neutral or dissatisfied</td></tr>\n",
       "\t<tr><th scope=row>30</th><td>1</td><td>1</td><td>0</td><td>3</td><td>2</td><td>3</td><td>3</td><td>1</td><td>3</td><td>2</td><td>4</td><td>3</td><td>4</td><td>2</td><td>3</td><td> 0</td><td>neutral or dissatisfied</td></tr>\n",
       "\t<tr><th scope=row>⋮</th><td>⋮</td><td>⋮</td><td>⋮</td><td>⋮</td><td>⋮</td><td>⋮</td><td>⋮</td><td>⋮</td><td>⋮</td><td>⋮</td><td>⋮</td><td>⋮</td><td>⋮</td><td>⋮</td><td>⋮</td><td>⋮</td><td>⋮</td></tr>\n",
       "\t<tr><th scope=row>129851</th><td>1</td><td>0</td><td>1</td><td>1</td><td>4</td><td>4</td><td>1</td><td>1</td><td>1</td><td>1</td><td>1</td><td>4</td><td>4</td><td>3</td><td>1</td><td> 0</td><td>neutral or dissatisfied</td></tr>\n",
       "\t<tr><th scope=row>129852</th><td>1</td><td>0</td><td>0</td><td>0</td><td>4</td><td>0</td><td>0</td><td>4</td><td>2</td><td>5</td><td>1</td><td>4</td><td>4</td><td>2</td><td>2</td><td> 0</td><td>satisfied              </td></tr>\n",
       "\t<tr><th scope=row>129853</th><td>1</td><td>1</td><td>0</td><td>2</td><td>4</td><td>2</td><td>2</td><td>1</td><td>4</td><td>1</td><td>2</td><td>3</td><td>4</td><td>3</td><td>4</td><td> 0</td><td>neutral or dissatisfied</td></tr>\n",
       "\t<tr><th scope=row>129854</th><td>0</td><td>0</td><td>0</td><td>5</td><td>0</td><td>5</td><td>5</td><td>2</td><td>2</td><td>4</td><td>3</td><td>3</td><td>4</td><td>5</td><td>2</td><td> 0</td><td>satisfied              </td></tr>\n",
       "\t<tr><th scope=row>129855</th><td>1</td><td>0</td><td>1</td><td>4</td><td>4</td><td>4</td><td>4</td><td>4</td><td>4</td><td>4</td><td>4</td><td>4</td><td>4</td><td>4</td><td>5</td><td>26</td><td>satisfied              </td></tr>\n",
       "\t<tr><th scope=row>129856</th><td>0</td><td>0</td><td>0</td><td>0</td><td>0</td><td>0</td><td>0</td><td>2</td><td>2</td><td>5</td><td>3</td><td>4</td><td>3</td><td>4</td><td>2</td><td> 0</td><td>satisfied              </td></tr>\n",
       "\t<tr><th scope=row>129857</th><td>1</td><td>1</td><td>0</td><td>2</td><td>3</td><td>1</td><td>1</td><td>3</td><td>3</td><td>4</td><td>1</td><td>2</td><td>4</td><td>3</td><td>3</td><td> 0</td><td>neutral or dissatisfied</td></tr>\n",
       "\t<tr><th scope=row>129858</th><td>1</td><td>0</td><td>1</td><td>4</td><td>1</td><td>4</td><td>3</td><td>2</td><td>5</td><td>5</td><td>5</td><td>5</td><td>5</td><td>5</td><td>2</td><td> 0</td><td>satisfied              </td></tr>\n",
       "\t<tr><th scope=row>129859</th><td>1</td><td>0</td><td>1</td><td>4</td><td>4</td><td>4</td><td>4</td><td>4</td><td>4</td><td>3</td><td>5</td><td>2</td><td>3</td><td>4</td><td>4</td><td> 0</td><td>neutral or dissatisfied</td></tr>\n",
       "\t<tr><th scope=row>129860</th><td>1</td><td>1</td><td>0</td><td>3</td><td>4</td><td>4</td><td>3</td><td>3</td><td>3</td><td>4</td><td>4</td><td>5</td><td>3</td><td>4</td><td>3</td><td> 0</td><td>neutral or dissatisfied</td></tr>\n",
       "\t<tr><th scope=row>129861</th><td>1</td><td>0</td><td>1</td><td>5</td><td>5</td><td>5</td><td>3</td><td>3</td><td>3</td><td>5</td><td>5</td><td>5</td><td>3</td><td>5</td><td>3</td><td> 0</td><td>satisfied              </td></tr>\n",
       "\t<tr><th scope=row>129862</th><td>0</td><td>0</td><td>0</td><td>2</td><td>2</td><td>2</td><td>2</td><td>3</td><td>3</td><td>5</td><td>1</td><td>2</td><td>1</td><td>5</td><td>3</td><td> 3</td><td>neutral or dissatisfied</td></tr>\n",
       "\t<tr><th scope=row>129863</th><td>1</td><td>0</td><td>1</td><td>3</td><td>5</td><td>5</td><td>3</td><td>3</td><td>3</td><td>1</td><td>5</td><td>4</td><td>1</td><td>3</td><td>3</td><td> 0</td><td>neutral or dissatisfied</td></tr>\n",
       "\t<tr><th scope=row>129864</th><td>1</td><td>0</td><td>0</td><td>2</td><td>4</td><td>4</td><td>3</td><td>3</td><td>2</td><td>2</td><td>2</td><td>2</td><td>2</td><td>2</td><td>1</td><td>18</td><td>neutral or dissatisfied</td></tr>\n",
       "\t<tr><th scope=row>129865</th><td>0</td><td>0</td><td>0</td><td>4</td><td>0</td><td>4</td><td>4</td><td>1</td><td>1</td><td>4</td><td>4</td><td>5</td><td>5</td><td>4</td><td>1</td><td> 0</td><td>neutral or dissatisfied</td></tr>\n",
       "\t<tr><th scope=row>129866</th><td>1</td><td>0</td><td>1</td><td>3</td><td>3</td><td>3</td><td>5</td><td>4</td><td>5</td><td>5</td><td>5</td><td>5</td><td>3</td><td>5</td><td>3</td><td> 0</td><td>satisfied              </td></tr>\n",
       "\t<tr><th scope=row>129867</th><td>0</td><td>0</td><td>0</td><td>4</td><td>4</td><td>4</td><td>4</td><td>2</td><td>2</td><td>2</td><td>1</td><td>1</td><td>2</td><td>1</td><td>2</td><td> 0</td><td>neutral or dissatisfied</td></tr>\n",
       "\t<tr><th scope=row>129868</th><td>1</td><td>1</td><td>0</td><td>3</td><td>4</td><td>0</td><td>5</td><td>4</td><td>4</td><td>4</td><td>0</td><td>4</td><td>3</td><td>4</td><td>5</td><td> 0</td><td>neutral or dissatisfied</td></tr>\n",
       "\t<tr><th scope=row>129869</th><td>1</td><td>0</td><td>0</td><td>3</td><td>1</td><td>1</td><td>3</td><td>3</td><td>3</td><td>3</td><td>3</td><td>3</td><td>4</td><td>3</td><td>1</td><td>28</td><td>neutral or dissatisfied</td></tr>\n",
       "\t<tr><th scope=row>129870</th><td>1</td><td>1</td><td>0</td><td>4</td><td>4</td><td>4</td><td>5</td><td>4</td><td>5</td><td>5</td><td>4</td><td>5</td><td>4</td><td>5</td><td>4</td><td> 0</td><td>neutral or dissatisfied</td></tr>\n",
       "\t<tr><th scope=row>129871</th><td>0</td><td>0</td><td>0</td><td>4</td><td>4</td><td>4</td><td>4</td><td>3</td><td>3</td><td>3</td><td>1</td><td>2</td><td>2</td><td>3</td><td>3</td><td>17</td><td>neutral or dissatisfied</td></tr>\n",
       "\t<tr><th scope=row>129872</th><td>0</td><td>0</td><td>1</td><td>1</td><td>1</td><td>1</td><td>1</td><td>2</td><td>2</td><td>5</td><td>3</td><td>4</td><td>4</td><td>4</td><td>2</td><td> 0</td><td>neutral or dissatisfied</td></tr>\n",
       "\t<tr><th scope=row>129873</th><td>1</td><td>0</td><td>0</td><td>2</td><td>2</td><td>2</td><td>2</td><td>2</td><td>2</td><td>2</td><td>3</td><td>3</td><td>2</td><td>3</td><td>2</td><td> 3</td><td>neutral or dissatisfied</td></tr>\n",
       "\t<tr><th scope=row>129874</th><td>1</td><td>0</td><td>1</td><td>3</td><td>3</td><td>3</td><td>4</td><td>4</td><td>4</td><td>4</td><td>4</td><td>4</td><td>3</td><td>4</td><td>3</td><td> 0</td><td>satisfied              </td></tr>\n",
       "\t<tr><th scope=row>129875</th><td>0</td><td>0</td><td>0</td><td>1</td><td>5</td><td>1</td><td>1</td><td>4</td><td>4</td><td>5</td><td>2</td><td>5</td><td>2</td><td>3</td><td>4</td><td> 0</td><td>neutral or dissatisfied</td></tr>\n",
       "\t<tr><th scope=row>129876</th><td>0</td><td>0</td><td>1</td><td>3</td><td>3</td><td>3</td><td>3</td><td>4</td><td>4</td><td>3</td><td>2</td><td>4</td><td>4</td><td>5</td><td>4</td><td> 0</td><td>neutral or dissatisfied</td></tr>\n",
       "\t<tr><th scope=row>129877</th><td>1</td><td>0</td><td>1</td><td>4</td><td>4</td><td>4</td><td>4</td><td>4</td><td>4</td><td>4</td><td>5</td><td>5</td><td>5</td><td>5</td><td>4</td><td> 0</td><td>satisfied              </td></tr>\n",
       "\t<tr><th scope=row>129878</th><td>1</td><td>1</td><td>0</td><td>2</td><td>5</td><td>1</td><td>1</td><td>2</td><td>2</td><td>4</td><td>3</td><td>4</td><td>5</td><td>4</td><td>2</td><td> 0</td><td>neutral or dissatisfied</td></tr>\n",
       "\t<tr><th scope=row>129879</th><td>1</td><td>0</td><td>1</td><td>3</td><td>3</td><td>3</td><td>4</td><td>4</td><td>4</td><td>3</td><td>2</td><td>5</td><td>4</td><td>5</td><td>4</td><td> 0</td><td>satisfied              </td></tr>\n",
       "\t<tr><th scope=row>129880</th><td>1</td><td>1</td><td>0</td><td>2</td><td>5</td><td>2</td><td>2</td><td>2</td><td>1</td><td>1</td><td>2</td><td>1</td><td>1</td><td>1</td><td>1</td><td> 0</td><td>neutral or dissatisfied</td></tr>\n",
       "</tbody>\n",
       "</table>\n"
      ],
      "text/latex": [
       "A data.frame: 129880 × 17\n",
       "\\begin{tabular}{r|lllllllllllllllll}\n",
       "  & Customer.Type & Type.of.Travel & Class & Inflight.wifi.service & Departure.Arrival.time.convenient & Ease.of.Online.booking & Online.boarding & Seat.comfort & Inflight.entertainment & On.board.service & Leg.room.service & Baggage.handling & Checkin.service & Inflight.service & Cleanliness & Arrival.Delay.in.Minutes & satisfaction\\\\\n",
       "  & <dbl> & <dbl> & <dbl> & <int> & <int> & <int> & <int> & <int> & <int> & <int> & <int> & <int> & <int> & <int> & <int> & <dbl> & <fct>\\\\\n",
       "\\hline\n",
       "\t1 & 1 & 1 & 0 & 3 & 4 & 3 & 3 & 5 & 5 & 4 & 3 & 4 & 4 & 5 & 5 & 18 & neutral or dissatisfied\\\\\n",
       "\t2 & 0 & 0 & 1 & 3 & 2 & 3 & 3 & 1 & 1 & 1 & 5 & 3 & 1 & 4 & 1 &  6 & neutral or dissatisfied\\\\\n",
       "\t3 & 1 & 0 & 1 & 2 & 2 & 2 & 5 & 5 & 5 & 4 & 3 & 4 & 4 & 4 & 5 &  0 & satisfied              \\\\\n",
       "\t4 & 1 & 0 & 1 & 2 & 5 & 5 & 2 & 2 & 2 & 2 & 5 & 3 & 1 & 4 & 2 &  9 & neutral or dissatisfied\\\\\n",
       "\t5 & 1 & 0 & 1 & 3 & 3 & 3 & 5 & 5 & 3 & 3 & 4 & 4 & 3 & 3 & 3 &  0 & satisfied              \\\\\n",
       "\t6 & 1 & 1 & 0 & 3 & 4 & 2 & 2 & 1 & 1 & 3 & 4 & 4 & 4 & 4 & 1 &  0 & neutral or dissatisfied\\\\\n",
       "\t7 & 1 & 1 & 0 & 2 & 4 & 2 & 2 & 2 & 2 & 3 & 3 & 4 & 3 & 5 & 2 & 23 & neutral or dissatisfied\\\\\n",
       "\t8 & 1 & 0 & 1 & 4 & 3 & 4 & 5 & 5 & 5 & 5 & 5 & 5 & 4 & 5 & 4 &  0 & satisfied              \\\\\n",
       "\t9 & 1 & 0 & 1 & 1 & 2 & 2 & 3 & 3 & 1 & 1 & 2 & 1 & 4 & 1 & 2 &  0 & neutral or dissatisfied\\\\\n",
       "\t10 & 0 & 0 & 0 & 3 & 3 & 3 & 3 & 3 & 2 & 2 & 3 & 4 & 4 & 3 & 2 &  0 & neutral or dissatisfied\\\\\n",
       "\t11 & 0 & 0 & 0 & 4 & 5 & 5 & 5 & 2 & 2 & 3 & 3 & 5 & 3 & 5 & 2 &  0 & neutral or dissatisfied\\\\\n",
       "\t12 & 1 & 1 & 0 & 2 & 4 & 2 & 2 & 1 & 1 & 1 & 2 & 5 & 5 & 5 & 1 &  0 & neutral or dissatisfied\\\\\n",
       "\t13 & 1 & 0 & 0 & 1 & 4 & 4 & 1 & 1 & 1 & 1 & 1 & 3 & 4 & 4 & 1 &  8 & neutral or dissatisfied\\\\\n",
       "\t14 & 1 & 1 & 0 & 4 & 2 & 4 & 4 & 4 & 4 & 4 & 5 & 2 & 2 & 2 & 4 &  0 & satisfied              \\\\\n",
       "\t15 & 1 & 1 & 0 & 3 & 2 & 3 & 3 & 2 & 2 & 4 & 3 & 2 & 2 & 1 & 2 & 35 & neutral or dissatisfied\\\\\n",
       "\t16 & 0 & 0 & 0 & 2 & 1 & 2 & 2 & 1 & 4 & 2 & 1 & 4 & 1 & 3 & 4 &  0 & neutral or dissatisfied\\\\\n",
       "\t17 & 1 & 0 & 1 & 3 & 3 & 3 & 4 & 4 & 4 & 5 & 3 & 4 & 5 & 4 & 4 & 51 & satisfied              \\\\\n",
       "\t18 & 1 & 0 & 1 & 4 & 4 & 2 & 4 & 4 & 5 & 5 & 5 & 5 & 3 & 5 & 5 & 10 & satisfied              \\\\\n",
       "\t19 & 1 & 0 & 1 & 4 & 4 & 4 & 4 & 5 & 5 & 5 & 5 & 5 & 3 & 5 & 4 &  5 & satisfied              \\\\\n",
       "\t20 & 1 & 1 & 0 & 2 & 3 & 3 & 3 & 5 & 5 & 1 & 2 & 4 & 3 & 2 & 5 & 18 & neutral or dissatisfied\\\\\n",
       "\t21 & 1 & 0 & 0 & 2 & 4 & 2 & 2 & 1 & 2 & 1 & 5 & 3 & 4 & 3 & 2 &  4 & neutral or dissatisfied\\\\\n",
       "\t22 & 1 & 1 & 0 & 3 & 1 & 3 & 3 & 5 & 5 & 2 & 5 & 3 & 3 & 4 & 5 &  0 & neutral or dissatisfied\\\\\n",
       "\t23 & 1 & 1 & 0 & 3 & 5 & 3 & 4 & 5 & 3 & 3 & 3 & 5 & 3 & 3 & 4 & 29 & neutral or dissatisfied\\\\\n",
       "\t24 & 1 & 1 & 0 & 4 & 5 & 4 & 3 & 4 & 4 & 4 & 4 & 4 & 2 & 4 & 2 &  0 & neutral or dissatisfied\\\\\n",
       "\t25 & 0 & 0 & 0 & 5 & 0 & 5 & 5 & 1 & 1 & 4 & 5 & 5 & 3 & 5 & 1 & 44 & satisfied              \\\\\n",
       "\t26 & 1 & 1 & 0 & 4 & 4 & 4 & 4 & 5 & 5 & 3 & 2 & 4 & 4 & 5 & 5 & 28 & neutral or dissatisfied\\\\\n",
       "\t27 & 1 & 0 & 1 & 1 & 1 & 1 & 5 & 3 & 4 & 4 & 4 & 3 & 5 & 4 & 2 &  0 & satisfied              \\\\\n",
       "\t28 & 1 & 0 & 0 & 4 & 4 & 4 & 2 & 1 & 4 & 4 & 4 & 4 & 2 & 4 & 2 &  8 & satisfied              \\\\\n",
       "\t29 & 1 & 0 & 1 & 3 & 1 & 1 & 2 & 1 & 3 & 3 & 3 & 3 & 2 & 3 & 2 & 12 & neutral or dissatisfied\\\\\n",
       "\t30 & 1 & 1 & 0 & 3 & 2 & 3 & 3 & 1 & 3 & 2 & 4 & 3 & 4 & 2 & 3 &  0 & neutral or dissatisfied\\\\\n",
       "\t⋮ & ⋮ & ⋮ & ⋮ & ⋮ & ⋮ & ⋮ & ⋮ & ⋮ & ⋮ & ⋮ & ⋮ & ⋮ & ⋮ & ⋮ & ⋮ & ⋮ & ⋮\\\\\n",
       "\t129851 & 1 & 0 & 1 & 1 & 4 & 4 & 1 & 1 & 1 & 1 & 1 & 4 & 4 & 3 & 1 &  0 & neutral or dissatisfied\\\\\n",
       "\t129852 & 1 & 0 & 0 & 0 & 4 & 0 & 0 & 4 & 2 & 5 & 1 & 4 & 4 & 2 & 2 &  0 & satisfied              \\\\\n",
       "\t129853 & 1 & 1 & 0 & 2 & 4 & 2 & 2 & 1 & 4 & 1 & 2 & 3 & 4 & 3 & 4 &  0 & neutral or dissatisfied\\\\\n",
       "\t129854 & 0 & 0 & 0 & 5 & 0 & 5 & 5 & 2 & 2 & 4 & 3 & 3 & 4 & 5 & 2 &  0 & satisfied              \\\\\n",
       "\t129855 & 1 & 0 & 1 & 4 & 4 & 4 & 4 & 4 & 4 & 4 & 4 & 4 & 4 & 4 & 5 & 26 & satisfied              \\\\\n",
       "\t129856 & 0 & 0 & 0 & 0 & 0 & 0 & 0 & 2 & 2 & 5 & 3 & 4 & 3 & 4 & 2 &  0 & satisfied              \\\\\n",
       "\t129857 & 1 & 1 & 0 & 2 & 3 & 1 & 1 & 3 & 3 & 4 & 1 & 2 & 4 & 3 & 3 &  0 & neutral or dissatisfied\\\\\n",
       "\t129858 & 1 & 0 & 1 & 4 & 1 & 4 & 3 & 2 & 5 & 5 & 5 & 5 & 5 & 5 & 2 &  0 & satisfied              \\\\\n",
       "\t129859 & 1 & 0 & 1 & 4 & 4 & 4 & 4 & 4 & 4 & 3 & 5 & 2 & 3 & 4 & 4 &  0 & neutral or dissatisfied\\\\\n",
       "\t129860 & 1 & 1 & 0 & 3 & 4 & 4 & 3 & 3 & 3 & 4 & 4 & 5 & 3 & 4 & 3 &  0 & neutral or dissatisfied\\\\\n",
       "\t129861 & 1 & 0 & 1 & 5 & 5 & 5 & 3 & 3 & 3 & 5 & 5 & 5 & 3 & 5 & 3 &  0 & satisfied              \\\\\n",
       "\t129862 & 0 & 0 & 0 & 2 & 2 & 2 & 2 & 3 & 3 & 5 & 1 & 2 & 1 & 5 & 3 &  3 & neutral or dissatisfied\\\\\n",
       "\t129863 & 1 & 0 & 1 & 3 & 5 & 5 & 3 & 3 & 3 & 1 & 5 & 4 & 1 & 3 & 3 &  0 & neutral or dissatisfied\\\\\n",
       "\t129864 & 1 & 0 & 0 & 2 & 4 & 4 & 3 & 3 & 2 & 2 & 2 & 2 & 2 & 2 & 1 & 18 & neutral or dissatisfied\\\\\n",
       "\t129865 & 0 & 0 & 0 & 4 & 0 & 4 & 4 & 1 & 1 & 4 & 4 & 5 & 5 & 4 & 1 &  0 & neutral or dissatisfied\\\\\n",
       "\t129866 & 1 & 0 & 1 & 3 & 3 & 3 & 5 & 4 & 5 & 5 & 5 & 5 & 3 & 5 & 3 &  0 & satisfied              \\\\\n",
       "\t129867 & 0 & 0 & 0 & 4 & 4 & 4 & 4 & 2 & 2 & 2 & 1 & 1 & 2 & 1 & 2 &  0 & neutral or dissatisfied\\\\\n",
       "\t129868 & 1 & 1 & 0 & 3 & 4 & 0 & 5 & 4 & 4 & 4 & 0 & 4 & 3 & 4 & 5 &  0 & neutral or dissatisfied\\\\\n",
       "\t129869 & 1 & 0 & 0 & 3 & 1 & 1 & 3 & 3 & 3 & 3 & 3 & 3 & 4 & 3 & 1 & 28 & neutral or dissatisfied\\\\\n",
       "\t129870 & 1 & 1 & 0 & 4 & 4 & 4 & 5 & 4 & 5 & 5 & 4 & 5 & 4 & 5 & 4 &  0 & neutral or dissatisfied\\\\\n",
       "\t129871 & 0 & 0 & 0 & 4 & 4 & 4 & 4 & 3 & 3 & 3 & 1 & 2 & 2 & 3 & 3 & 17 & neutral or dissatisfied\\\\\n",
       "\t129872 & 0 & 0 & 1 & 1 & 1 & 1 & 1 & 2 & 2 & 5 & 3 & 4 & 4 & 4 & 2 &  0 & neutral or dissatisfied\\\\\n",
       "\t129873 & 1 & 0 & 0 & 2 & 2 & 2 & 2 & 2 & 2 & 2 & 3 & 3 & 2 & 3 & 2 &  3 & neutral or dissatisfied\\\\\n",
       "\t129874 & 1 & 0 & 1 & 3 & 3 & 3 & 4 & 4 & 4 & 4 & 4 & 4 & 3 & 4 & 3 &  0 & satisfied              \\\\\n",
       "\t129875 & 0 & 0 & 0 & 1 & 5 & 1 & 1 & 4 & 4 & 5 & 2 & 5 & 2 & 3 & 4 &  0 & neutral or dissatisfied\\\\\n",
       "\t129876 & 0 & 0 & 1 & 3 & 3 & 3 & 3 & 4 & 4 & 3 & 2 & 4 & 4 & 5 & 4 &  0 & neutral or dissatisfied\\\\\n",
       "\t129877 & 1 & 0 & 1 & 4 & 4 & 4 & 4 & 4 & 4 & 4 & 5 & 5 & 5 & 5 & 4 &  0 & satisfied              \\\\\n",
       "\t129878 & 1 & 1 & 0 & 2 & 5 & 1 & 1 & 2 & 2 & 4 & 3 & 4 & 5 & 4 & 2 &  0 & neutral or dissatisfied\\\\\n",
       "\t129879 & 1 & 0 & 1 & 3 & 3 & 3 & 4 & 4 & 4 & 3 & 2 & 5 & 4 & 5 & 4 &  0 & satisfied              \\\\\n",
       "\t129880 & 1 & 1 & 0 & 2 & 5 & 2 & 2 & 2 & 1 & 1 & 2 & 1 & 1 & 1 & 1 &  0 & neutral or dissatisfied\\\\\n",
       "\\end{tabular}\n"
      ],
      "text/markdown": [
       "\n",
       "A data.frame: 129880 × 17\n",
       "\n",
       "| <!--/--> | Customer.Type &lt;dbl&gt; | Type.of.Travel &lt;dbl&gt; | Class &lt;dbl&gt; | Inflight.wifi.service &lt;int&gt; | Departure.Arrival.time.convenient &lt;int&gt; | Ease.of.Online.booking &lt;int&gt; | Online.boarding &lt;int&gt; | Seat.comfort &lt;int&gt; | Inflight.entertainment &lt;int&gt; | On.board.service &lt;int&gt; | Leg.room.service &lt;int&gt; | Baggage.handling &lt;int&gt; | Checkin.service &lt;int&gt; | Inflight.service &lt;int&gt; | Cleanliness &lt;int&gt; | Arrival.Delay.in.Minutes &lt;dbl&gt; | satisfaction &lt;fct&gt; |\n",
       "|---|---|---|---|---|---|---|---|---|---|---|---|---|---|---|---|---|---|\n",
       "| 1 | 1 | 1 | 0 | 3 | 4 | 3 | 3 | 5 | 5 | 4 | 3 | 4 | 4 | 5 | 5 | 18 | neutral or dissatisfied |\n",
       "| 2 | 0 | 0 | 1 | 3 | 2 | 3 | 3 | 1 | 1 | 1 | 5 | 3 | 1 | 4 | 1 |  6 | neutral or dissatisfied |\n",
       "| 3 | 1 | 0 | 1 | 2 | 2 | 2 | 5 | 5 | 5 | 4 | 3 | 4 | 4 | 4 | 5 |  0 | satisfied               |\n",
       "| 4 | 1 | 0 | 1 | 2 | 5 | 5 | 2 | 2 | 2 | 2 | 5 | 3 | 1 | 4 | 2 |  9 | neutral or dissatisfied |\n",
       "| 5 | 1 | 0 | 1 | 3 | 3 | 3 | 5 | 5 | 3 | 3 | 4 | 4 | 3 | 3 | 3 |  0 | satisfied               |\n",
       "| 6 | 1 | 1 | 0 | 3 | 4 | 2 | 2 | 1 | 1 | 3 | 4 | 4 | 4 | 4 | 1 |  0 | neutral or dissatisfied |\n",
       "| 7 | 1 | 1 | 0 | 2 | 4 | 2 | 2 | 2 | 2 | 3 | 3 | 4 | 3 | 5 | 2 | 23 | neutral or dissatisfied |\n",
       "| 8 | 1 | 0 | 1 | 4 | 3 | 4 | 5 | 5 | 5 | 5 | 5 | 5 | 4 | 5 | 4 |  0 | satisfied               |\n",
       "| 9 | 1 | 0 | 1 | 1 | 2 | 2 | 3 | 3 | 1 | 1 | 2 | 1 | 4 | 1 | 2 |  0 | neutral or dissatisfied |\n",
       "| 10 | 0 | 0 | 0 | 3 | 3 | 3 | 3 | 3 | 2 | 2 | 3 | 4 | 4 | 3 | 2 |  0 | neutral or dissatisfied |\n",
       "| 11 | 0 | 0 | 0 | 4 | 5 | 5 | 5 | 2 | 2 | 3 | 3 | 5 | 3 | 5 | 2 |  0 | neutral or dissatisfied |\n",
       "| 12 | 1 | 1 | 0 | 2 | 4 | 2 | 2 | 1 | 1 | 1 | 2 | 5 | 5 | 5 | 1 |  0 | neutral or dissatisfied |\n",
       "| 13 | 1 | 0 | 0 | 1 | 4 | 4 | 1 | 1 | 1 | 1 | 1 | 3 | 4 | 4 | 1 |  8 | neutral or dissatisfied |\n",
       "| 14 | 1 | 1 | 0 | 4 | 2 | 4 | 4 | 4 | 4 | 4 | 5 | 2 | 2 | 2 | 4 |  0 | satisfied               |\n",
       "| 15 | 1 | 1 | 0 | 3 | 2 | 3 | 3 | 2 | 2 | 4 | 3 | 2 | 2 | 1 | 2 | 35 | neutral or dissatisfied |\n",
       "| 16 | 0 | 0 | 0 | 2 | 1 | 2 | 2 | 1 | 4 | 2 | 1 | 4 | 1 | 3 | 4 |  0 | neutral or dissatisfied |\n",
       "| 17 | 1 | 0 | 1 | 3 | 3 | 3 | 4 | 4 | 4 | 5 | 3 | 4 | 5 | 4 | 4 | 51 | satisfied               |\n",
       "| 18 | 1 | 0 | 1 | 4 | 4 | 2 | 4 | 4 | 5 | 5 | 5 | 5 | 3 | 5 | 5 | 10 | satisfied               |\n",
       "| 19 | 1 | 0 | 1 | 4 | 4 | 4 | 4 | 5 | 5 | 5 | 5 | 5 | 3 | 5 | 4 |  5 | satisfied               |\n",
       "| 20 | 1 | 1 | 0 | 2 | 3 | 3 | 3 | 5 | 5 | 1 | 2 | 4 | 3 | 2 | 5 | 18 | neutral or dissatisfied |\n",
       "| 21 | 1 | 0 | 0 | 2 | 4 | 2 | 2 | 1 | 2 | 1 | 5 | 3 | 4 | 3 | 2 |  4 | neutral or dissatisfied |\n",
       "| 22 | 1 | 1 | 0 | 3 | 1 | 3 | 3 | 5 | 5 | 2 | 5 | 3 | 3 | 4 | 5 |  0 | neutral or dissatisfied |\n",
       "| 23 | 1 | 1 | 0 | 3 | 5 | 3 | 4 | 5 | 3 | 3 | 3 | 5 | 3 | 3 | 4 | 29 | neutral or dissatisfied |\n",
       "| 24 | 1 | 1 | 0 | 4 | 5 | 4 | 3 | 4 | 4 | 4 | 4 | 4 | 2 | 4 | 2 |  0 | neutral or dissatisfied |\n",
       "| 25 | 0 | 0 | 0 | 5 | 0 | 5 | 5 | 1 | 1 | 4 | 5 | 5 | 3 | 5 | 1 | 44 | satisfied               |\n",
       "| 26 | 1 | 1 | 0 | 4 | 4 | 4 | 4 | 5 | 5 | 3 | 2 | 4 | 4 | 5 | 5 | 28 | neutral or dissatisfied |\n",
       "| 27 | 1 | 0 | 1 | 1 | 1 | 1 | 5 | 3 | 4 | 4 | 4 | 3 | 5 | 4 | 2 |  0 | satisfied               |\n",
       "| 28 | 1 | 0 | 0 | 4 | 4 | 4 | 2 | 1 | 4 | 4 | 4 | 4 | 2 | 4 | 2 |  8 | satisfied               |\n",
       "| 29 | 1 | 0 | 1 | 3 | 1 | 1 | 2 | 1 | 3 | 3 | 3 | 3 | 2 | 3 | 2 | 12 | neutral or dissatisfied |\n",
       "| 30 | 1 | 1 | 0 | 3 | 2 | 3 | 3 | 1 | 3 | 2 | 4 | 3 | 4 | 2 | 3 |  0 | neutral or dissatisfied |\n",
       "| ⋮ | ⋮ | ⋮ | ⋮ | ⋮ | ⋮ | ⋮ | ⋮ | ⋮ | ⋮ | ⋮ | ⋮ | ⋮ | ⋮ | ⋮ | ⋮ | ⋮ | ⋮ |\n",
       "| 129851 | 1 | 0 | 1 | 1 | 4 | 4 | 1 | 1 | 1 | 1 | 1 | 4 | 4 | 3 | 1 |  0 | neutral or dissatisfied |\n",
       "| 129852 | 1 | 0 | 0 | 0 | 4 | 0 | 0 | 4 | 2 | 5 | 1 | 4 | 4 | 2 | 2 |  0 | satisfied               |\n",
       "| 129853 | 1 | 1 | 0 | 2 | 4 | 2 | 2 | 1 | 4 | 1 | 2 | 3 | 4 | 3 | 4 |  0 | neutral or dissatisfied |\n",
       "| 129854 | 0 | 0 | 0 | 5 | 0 | 5 | 5 | 2 | 2 | 4 | 3 | 3 | 4 | 5 | 2 |  0 | satisfied               |\n",
       "| 129855 | 1 | 0 | 1 | 4 | 4 | 4 | 4 | 4 | 4 | 4 | 4 | 4 | 4 | 4 | 5 | 26 | satisfied               |\n",
       "| 129856 | 0 | 0 | 0 | 0 | 0 | 0 | 0 | 2 | 2 | 5 | 3 | 4 | 3 | 4 | 2 |  0 | satisfied               |\n",
       "| 129857 | 1 | 1 | 0 | 2 | 3 | 1 | 1 | 3 | 3 | 4 | 1 | 2 | 4 | 3 | 3 |  0 | neutral or dissatisfied |\n",
       "| 129858 | 1 | 0 | 1 | 4 | 1 | 4 | 3 | 2 | 5 | 5 | 5 | 5 | 5 | 5 | 2 |  0 | satisfied               |\n",
       "| 129859 | 1 | 0 | 1 | 4 | 4 | 4 | 4 | 4 | 4 | 3 | 5 | 2 | 3 | 4 | 4 |  0 | neutral or dissatisfied |\n",
       "| 129860 | 1 | 1 | 0 | 3 | 4 | 4 | 3 | 3 | 3 | 4 | 4 | 5 | 3 | 4 | 3 |  0 | neutral or dissatisfied |\n",
       "| 129861 | 1 | 0 | 1 | 5 | 5 | 5 | 3 | 3 | 3 | 5 | 5 | 5 | 3 | 5 | 3 |  0 | satisfied               |\n",
       "| 129862 | 0 | 0 | 0 | 2 | 2 | 2 | 2 | 3 | 3 | 5 | 1 | 2 | 1 | 5 | 3 |  3 | neutral or dissatisfied |\n",
       "| 129863 | 1 | 0 | 1 | 3 | 5 | 5 | 3 | 3 | 3 | 1 | 5 | 4 | 1 | 3 | 3 |  0 | neutral or dissatisfied |\n",
       "| 129864 | 1 | 0 | 0 | 2 | 4 | 4 | 3 | 3 | 2 | 2 | 2 | 2 | 2 | 2 | 1 | 18 | neutral or dissatisfied |\n",
       "| 129865 | 0 | 0 | 0 | 4 | 0 | 4 | 4 | 1 | 1 | 4 | 4 | 5 | 5 | 4 | 1 |  0 | neutral or dissatisfied |\n",
       "| 129866 | 1 | 0 | 1 | 3 | 3 | 3 | 5 | 4 | 5 | 5 | 5 | 5 | 3 | 5 | 3 |  0 | satisfied               |\n",
       "| 129867 | 0 | 0 | 0 | 4 | 4 | 4 | 4 | 2 | 2 | 2 | 1 | 1 | 2 | 1 | 2 |  0 | neutral or dissatisfied |\n",
       "| 129868 | 1 | 1 | 0 | 3 | 4 | 0 | 5 | 4 | 4 | 4 | 0 | 4 | 3 | 4 | 5 |  0 | neutral or dissatisfied |\n",
       "| 129869 | 1 | 0 | 0 | 3 | 1 | 1 | 3 | 3 | 3 | 3 | 3 | 3 | 4 | 3 | 1 | 28 | neutral or dissatisfied |\n",
       "| 129870 | 1 | 1 | 0 | 4 | 4 | 4 | 5 | 4 | 5 | 5 | 4 | 5 | 4 | 5 | 4 |  0 | neutral or dissatisfied |\n",
       "| 129871 | 0 | 0 | 0 | 4 | 4 | 4 | 4 | 3 | 3 | 3 | 1 | 2 | 2 | 3 | 3 | 17 | neutral or dissatisfied |\n",
       "| 129872 | 0 | 0 | 1 | 1 | 1 | 1 | 1 | 2 | 2 | 5 | 3 | 4 | 4 | 4 | 2 |  0 | neutral or dissatisfied |\n",
       "| 129873 | 1 | 0 | 0 | 2 | 2 | 2 | 2 | 2 | 2 | 2 | 3 | 3 | 2 | 3 | 2 |  3 | neutral or dissatisfied |\n",
       "| 129874 | 1 | 0 | 1 | 3 | 3 | 3 | 4 | 4 | 4 | 4 | 4 | 4 | 3 | 4 | 3 |  0 | satisfied               |\n",
       "| 129875 | 0 | 0 | 0 | 1 | 5 | 1 | 1 | 4 | 4 | 5 | 2 | 5 | 2 | 3 | 4 |  0 | neutral or dissatisfied |\n",
       "| 129876 | 0 | 0 | 1 | 3 | 3 | 3 | 3 | 4 | 4 | 3 | 2 | 4 | 4 | 5 | 4 |  0 | neutral or dissatisfied |\n",
       "| 129877 | 1 | 0 | 1 | 4 | 4 | 4 | 4 | 4 | 4 | 4 | 5 | 5 | 5 | 5 | 4 |  0 | satisfied               |\n",
       "| 129878 | 1 | 1 | 0 | 2 | 5 | 1 | 1 | 2 | 2 | 4 | 3 | 4 | 5 | 4 | 2 |  0 | neutral or dissatisfied |\n",
       "| 129879 | 1 | 0 | 1 | 3 | 3 | 3 | 4 | 4 | 4 | 3 | 2 | 5 | 4 | 5 | 4 |  0 | satisfied               |\n",
       "| 129880 | 1 | 1 | 0 | 2 | 5 | 2 | 2 | 2 | 1 | 1 | 2 | 1 | 1 | 1 | 1 |  0 | neutral or dissatisfied |\n",
       "\n"
      ],
      "text/plain": [
       "       Customer.Type Type.of.Travel Class Inflight.wifi.service\n",
       "1      1             1              0     3                    \n",
       "2      0             0              1     3                    \n",
       "3      1             0              1     2                    \n",
       "4      1             0              1     2                    \n",
       "5      1             0              1     3                    \n",
       "6      1             1              0     3                    \n",
       "7      1             1              0     2                    \n",
       "8      1             0              1     4                    \n",
       "9      1             0              1     1                    \n",
       "10     0             0              0     3                    \n",
       "11     0             0              0     4                    \n",
       "12     1             1              0     2                    \n",
       "13     1             0              0     1                    \n",
       "14     1             1              0     4                    \n",
       "15     1             1              0     3                    \n",
       "16     0             0              0     2                    \n",
       "17     1             0              1     3                    \n",
       "18     1             0              1     4                    \n",
       "19     1             0              1     4                    \n",
       "20     1             1              0     2                    \n",
       "21     1             0              0     2                    \n",
       "22     1             1              0     3                    \n",
       "23     1             1              0     3                    \n",
       "24     1             1              0     4                    \n",
       "25     0             0              0     5                    \n",
       "26     1             1              0     4                    \n",
       "27     1             0              1     1                    \n",
       "28     1             0              0     4                    \n",
       "29     1             0              1     3                    \n",
       "30     1             1              0     3                    \n",
       "<U+22EE>      <U+22EE>      <U+22EE>       <U+22EE> <U+22EE>             \n",
       "129851 1             0              1     1                    \n",
       "129852 1             0              0     0                    \n",
       "129853 1             1              0     2                    \n",
       "129854 0             0              0     5                    \n",
       "129855 1             0              1     4                    \n",
       "129856 0             0              0     0                    \n",
       "129857 1             1              0     2                    \n",
       "129858 1             0              1     4                    \n",
       "129859 1             0              1     4                    \n",
       "129860 1             1              0     3                    \n",
       "129861 1             0              1     5                    \n",
       "129862 0             0              0     2                    \n",
       "129863 1             0              1     3                    \n",
       "129864 1             0              0     2                    \n",
       "129865 0             0              0     4                    \n",
       "129866 1             0              1     3                    \n",
       "129867 0             0              0     4                    \n",
       "129868 1             1              0     3                    \n",
       "129869 1             0              0     3                    \n",
       "129870 1             1              0     4                    \n",
       "129871 0             0              0     4                    \n",
       "129872 0             0              1     1                    \n",
       "129873 1             0              0     2                    \n",
       "129874 1             0              1     3                    \n",
       "129875 0             0              0     1                    \n",
       "129876 0             0              1     3                    \n",
       "129877 1             0              1     4                    \n",
       "129878 1             1              0     2                    \n",
       "129879 1             0              1     3                    \n",
       "129880 1             1              0     2                    \n",
       "       Departure.Arrival.time.convenient Ease.of.Online.booking Online.boarding\n",
       "1      4                                 3                      3              \n",
       "2      2                                 3                      3              \n",
       "3      2                                 2                      5              \n",
       "4      5                                 5                      2              \n",
       "5      3                                 3                      5              \n",
       "6      4                                 2                      2              \n",
       "7      4                                 2                      2              \n",
       "8      3                                 4                      5              \n",
       "9      2                                 2                      3              \n",
       "10     3                                 3                      3              \n",
       "11     5                                 5                      5              \n",
       "12     4                                 2                      2              \n",
       "13     4                                 4                      1              \n",
       "14     2                                 4                      4              \n",
       "15     2                                 3                      3              \n",
       "16     1                                 2                      2              \n",
       "17     3                                 3                      4              \n",
       "18     4                                 2                      4              \n",
       "19     4                                 4                      4              \n",
       "20     3                                 3                      3              \n",
       "21     4                                 2                      2              \n",
       "22     1                                 3                      3              \n",
       "23     5                                 3                      4              \n",
       "24     5                                 4                      3              \n",
       "25     0                                 5                      5              \n",
       "26     4                                 4                      4              \n",
       "27     1                                 1                      5              \n",
       "28     4                                 4                      2              \n",
       "29     1                                 1                      2              \n",
       "30     2                                 3                      3              \n",
       "<U+22EE>      <U+22EE>                          <U+22EE>               <U+22EE>       \n",
       "129851 4                                 4                      1              \n",
       "129852 4                                 0                      0              \n",
       "129853 4                                 2                      2              \n",
       "129854 0                                 5                      5              \n",
       "129855 4                                 4                      4              \n",
       "129856 0                                 0                      0              \n",
       "129857 3                                 1                      1              \n",
       "129858 1                                 4                      3              \n",
       "129859 4                                 4                      4              \n",
       "129860 4                                 4                      3              \n",
       "129861 5                                 5                      3              \n",
       "129862 2                                 2                      2              \n",
       "129863 5                                 5                      3              \n",
       "129864 4                                 4                      3              \n",
       "129865 0                                 4                      4              \n",
       "129866 3                                 3                      5              \n",
       "129867 4                                 4                      4              \n",
       "129868 4                                 0                      5              \n",
       "129869 1                                 1                      3              \n",
       "129870 4                                 4                      5              \n",
       "129871 4                                 4                      4              \n",
       "129872 1                                 1                      1              \n",
       "129873 2                                 2                      2              \n",
       "129874 3                                 3                      4              \n",
       "129875 5                                 1                      1              \n",
       "129876 3                                 3                      3              \n",
       "129877 4                                 4                      4              \n",
       "129878 5                                 1                      1              \n",
       "129879 3                                 3                      4              \n",
       "129880 5                                 2                      2              \n",
       "       Seat.comfort Inflight.entertainment On.board.service Leg.room.service\n",
       "1      5            5                      4                3               \n",
       "2      1            1                      1                5               \n",
       "3      5            5                      4                3               \n",
       "4      2            2                      2                5               \n",
       "5      5            3                      3                4               \n",
       "6      1            1                      3                4               \n",
       "7      2            2                      3                3               \n",
       "8      5            5                      5                5               \n",
       "9      3            1                      1                2               \n",
       "10     3            2                      2                3               \n",
       "11     2            2                      3                3               \n",
       "12     1            1                      1                2               \n",
       "13     1            1                      1                1               \n",
       "14     4            4                      4                5               \n",
       "15     2            2                      4                3               \n",
       "16     1            4                      2                1               \n",
       "17     4            4                      5                3               \n",
       "18     4            5                      5                5               \n",
       "19     5            5                      5                5               \n",
       "20     5            5                      1                2               \n",
       "21     1            2                      1                5               \n",
       "22     5            5                      2                5               \n",
       "23     5            3                      3                3               \n",
       "24     4            4                      4                4               \n",
       "25     1            1                      4                5               \n",
       "26     5            5                      3                2               \n",
       "27     3            4                      4                4               \n",
       "28     1            4                      4                4               \n",
       "29     1            3                      3                3               \n",
       "30     1            3                      2                4               \n",
       "<U+22EE>      <U+22EE>     <U+22EE>               <U+22EE>         <U+22EE>        \n",
       "129851 1            1                      1                1               \n",
       "129852 4            2                      5                1               \n",
       "129853 1            4                      1                2               \n",
       "129854 2            2                      4                3               \n",
       "129855 4            4                      4                4               \n",
       "129856 2            2                      5                3               \n",
       "129857 3            3                      4                1               \n",
       "129858 2            5                      5                5               \n",
       "129859 4            4                      3                5               \n",
       "129860 3            3                      4                4               \n",
       "129861 3            3                      5                5               \n",
       "129862 3            3                      5                1               \n",
       "129863 3            3                      1                5               \n",
       "129864 3            2                      2                2               \n",
       "129865 1            1                      4                4               \n",
       "129866 4            5                      5                5               \n",
       "129867 2            2                      2                1               \n",
       "129868 4            4                      4                0               \n",
       "129869 3            3                      3                3               \n",
       "129870 4            5                      5                4               \n",
       "129871 3            3                      3                1               \n",
       "129872 2            2                      5                3               \n",
       "129873 2            2                      2                3               \n",
       "129874 4            4                      4                4               \n",
       "129875 4            4                      5                2               \n",
       "129876 4            4                      3                2               \n",
       "129877 4            4                      4                5               \n",
       "129878 2            2                      4                3               \n",
       "129879 4            4                      3                2               \n",
       "129880 2            1                      1                2               \n",
       "       Baggage.handling Checkin.service Inflight.service Cleanliness\n",
       "1      4                4               5                5          \n",
       "2      3                1               4                1          \n",
       "3      4                4               4                5          \n",
       "4      3                1               4                2          \n",
       "5      4                3               3                3          \n",
       "6      4                4               4                1          \n",
       "7      4                3               5                2          \n",
       "8      5                4               5                4          \n",
       "9      1                4               1                2          \n",
       "10     4                4               3                2          \n",
       "11     5                3               5                2          \n",
       "12     5                5               5                1          \n",
       "13     3                4               4                1          \n",
       "14     2                2               2                4          \n",
       "15     2                2               1                2          \n",
       "16     4                1               3                4          \n",
       "17     4                5               4                4          \n",
       "18     5                3               5                5          \n",
       "19     5                3               5                4          \n",
       "20     4                3               2                5          \n",
       "21     3                4               3                2          \n",
       "22     3                3               4                5          \n",
       "23     5                3               3                4          \n",
       "24     4                2               4                2          \n",
       "25     5                3               5                1          \n",
       "26     4                4               5                5          \n",
       "27     3                5               4                2          \n",
       "28     4                2               4                2          \n",
       "29     3                2               3                2          \n",
       "30     3                4               2                3          \n",
       "<U+22EE>      <U+22EE>         <U+22EE>        <U+22EE>         <U+22EE>   \n",
       "129851 4                4               3                1          \n",
       "129852 4                4               2                2          \n",
       "129853 3                4               3                4          \n",
       "129854 3                4               5                2          \n",
       "129855 4                4               4                5          \n",
       "129856 4                3               4                2          \n",
       "129857 2                4               3                3          \n",
       "129858 5                5               5                2          \n",
       "129859 2                3               4                4          \n",
       "129860 5                3               4                3          \n",
       "129861 5                3               5                3          \n",
       "129862 2                1               5                3          \n",
       "129863 4                1               3                3          \n",
       "129864 2                2               2                1          \n",
       "129865 5                5               4                1          \n",
       "129866 5                3               5                3          \n",
       "129867 1                2               1                2          \n",
       "129868 4                3               4                5          \n",
       "129869 3                4               3                1          \n",
       "129870 5                4               5                4          \n",
       "129871 2                2               3                3          \n",
       "129872 4                4               4                2          \n",
       "129873 3                2               3                2          \n",
       "129874 4                3               4                3          \n",
       "129875 5                2               3                4          \n",
       "129876 4                4               5                4          \n",
       "129877 5                5               5                4          \n",
       "129878 4                5               4                2          \n",
       "129879 5                4               5                4          \n",
       "129880 1                1               1                1          \n",
       "       Arrival.Delay.in.Minutes satisfaction           \n",
       "1      18                       neutral or dissatisfied\n",
       "2       6                       neutral or dissatisfied\n",
       "3       0                       satisfied              \n",
       "4       9                       neutral or dissatisfied\n",
       "5       0                       satisfied              \n",
       "6       0                       neutral or dissatisfied\n",
       "7      23                       neutral or dissatisfied\n",
       "8       0                       satisfied              \n",
       "9       0                       neutral or dissatisfied\n",
       "10      0                       neutral or dissatisfied\n",
       "11      0                       neutral or dissatisfied\n",
       "12      0                       neutral or dissatisfied\n",
       "13      8                       neutral or dissatisfied\n",
       "14      0                       satisfied              \n",
       "15     35                       neutral or dissatisfied\n",
       "16      0                       neutral or dissatisfied\n",
       "17     51                       satisfied              \n",
       "18     10                       satisfied              \n",
       "19      5                       satisfied              \n",
       "20     18                       neutral or dissatisfied\n",
       "21      4                       neutral or dissatisfied\n",
       "22      0                       neutral or dissatisfied\n",
       "23     29                       neutral or dissatisfied\n",
       "24      0                       neutral or dissatisfied\n",
       "25     44                       satisfied              \n",
       "26     28                       neutral or dissatisfied\n",
       "27      0                       satisfied              \n",
       "28      8                       satisfied              \n",
       "29     12                       neutral or dissatisfied\n",
       "30      0                       neutral or dissatisfied\n",
       "<U+22EE>      <U+22EE>                 <U+22EE>               \n",
       "129851  0                       neutral or dissatisfied\n",
       "129852  0                       satisfied              \n",
       "129853  0                       neutral or dissatisfied\n",
       "129854  0                       satisfied              \n",
       "129855 26                       satisfied              \n",
       "129856  0                       satisfied              \n",
       "129857  0                       neutral or dissatisfied\n",
       "129858  0                       satisfied              \n",
       "129859  0                       neutral or dissatisfied\n",
       "129860  0                       neutral or dissatisfied\n",
       "129861  0                       satisfied              \n",
       "129862  3                       neutral or dissatisfied\n",
       "129863  0                       neutral or dissatisfied\n",
       "129864 18                       neutral or dissatisfied\n",
       "129865  0                       neutral or dissatisfied\n",
       "129866  0                       satisfied              \n",
       "129867  0                       neutral or dissatisfied\n",
       "129868  0                       neutral or dissatisfied\n",
       "129869 28                       neutral or dissatisfied\n",
       "129870  0                       neutral or dissatisfied\n",
       "129871 17                       neutral or dissatisfied\n",
       "129872  0                       neutral or dissatisfied\n",
       "129873  3                       neutral or dissatisfied\n",
       "129874  0                       satisfied              \n",
       "129875  0                       neutral or dissatisfied\n",
       "129876  0                       neutral or dissatisfied\n",
       "129877  0                       satisfied              \n",
       "129878  0                       neutral or dissatisfied\n",
       "129879  0                       satisfied              \n",
       "129880  0                       neutral or dissatisfied"
      ]
     },
     "metadata": {},
     "output_type": "display_data"
    }
   ],
   "source": [
    "df"
   ]
  },
  {
   "cell_type": "code",
   "execution_count": 296,
   "id": "845fa4f3",
   "metadata": {
    "vscode": {
     "languageId": "r"
    }
   },
   "outputs": [],
   "source": [
    "# Data Modeling"
   ]
  },
  {
   "cell_type": "code",
   "execution_count": 297,
   "id": "7fcae85d",
   "metadata": {
    "vscode": {
     "languageId": "r"
    }
   },
   "outputs": [],
   "source": [
    "# Here we deploy machine learning models on the data"
   ]
  },
  {
   "cell_type": "code",
   "execution_count": 298,
   "id": "ae577e56",
   "metadata": {
    "vscode": {
     "languageId": "r"
    }
   },
   "outputs": [],
   "source": [
    "# Here we the split the data using sample.split(), with split ration of 80:20"
   ]
  },
  {
   "cell_type": "code",
   "execution_count": 158,
   "id": "492a373c",
   "metadata": {
    "vscode": {
     "languageId": "r"
    }
   },
   "outputs": [],
   "source": [
    "set.seed(400)\n",
    "split <- sample.split(df, SplitRatio = 0.8)"
   ]
  },
  {
   "cell_type": "code",
   "execution_count": 159,
   "id": "8ad4da55",
   "metadata": {
    "vscode": {
     "languageId": "r"
    }
   },
   "outputs": [],
   "source": [
    "train = subset(df, split == TRUE)\n",
    "test = subset(df, split == FALSE)"
   ]
  },
  {
   "cell_type": "code",
   "execution_count": 96,
   "id": "fcb7177d",
   "metadata": {
    "vscode": {
     "languageId": "r"
    }
   },
   "outputs": [],
   "source": [
    "# RANDOM FOREST"
   ]
  },
  {
   "cell_type": "code",
   "execution_count": 97,
   "id": "140558c5",
   "metadata": {
    "vscode": {
     "languageId": "r"
    }
   },
   "outputs": [],
   "source": [
    "# We create first model with default number of trees and variables, which will be 500 tress with 3 randomly chosen variables\n",
    "# in each tree"
   ]
  },
  {
   "cell_type": "code",
   "execution_count": 145,
   "id": "3294e1d1",
   "metadata": {
    "vscode": {
     "languageId": "r"
    }
   },
   "outputs": [],
   "source": [
    "model_1 = randomForest(satisfaction ~ Customer.Type + Type.of.Travel + Inflight.wifi.service +\n",
    "                       Departure.Arrival.time.convenient + Online.boarding +\n",
    "                       Seat.comfort + Inflight.entertainment + On.board.service + Leg.room.service\n",
    "                       + Baggage.handling + Checkin.service \n",
    "                        + Inflight.service + Cleanliness + Arrival.Delay.in.Minutes,\n",
    "                      data = train, importance = TRUE)"
   ]
  },
  {
   "cell_type": "code",
   "execution_count": 99,
   "id": "91b1a40d",
   "metadata": {
    "vscode": {
     "languageId": "r"
    }
   },
   "outputs": [
    {
     "name": "stdout",
     "output_type": "stream",
     "text": [
      "\n",
      "Call:\n",
      " randomForest(formula = satisfaction ~ Customer.Type + Type.of.Travel +      Inflight.wifi.service + Departure.Arrival.time.convenient +      Online.boarding + Seat.comfort + Inflight.entertainment +      On.board.service + Leg.room.service + Baggage.handling +      Checkin.service + Inflight.service + Cleanliness + Arrival.Delay.in.Minutes,      data = train, importance = TRUE) \n",
      "               Type of random forest: classification\n",
      "                     Number of trees: 500\n",
      "No. of variables tried at each split: 3\n",
      "\n",
      "        OOB estimate of  error rate: 3.92%\n",
      "Confusion matrix:\n",
      "                        neutral or dissatisfied satisfied class.error\n",
      "neutral or dissatisfied                   54937      1133  0.02020688\n",
      "satisfied                                  2756     40494  0.06372254\n"
     ]
    }
   ],
   "source": [
    "print(model_1)"
   ]
  },
  {
   "cell_type": "code",
   "execution_count": null,
   "id": "43f662a9",
   "metadata": {
    "vscode": {
     "languageId": "r"
    }
   },
   "outputs": [],
   "source": [
    "# Further to fine-tune the model, we try different values for mtry, which will be numberof variables and compare the accuracy"
   ]
  },
  {
   "cell_type": "code",
   "execution_count": 216,
   "id": "bddf1f55",
   "metadata": {
    "vscode": {
     "languageId": "r"
    }
   },
   "outputs": [],
   "source": [
    "a=c()\n",
    "i=6\n",
    "for (i in 4:6) {\n",
    "  model_2 <- randomForest(satisfaction ~ Customer.Type + Type.of.Travel + Inflight.wifi.service +\n",
    "                        Departure.Arrival.time.convenient + Online.boarding +\n",
    "                        Seat.comfort + Inflight.entertainment + On.board.service + Leg.room.service\n",
    "                        + Baggage.handling + Checkin.service + Ease.of.Online.booking\n",
    "                         + Inflight.service + Cleanliness + Arrival.Delay.in.Minutes,\n",
    "                        data = train,mtry = i,importance = TRUE)\n",
    "   pred <- predict(model_2, test, type = \"class\")\n",
    "   a[i-2] = mean(pred == test$satisfaction)\n",
    "}\n"
   ]
  },
  {
   "cell_type": "code",
   "execution_count": 218,
   "id": "cc171dc2",
   "metadata": {
    "vscode": {
     "languageId": "r"
    }
   },
   "outputs": [
    {
     "data": {
      "text/html": [
       "<style>\n",
       ".list-inline {list-style: none; margin:0; padding: 0}\n",
       ".list-inline>li {display: inline-block}\n",
       ".list-inline>li:not(:last-child)::after {content: \"\\00b7\"; padding: 0 .5ex}\n",
       "</style>\n",
       "<ol class=list-inline><li>&lt;NA&gt;</li><li>0.960929319371728</li><li>0.960045811518325</li><li>0.959947643979058</li></ol>\n"
      ],
      "text/latex": [
       "\\begin{enumerate*}\n",
       "\\item <NA>\n",
       "\\item 0.960929319371728\n",
       "\\item 0.960045811518325\n",
       "\\item 0.959947643979058\n",
       "\\end{enumerate*}\n"
      ],
      "text/markdown": [
       "1. &lt;NA&gt;\n",
       "2. 0.960929319371728\n",
       "3. 0.960045811518325\n",
       "4. 0.959947643979058\n",
       "\n",
       "\n"
      ],
      "text/plain": [
       "[1]        NA 0.9609293 0.9600458 0.9599476"
      ]
     },
     "metadata": {},
     "output_type": "display_data"
    }
   ],
   "source": [
    "a"
   ]
  },
  {
   "cell_type": "code",
   "execution_count": null,
   "id": "3da6da8f",
   "metadata": {
    "vscode": {
     "languageId": "r"
    }
   },
   "outputs": [],
   "source": [
    "# Thus our baseline model with mtry = 3, has best accuracy, thus we move forward with it"
   ]
  },
  {
   "cell_type": "code",
   "execution_count": 227,
   "id": "d6d9bd02",
   "metadata": {
    "vscode": {
     "languageId": "r"
    }
   },
   "outputs": [],
   "source": [
    "pred_1 = predict(model_1, test, type = \"class\")\n",
    "acc = mean(pred_1 == test$satisfaction)"
   ]
  },
  {
   "cell_type": "code",
   "execution_count": 149,
   "id": "194b48a8",
   "metadata": {
    "vscode": {
     "languageId": "r"
    }
   },
   "outputs": [
    {
     "data": {
      "text/plain": [
       "Confusion Matrix and Statistics\n",
       "\n",
       "                         Reference\n",
       "Prediction                neutral or dissatisfied satisfied\n",
       "  neutral or dissatisfied                   17056       849\n",
       "  satisfied                                   326     12329\n",
       "                                                 \n",
       "               Accuracy : 0.9616                 \n",
       "                 95% CI : (0.9593, 0.9637)       \n",
       "    No Information Rate : 0.5688                 \n",
       "    P-Value [Acc > NIR] : < 2.2e-16              \n",
       "                                                 \n",
       "                  Kappa : 0.9212                 \n",
       "                                                 \n",
       " Mcnemar's Test P-Value : < 2.2e-16              \n",
       "                                                 \n",
       "            Sensitivity : 0.9812                 \n",
       "            Specificity : 0.9356                 \n",
       "         Pos Pred Value : 0.9526                 \n",
       "         Neg Pred Value : 0.9742                 \n",
       "              Precision : 0.9526                 \n",
       "                 Recall : 0.9812                 \n",
       "                     F1 : 0.9667                 \n",
       "             Prevalence : 0.5688                 \n",
       "         Detection Rate : 0.5581                 \n",
       "   Detection Prevalence : 0.5859                 \n",
       "      Balanced Accuracy : 0.9584                 \n",
       "                                                 \n",
       "       'Positive' Class : neutral or dissatisfied\n",
       "                                                 "
      ]
     },
     "metadata": {},
     "output_type": "display_data"
    }
   ],
   "source": [
    "conf_rf <- confusionMatrix(data = (pred_1),reference = (test$satisfaction), mode = \"everything\")\n",
    "conf_rf "
   ]
  },
  {
   "cell_type": "code",
   "execution_count": null,
   "id": "08ef71bb",
   "metadata": {
    "vscode": {
     "languageId": "r"
    }
   },
   "outputs": [],
   "source": [
    "# LOGISTIC REGRESSION"
   ]
  },
  {
   "cell_type": "code",
   "execution_count": null,
   "id": "02a21462",
   "metadata": {
    "vscode": {
     "languageId": "r"
    }
   },
   "outputs": [],
   "source": [
    "# This is the baseline model with no-modification, we train the model named log_model_1 on the train data set."
   ]
  },
  {
   "cell_type": "code",
   "execution_count": 106,
   "id": "ee43c71f",
   "metadata": {
    "vscode": {
     "languageId": "r"
    }
   },
   "outputs": [],
   "source": [
    "log_model_1 = glm(satisfaction ~ Customer.Type + Type.of.Travel + Inflight.wifi.service +\n",
    "                       Departure.Arrival.time.convenient + Online.boarding +\n",
    "                       Seat.comfort + Inflight.entertainment + On.board.service + Leg.room.service\n",
    "                       + Baggage.handling + Checkin.service\n",
    "                        + Inflight.service + Cleanliness + Arrival.Delay.in.Minutes,\n",
    "                       data = train, family = 'binomial')"
   ]
  },
  {
   "cell_type": "code",
   "execution_count": 107,
   "id": "e2b833f0",
   "metadata": {
    "vscode": {
     "languageId": "r"
    }
   },
   "outputs": [
    {
     "data": {
      "text/plain": [
       "\n",
       "Call:\n",
       "glm(formula = satisfaction ~ Customer.Type + Type.of.Travel + \n",
       "    Inflight.wifi.service + Departure.Arrival.time.convenient + \n",
       "    Online.boarding + Seat.comfort + Inflight.entertainment + \n",
       "    On.board.service + Leg.room.service + Baggage.handling + \n",
       "    Checkin.service + Inflight.service + Cleanliness + Arrival.Delay.in.Minutes, \n",
       "    family = \"binomial\", data = train)\n",
       "\n",
       "Deviance Residuals: \n",
       "    Min       1Q   Median       3Q      Max  \n",
       "-2.7134  -0.5054  -0.1664   0.3961   4.0542  \n",
       "\n",
       "Coefficients:\n",
       "                                    Estimate Std. Error  z value Pr(>|z|)    \n",
       "(Intercept)                       -8.9000051  0.0677303 -131.404   <2e-16 ***\n",
       "Customer.Type                      2.1263597  0.0269932   78.774   <2e-16 ***\n",
       "Type.of.Travel                    -3.1851062  0.0272889 -116.718   <2e-16 ***\n",
       "Inflight.wifi.service              0.2812132  0.0094482   29.764   <2e-16 ***\n",
       "Departure.Arrival.time.convenient -0.1685041  0.0071660  -23.514   <2e-16 ***\n",
       "Online.boarding                    0.6172807  0.0099747   61.885   <2e-16 ***\n",
       "Seat.comfort                       0.1012035  0.0111623    9.067   <2e-16 ***\n",
       "Inflight.entertainment             0.0061332  0.0134237    0.457    0.648    \n",
       "On.board.service                   0.3243160  0.0101907   31.825   <2e-16 ***\n",
       "Leg.room.service                   0.2569785  0.0085785   29.956   <2e-16 ***\n",
       "Baggage.handling                   0.1681627  0.0115450   14.566   <2e-16 ***\n",
       "Checkin.service                    0.3440397  0.0086345   39.845   <2e-16 ***\n",
       "Inflight.service                   0.1656728  0.0121235   13.665   <2e-16 ***\n",
       "Cleanliness                        0.2341361  0.0119506   19.592   <2e-16 ***\n",
       "Arrival.Delay.in.Minutes          -0.0052076  0.0002705  -19.251   <2e-16 ***\n",
       "---\n",
       "Signif. codes:  0 '***' 0.001 '**' 0.01 '*' 0.05 '.' 0.1 ' ' 1\n",
       "\n",
       "(Dispersion parameter for binomial family taken to be 1)\n",
       "\n",
       "    Null deviance: 136027  on 99319  degrees of freedom\n",
       "Residual deviance:  67452  on 99305  degrees of freedom\n",
       "AIC: 67482\n",
       "\n",
       "Number of Fisher Scoring iterations: 6\n"
      ]
     },
     "metadata": {},
     "output_type": "display_data"
    }
   ],
   "source": [
    "summary(log_model_1)"
   ]
  },
  {
   "cell_type": "code",
   "execution_count": null,
   "id": "75f6265c",
   "metadata": {
    "vscode": {
     "languageId": "r"
    }
   },
   "outputs": [],
   "source": [
    "# We predict the outcome on test set, and outcome is in the range 0 to 1"
   ]
  },
  {
   "cell_type": "code",
   "execution_count": 108,
   "id": "06142768",
   "metadata": {
    "vscode": {
     "languageId": "r"
    }
   },
   "outputs": [],
   "source": [
    "pred_log_1 = predict(log_model_1, test, type = 'response')"
   ]
  },
  {
   "cell_type": "code",
   "execution_count": null,
   "id": "bd0fa341",
   "metadata": {
    "vscode": {
     "languageId": "r"
    }
   },
   "outputs": [],
   "source": [
    "# We set the threshold as 0.5 and everything less than that is neutral and more than that is encoded as satisfied"
   ]
  },
  {
   "cell_type": "code",
   "execution_count": 157,
   "id": "95a59229",
   "metadata": {
    "vscode": {
     "languageId": "r"
    }
   },
   "outputs": [],
   "source": [
    "f_pred_log_1 = ifelse(pred_log_1<0.5,'neutral or dissatisfied','satisfied')"
   ]
  },
  {
   "cell_type": "code",
   "execution_count": null,
   "id": "65b5e767",
   "metadata": {
    "vscode": {
     "languageId": "r"
    }
   },
   "outputs": [],
   "source": [
    "# As our predictions are in numbers, we convert the test set-satisfaction column to 1 and 0, to compare and calculate accuracy"
   ]
  },
  {
   "cell_type": "code",
   "execution_count": 160,
   "id": "bf6f6929",
   "metadata": {
    "vscode": {
     "languageId": "r"
    }
   },
   "outputs": [
    {
     "data": {
      "text/html": [
       "0.870811518324607"
      ],
      "text/latex": [
       "0.870811518324607"
      ],
      "text/markdown": [
       "0.870811518324607"
      ],
      "text/plain": [
       "[1] 0.8708115"
      ]
     },
     "metadata": {},
     "output_type": "display_data"
    }
   ],
   "source": [
    "#y_test = ifelse(test$satisfaction == 'satisfied',1,0)\n",
    "y_test = test$satisfaction\n",
    "acc = mean(f_pred_log_1 == y_test)\n",
    "acc"
   ]
  },
  {
   "cell_type": "code",
   "execution_count": 161,
   "id": "4cf44e1c",
   "metadata": {
    "vscode": {
     "languageId": "r"
    }
   },
   "outputs": [
    {
     "name": "stdout",
     "output_type": "stream",
     "text": [
      "                    Customer.Type                    Type.of.Travel \n",
      "                         1.308191                          1.331115 \n",
      "            Inflight.wifi.service Departure.Arrival.time.convenient \n",
      "                         1.480372                          1.294348 \n",
      "                  Online.boarding                      Seat.comfort \n",
      "                         1.369040                          1.983704 \n",
      "           Inflight.entertainment                  On.board.service \n",
      "                         2.823227                          1.601250 \n",
      "                 Leg.room.service                  Baggage.handling \n",
      "                         1.198797                          1.807484 \n",
      "                  Checkin.service                  Inflight.service \n",
      "                         1.197348                          1.980110 \n",
      "                      Cleanliness          Arrival.Delay.in.Minutes \n",
      "                         2.339156                          1.018448 \n"
     ]
    }
   ],
   "source": [
    "print(vif(log_model_1)) # Here we check for multicollinearity between the independent variables, and there is none."
   ]
  },
  {
   "cell_type": "code",
   "execution_count": null,
   "id": "6132bdee",
   "metadata": {
    "vscode": {
     "languageId": "r"
    }
   },
   "outputs": [],
   "source": [
    "# According to summary of model_1, the column Inflight.entertainment has least importance/effect in predicting the outcome\n",
    "# thus we drop the column and train another model named log_model_2"
   ]
  },
  {
   "cell_type": "code",
   "execution_count": 162,
   "id": "05f664d1",
   "metadata": {
    "vscode": {
     "languageId": "r"
    }
   },
   "outputs": [],
   "source": [
    "log_model_2 = glm(satisfaction ~ Customer.Type + Type.of.Travel + Inflight.wifi.service +\n",
    "                       Departure.Arrival.time.convenient + Online.boarding +\n",
    "                       Seat.comfort + Inflight.entertainment + On.board.service + Leg.room.service\n",
    "                       + Baggage.handling + Checkin.service\n",
    "                         + Cleanliness + Arrival.Delay.in.Minutes,\n",
    "                       data = train, family = 'binomial')"
   ]
  },
  {
   "cell_type": "code",
   "execution_count": 163,
   "id": "30067d9f",
   "metadata": {
    "vscode": {
     "languageId": "r"
    }
   },
   "outputs": [
    {
     "data": {
      "text/plain": [
       "\n",
       "Call:\n",
       "glm(formula = satisfaction ~ Customer.Type + Type.of.Travel + \n",
       "    Inflight.wifi.service + Departure.Arrival.time.convenient + \n",
       "    Online.boarding + Seat.comfort + Inflight.entertainment + \n",
       "    On.board.service + Leg.room.service + Baggage.handling + \n",
       "    Checkin.service + Cleanliness + Arrival.Delay.in.Minutes, \n",
       "    family = \"binomial\", data = train)\n",
       "\n",
       "Deviance Residuals: \n",
       "    Min       1Q   Median       3Q      Max  \n",
       "-2.7105  -0.5065  -0.1670   0.3986   4.0660  \n",
       "\n",
       "Coefficients:\n",
       "                                    Estimate Std. Error  z value Pr(>|z|)    \n",
       "(Intercept)                       -8.7184397  0.0658717 -132.355  < 2e-16 ***\n",
       "Customer.Type                      2.0885610  0.0267456   78.090  < 2e-16 ***\n",
       "Type.of.Travel                    -3.1524028  0.0270522 -116.530  < 2e-16 ***\n",
       "Inflight.wifi.service              0.2796947  0.0094176   29.699  < 2e-16 ***\n",
       "Departure.Arrival.time.convenient -0.1648779  0.0071432  -23.082  < 2e-16 ***\n",
       "Online.boarding                    0.6185592  0.0099566   62.125  < 2e-16 ***\n",
       "Seat.comfort                       0.0859181  0.0110833    7.752 9.04e-15 ***\n",
       "Inflight.entertainment             0.0527848  0.0129358    4.081 4.49e-05 ***\n",
       "On.board.service                   0.3545290  0.0099489   35.635  < 2e-16 ***\n",
       "Leg.room.service                   0.2688676  0.0085265   31.533  < 2e-16 ***\n",
       "Baggage.handling                   0.2261021  0.0107325   21.067  < 2e-16 ***\n",
       "Checkin.service                    0.3558179  0.0085832   41.455  < 2e-16 ***\n",
       "Cleanliness                        0.2148082  0.0118092   18.190  < 2e-16 ***\n",
       "Arrival.Delay.in.Minutes          -0.0053702  0.0002689  -19.967  < 2e-16 ***\n",
       "---\n",
       "Signif. codes:  0 '***' 0.001 '**' 0.01 '*' 0.05 '.' 0.1 ' ' 1\n",
       "\n",
       "(Dispersion parameter for binomial family taken to be 1)\n",
       "\n",
       "    Null deviance: 136027  on 99319  degrees of freedom\n",
       "Residual deviance:  67640  on 99306  degrees of freedom\n",
       "AIC: 67668\n",
       "\n",
       "Number of Fisher Scoring iterations: 5\n"
      ]
     },
     "metadata": {},
     "output_type": "display_data"
    }
   ],
   "source": [
    "summary(log_model_2)"
   ]
  },
  {
   "cell_type": "code",
   "execution_count": 164,
   "id": "c6cb84c2",
   "metadata": {
    "vscode": {
     "languageId": "r"
    }
   },
   "outputs": [],
   "source": [
    "pred_log_2 = predict(log_model_2, test, type = 'response')"
   ]
  },
  {
   "cell_type": "code",
   "execution_count": null,
   "id": "58b5d28b",
   "metadata": {
    "vscode": {
     "languageId": "r"
    }
   },
   "outputs": [],
   "source": [
    "# we convert the numerical predicted values to their corresponding labels"
   ]
  },
  {
   "cell_type": "code",
   "execution_count": 165,
   "id": "d3d9c8ff",
   "metadata": {
    "vscode": {
     "languageId": "r"
    }
   },
   "outputs": [],
   "source": [
    "f_pred_log_string = ifelse(pred_log_2<0.5,'neutral or dissatisfied','satisfied')"
   ]
  },
  {
   "cell_type": "code",
   "execution_count": 256,
   "id": "09ff706b",
   "metadata": {
    "vscode": {
     "languageId": "r"
    }
   },
   "outputs": [
    {
     "data": {
      "text/html": [
       "0.869273560209424"
      ],
      "text/latex": [
       "0.869273560209424"
      ],
      "text/markdown": [
       "0.869273560209424"
      ],
      "text/plain": [
       "[1] 0.8692736"
      ]
     },
     "metadata": {},
     "output_type": "display_data"
    }
   ],
   "source": [
    "y_test = test$satisfaction\n",
    "acc = mean(f_pred_log_string == y_test)\n",
    "acc"
   ]
  },
  {
   "cell_type": "code",
   "execution_count": null,
   "id": "263af4df",
   "metadata": {
    "vscode": {
     "languageId": "r"
    }
   },
   "outputs": [],
   "source": [
    "# There is slightly to almost no differene in accuracy, but the AIC increases thus we choose the baseline model, log_model_1"
   ]
  },
  {
   "cell_type": "code",
   "execution_count": 170,
   "id": "f4de673f",
   "metadata": {
    "vscode": {
     "languageId": "r"
    }
   },
   "outputs": [
    {
     "data": {
      "text/plain": [
       "Confusion Matrix and Statistics\n",
       "\n",
       "                         Reference\n",
       "Prediction                neutral or dissatisfied satisfied\n",
       "  neutral or dissatisfied                   15667      2280\n",
       "  satisfied                                  1715     10898\n",
       "                                         \n",
       "               Accuracy : 0.8693         \n",
       "                 95% CI : (0.8654, 0.873)\n",
       "    No Information Rate : 0.5688         \n",
       "    P-Value [Acc > NIR] : < 2.2e-16      \n",
       "                                         \n",
       "                  Kappa : 0.7321         \n",
       "                                         \n",
       " Mcnemar's Test P-Value : < 2.2e-16      \n",
       "                                         \n",
       "            Sensitivity : 0.8270         \n",
       "            Specificity : 0.9013         \n",
       "         Pos Pred Value : 0.8640         \n",
       "         Neg Pred Value : 0.8730         \n",
       "              Precision : 0.8640         \n",
       "                 Recall : 0.8270         \n",
       "                     F1 : 0.8451         \n",
       "             Prevalence : 0.4312         \n",
       "         Detection Rate : 0.3566         \n",
       "   Detection Prevalence : 0.4127         \n",
       "      Balanced Accuracy : 0.8642         \n",
       "                                         \n",
       "       'Positive' Class : satisfied      \n",
       "                                         "
      ]
     },
     "metadata": {},
     "output_type": "display_data"
    }
   ],
   "source": [
    "conf_log <- confusionMatrix(data = as.factor(f_pred_log_string),reference = as.factor(y_test),mode = \"everything\", positive = \"satisfied\")\n",
    "conf_log"
   ]
  },
  {
   "cell_type": "code",
   "execution_count": null,
   "id": "c9763391",
   "metadata": {
    "vscode": {
     "languageId": "r"
    }
   },
   "outputs": [],
   "source": [
    "# Final comparison"
   ]
  },
  {
   "cell_type": "code",
   "execution_count": 257,
   "id": "d37b861d",
   "metadata": {
    "vscode": {
     "languageId": "r"
    }
   },
   "outputs": [
    {
     "data": {
      "text/html": [
       "<table class=\"dataframe\">\n",
       "<caption>A data.frame: 2 × 7</caption>\n",
       "<thead>\n",
       "\t<tr><th scope=col>Model</th><th scope=col>Accuracy</th><th scope=col>f1score</th><th scope=col>recall</th><th scope=col>specificity</th><th scope=col>precision</th><th scope=col>kappa</th></tr>\n",
       "\t<tr><th scope=col>&lt;chr&gt;</th><th scope=col>&lt;dbl&gt;</th><th scope=col>&lt;dbl&gt;</th><th scope=col>&lt;dbl&gt;</th><th scope=col>&lt;dbl&gt;</th><th scope=col>&lt;dbl&gt;</th><th scope=col>&lt;dbl&gt;</th></tr>\n",
       "</thead>\n",
       "<tbody>\n",
       "\t<tr><td>Logistic Regression</td><td>0.8692</td><td>0.8451</td><td>0.8297</td><td>0.9013</td><td>0.8640</td><td>0.7321</td></tr>\n",
       "\t<tr><td>Random Forest      </td><td>0.9791</td><td>0.9817</td><td>0.9897</td><td>0.9651</td><td>0.9738</td><td>0.9573</td></tr>\n",
       "</tbody>\n",
       "</table>\n"
      ],
      "text/latex": [
       "A data.frame: 2 × 7\n",
       "\\begin{tabular}{lllllll}\n",
       " Model & Accuracy & f1score & recall & specificity & precision & kappa\\\\\n",
       " <chr> & <dbl> & <dbl> & <dbl> & <dbl> & <dbl> & <dbl>\\\\\n",
       "\\hline\n",
       "\t Logistic Regression & 0.8692 & 0.8451 & 0.8297 & 0.9013 & 0.8640 & 0.7321\\\\\n",
       "\t Random Forest       & 0.9791 & 0.9817 & 0.9897 & 0.9651 & 0.9738 & 0.9573\\\\\n",
       "\\end{tabular}\n"
      ],
      "text/markdown": [
       "\n",
       "A data.frame: 2 × 7\n",
       "\n",
       "| Model &lt;chr&gt; | Accuracy &lt;dbl&gt; | f1score &lt;dbl&gt; | recall &lt;dbl&gt; | specificity &lt;dbl&gt; | precision &lt;dbl&gt; | kappa &lt;dbl&gt; |\n",
       "|---|---|---|---|---|---|---|\n",
       "| Logistic Regression | 0.8692 | 0.8451 | 0.8297 | 0.9013 | 0.8640 | 0.7321 |\n",
       "| Random Forest       | 0.9791 | 0.9817 | 0.9897 | 0.9651 | 0.9738 | 0.9573 |\n",
       "\n"
      ],
      "text/plain": [
       "  Model               Accuracy f1score recall specificity precision kappa \n",
       "1 Logistic Regression 0.8692   0.8451  0.8297 0.9013      0.8640    0.7321\n",
       "2 Random Forest       0.9791   0.9817  0.9897 0.9651      0.9738    0.9573"
      ]
     },
     "metadata": {},
     "output_type": "display_data"
    }
   ],
   "source": [
    "Model <- c(\"Logistic Regression\", \"Random Forest\")\n",
    "Accuracy <- c(0.8692,0.9791)\n",
    "f1score <- c(0.8451,0.9817)\n",
    "recall <- c(0.8297,0.9897)\n",
    "specificity <-c(0.9013,0.9651)\n",
    "precision <- c(0.8640,0.9738)\n",
    "kappa <- c(0.7321,0.9573)\n",
    "\n",
    "df_1 <- data.frame(Model, Accuracy , f1score, recall,specificity,precision, kappa)\n",
    "\n",
    "(df_1)"
   ]
  },
  {
   "cell_type": "code",
   "execution_count": null,
   "id": "a3f501fe",
   "metadata": {
    "vscode": {
     "languageId": "r"
    }
   },
   "outputs": [],
   "source": [
    "# AUC ROC for Random Forest"
   ]
  },
  {
   "cell_type": "code",
   "execution_count": 251,
   "id": "d4deea74",
   "metadata": {
    "vscode": {
     "languageId": "r"
    }
   },
   "outputs": [
    {
     "data": {
      "image/png": "[encoded data removed]",
      "text/plain": [
       "plot without title"
      ]
     },
     "metadata": {
      "image/png": {
       "height": 420,
       "width": 420
      }
     },
     "output_type": "display_data"
    }
   ],
   "source": [
    "pred_0 = predict(model_1, test, type = \"response\")\n",
    "pred_0 = ifelse(pred_0=='satisfied',1,0)\n",
    "num_y = ifelse(test$satisfaction=='satisfied',1,0)\n",
    "pred = prediction(pred_0, num_y)\n",
    "roc = performance(pred,\"tpr\",\"fpr\")\n",
    "plot(roc, colorize = T, lwd = 2)\n",
    "abline(a = 0, b = 1) "
   ]
  },
  {
   "cell_type": "code",
   "execution_count": null,
   "id": "126e3e39",
   "metadata": {
    "vscode": {
     "languageId": "r"
    }
   },
   "outputs": [],
   "source": [
    "# AUC ROC for Logistic Regression "
   ]
  },
  {
   "cell_type": "code",
   "execution_count": 250,
   "id": "50b0885a",
   "metadata": {
    "vscode": {
     "languageId": "r"
    }
   },
   "outputs": [
    {
     "data": {
      "image/png": "[encoded data removed]",
      "text/plain": [
       "plot without title"
      ]
     },
     "metadata": {
      "image/png": {
       "height": 420,
       "width": 420
      }
     },
     "output_type": "display_data"
    }
   ],
   "source": [
    "pred = prediction(pred_log_1, num_y)\n",
    "roc = performance(pred,\"tpr\",\"fpr\")\n",
    "plot(roc, colorize = T, lwd = 2)\n",
    "abline(a = 0, b = 1) "
   ]
  },
  {
   "cell_type": "code",
   "execution_count": null,
   "id": "d0c0b74f",
   "metadata": {
    "vscode": {
     "languageId": "r"
    }
   },
   "outputs": [],
   "source": [
    "# confusion matrix for Random Forest"
   ]
  },
  {
   "cell_type": "code",
   "execution_count": null,
   "id": "c3e0645d",
   "metadata": {
    "vscode": {
     "languageId": "r"
    }
   },
   "outputs": [],
   "source": [
    "# Looking at both the ROC curves, we can say that Random forest has better seperabality, with much precise predictions, than \n",
    "# logistic regression"
   ]
  },
  {
   "cell_type": "code",
   "execution_count": 252,
   "id": "2228357e",
   "metadata": {
    "vscode": {
     "languageId": "r"
    }
   },
   "outputs": [
    {
     "name": "stderr",
     "output_type": "stream",
     "text": [
      "\u001b[1m\u001b[22mScale for \u001b[32mfill\u001b[39m is already present.\n",
      "Adding another scale for \u001b[32mfill\u001b[39m, which will replace the existing scale.\n"
     ]
    },
    {
     "data": {
      "image/png": "[encoded data removed]",
      "text/plain": [
       "plot without title"
      ]
     },
     "metadata": {
      "image/png": {
       "height": 420,
       "width": 420
      }
     },
     "output_type": "display_data"
    }
   ],
   "source": [
    "set.seed(123)\n",
    "truth_predicted <- data.frame(\n",
    "  obs = test$satisfaction,\n",
    "  pred = pred_1\n",
    ")\n",
    "truth_predicted$obs <- as.factor(truth_predicted$obs)\n",
    "truth_predicted$pred <- as.factor(truth_predicted$pred)\n",
    "cm <- conf_mat(truth_predicted, obs, pred)\n",
    "\n",
    "autoplot(cm, type = \"heatmap\") +\n",
    "  scale_fill_gradient(low=\"#D6EAF8\",high = \"#2E86C1\")"
   ]
  },
  {
   "cell_type": "code",
   "execution_count": null,
   "id": "c5d94b7b",
   "metadata": {
    "vscode": {
     "languageId": "r"
    }
   },
   "outputs": [],
   "source": [
    "# confusion matrix for Logistic Regression"
   ]
  },
  {
   "cell_type": "code",
   "execution_count": 171,
   "id": "c35661a4",
   "metadata": {
    "vscode": {
     "languageId": "r"
    }
   },
   "outputs": [],
   "source": [
    "set.seed(123)\n",
    "truth_predicted <- data.frame(\n",
    "  obs = y_test,\n",
    "  pred = f_pred_log_string\n",
    ")\n",
    "truth_predicted$obs <- as.factor(truth_predicted$obs)\n",
    "truth_predicted$pred <- as.factor(truth_predicted$pred)"
   ]
  },
  {
   "cell_type": "code",
   "execution_count": 172,
   "id": "b1c3177b",
   "metadata": {
    "vscode": {
     "languageId": "r"
    }
   },
   "outputs": [
    {
     "name": "stderr",
     "output_type": "stream",
     "text": [
      "\u001b[1m\u001b[22mScale for \u001b[32mfill\u001b[39m is already present.\n",
      "Adding another scale for \u001b[32mfill\u001b[39m, which will replace the existing scale.\n"
     ]
    },
    {
     "data": {
      "image/png": "[encoded data removed]",
      "text/plain": [
       "plot without title"
      ]
     },
     "metadata": {
      "image/png": {
       "height": 420,
       "width": 420
      }
     },
     "output_type": "display_data"
    }
   ],
   "source": [
    "library(yardstick)\n",
    "library(ggplot2)\n",
    "\n",
    "# The confusion matrix from a single assessment set (i.e. fold)\n",
    "cm <- conf_mat(truth_predicted, obs, pred)\n",
    "\n",
    "autoplot(cm, type = \"heatmap\") +\n",
    "  scale_fill_gradient(low=\"#D6EAF8\",high = \"#2E86C1\")"
   ]
  },
  {
   "cell_type": "code",
   "execution_count": null,
   "id": "54200421",
   "metadata": {
    "vscode": {
     "languageId": "r"
    }
   },
   "outputs": [],
   "source": [
    "# Looking at the above metrics we can state that Random Forest is the ideal algorithm for the given problem statement,"
   ]
  }
 ],
 "metadata": {
  "kernelspec": {
   "display_name": "R",
   "language": "R",
   "name": "ir"
  },
  "language_info": {
   "codemirror_mode": "r",
   "file_extension": ".r",
   "mimetype": "text/x-r-source",
   "name": "R",
   "pygments_lexer": "r",
   "version": "4.1.3"
  }
 },
 "nbformat": 4,
 "nbformat_minor": 5
}
